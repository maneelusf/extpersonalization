{
 "cells": [
  {
   "cell_type": "markdown",
   "id": "8c663af9",
   "metadata": {},
   "source": [
    "### Integrated Gradients\n",
    "https://captum.ai/docs/attribution_algorithms#integrated-gradients"
   ]
  },
  {
   "cell_type": "code",
   "execution_count": null,
   "id": "10d162d7",
   "metadata": {},
   "outputs": [],
   "source": [
    "import torch\n",
    "import torch.nn.functional as F\n",
    "from torch import nn\n",
    "from captum.attr import IntegratedGradients\n",
    "\n",
    "# Define a GRU-based model\n",
    "class GRUModel(nn.Module):\n",
    "    def __init__(self, input_size, hidden_size, output_size):\n",
    "        super(GRUModel, self).__init__()\n",
    "        self.hidden_size = hidden_size\n",
    "        self.gru = nn.GRU(input_size, hidden_size)\n",
    "        self.fc = nn.Linear(hidden_size, output_size)\n",
    "\n",
    "    def forward(self, x):\n",
    "        batch_size = x.size(0)\n",
    "        h0 = torch.zeros(1, batch_size, self.hidden_size)\n",
    "        out, _ = self.gru(x, h0)\n",
    "        out = F.relu(out)\n",
    "        out = self.fc(out)\n",
    "        return out\n",
    "\n",
    "# Define a function to compute IntegratedGradients\n",
    "def compute_ig(model, x, baseline):\n",
    "    ig = IntegratedGradients(model)\n",
    "    out = model(x)\n",
    "    attributions, delta = ig.attribute(x, baseline, return_convergence_delta=True)\n",
    "    return attributions, delta\n",
    "\n",
    "# Example usage\n",
    "model = GRUModel(input_size=10, hidden_size=5, output_size=2)\n",
    "x = torch.randn(3, 5, 10)  # input sequence with batch size=3, sequence length=5, and input size=10\n",
    "baseline = torch.zeros_like(x)  # baseline tensor with the same shape as the input\n",
    "assert baseline.shape == x.shape, \"Baseline tensor must have the same shape as the input tensor\"\n",
    "target = torch.tensor([1])  # target class\n",
    "\n",
    "# Compute IntegratedGradients for the input sequence\n",
    "ig, delta = compute_ig(model, x, baseline)\n",
    "\n",
    "# Print the IntegratedGradients scores for each element in the input sequence\n",
    "print(\"IntegratedGradients scores:\", ig.sum(dim=2))\n",
    "print(\"Convergence delta:\", delta)\n"
   ]
  },
  {
   "cell_type": "markdown",
   "id": "23cf9be1",
   "metadata": {},
   "source": [
    "### Gradient SHAP\n",
    "https://captum.ai/docs/attribution_algorithms#gradient-shap"
   ]
  },
  {
   "cell_type": "code",
   "execution_count": null,
   "id": "b56082cc",
   "metadata": {},
   "outputs": [],
   "source": [
    "import torch\n",
    "import torch.nn as nn\n",
    "\n",
    "class GRU(nn.Module):\n",
    "    def __init__(self, input_size, hidden_size, num_layers, output_size):\n",
    "        super(GRU, self).__init__()\n",
    "        self.gru = nn.GRU(input_size=input_size, hidden_size=hidden_size, num_layers=num_layers, batch_first=True)\n",
    "        self.fc = nn.Linear(hidden_size, output_size)\n",
    "\n",
    "    def forward(self, x):\n",
    "        _, h_n = self.gru(x)\n",
    "        out = self.fc(h_n.squeeze(0))\n",
    "        return out\n",
    "from captum.attr import GradientShap\n",
    "import numpy as np\n",
    "\n",
    "# assume we have a trained GRU model and a test input tensor `x_test`\n",
    "model = GRU(input_size=10, hidden_size=20, num_layers=2, output_size=2)\n",
    "model.eval()\n",
    "x_test = torch.randn(1, 10)\n",
    "\n",
    "# define a baseline tensor to compare input to\n",
    "baseline = torch.zeros_like(x_test)\n",
    "\n",
    "# create a GradientShap object for the model\n",
    "grad_shap = GradientShap(model)\n",
    "\n",
    "# compute the attribution scores using Gradient SHAP\n",
    "attributions = grad_shap.attribute(x_test, baseline, n_samples=50)\n",
    "\n",
    "# print the importance scores for each input feature\n",
    "print('Importance scores:', attributions.squeeze(0).detach().numpy())\n"
   ]
  },
  {
   "cell_type": "markdown",
   "id": "0028e901",
   "metadata": {},
   "source": [
    "### Deep Lift SHAP\n",
    "https://captum.ai/docs/attribution_algorithms#deeplift-shap"
   ]
  },
  {
   "cell_type": "code",
   "execution_count": null,
   "id": "afdd0b10",
   "metadata": {},
   "outputs": [],
   "source": [
    "from captum.attr import DeepLiftShap\n",
    "\n",
    "# assume we have a trained GRU model and a test input tensor `x_test`\n",
    "model = GRU(input_size=10, hidden_size=20, num_layers=2, output_size=2)\n",
    "model.eval()\n",
    "x_test = torch.randn(1, 10)\n",
    "\n",
    "# define a baseline tensor to compare input to\n",
    "baseline = torch.zeros_like(x_test)\n",
    "\n",
    "# create a DeepLiftShap object for the model\n",
    "deep_lift_shap = DeepLiftShap(model)\n",
    "\n",
    "# compute the attribution scores using DeepLift SHAP\n",
    "attributions = deep_lift_shap.attribute(x_test, baseline)\n",
    "\n",
    "# print the importance scores for each input feature\n",
    "print('Importance scores:', attributions.squeeze(0).detach().numpy())\n"
   ]
  },
  {
   "cell_type": "markdown",
   "id": "c5af5af4",
   "metadata": {},
   "source": [
    "### Saliency\n",
    "https://captum.ai/docs/attribution_algorithms#saliency"
   ]
  },
  {
   "cell_type": "code",
   "execution_count": null,
   "id": "c951a19a",
   "metadata": {},
   "outputs": [],
   "source": [
    "from captum.attr import Saliency\n",
    "\n",
    "# assume we have a trained GRU model and a test input tensor `x_test`\n",
    "model = GRU(input_size=10, hidden_size=20, num_layers=2, output_size=2)\n",
    "model.eval()\n",
    "x_test = torch.randn(1, 10)\n",
    "\n",
    "# create a Saliency object for the model\n",
    "saliency = Saliency(model)\n",
    "\n",
    "# compute the attribution scores using saliency\n",
    "attributions = saliency.attribute(x_test)\n",
    "\n",
    "# print the importance scores for each input feature\n",
    "print('Importance scores:', attributions.squeeze(0).detach().numpy())\n"
   ]
  },
  {
   "cell_type": "markdown",
   "id": "4a3dd1f0",
   "metadata": {},
   "source": [
    "### Occlusion\n",
    "https://captum.ai/docs/attribution_algorithms#occlusion"
   ]
  },
  {
   "cell_type": "code",
   "execution_count": null,
   "id": "92568263",
   "metadata": {},
   "outputs": [],
   "source": [
    "from captum.attr import Occlusion\n",
    "\n",
    "# assume we have a trained GRU model and a test input tensor `x_test`\n",
    "model = GRU(input_size=10, hidden_size=20, num_layers=2, output_size=2)\n",
    "model.eval()\n",
    "x_test = torch.randn(1, 10)\n",
    "\n",
    "# define the sequence length and step size for occlusion\n",
    "sequence_length = 3\n",
    "step_size = 1\n",
    "\n",
    "# create an Occlusion object for the model\n",
    "occlusion = Occlusion(model)\n",
    "\n",
    "# compute the attribution scores using occlusion\n",
    "attributions = occlusion.attribute(x_test, sliding_window_shapes=(sequence_length,), strides=(step_size,))\n",
    "\n",
    "# print the importance scores for each input feature\n",
    "print('Importance scores:', attributions.squeeze(0).detach().numpy())\n"
   ]
  },
  {
   "cell_type": "code",
   "execution_count": 2,
   "id": "7ddef5d7",
   "metadata": {},
   "outputs": [
    {
     "ename": "AssertionError",
     "evalue": "Target not provided when necessary, cannot take gradient with respect to multiple outputs.",
     "output_type": "error",
     "traceback": [
      "\u001b[0;31m---------------------------------------------------------------------------\u001b[0m",
      "\u001b[0;31mAssertionError\u001b[0m                            Traceback (most recent call last)",
      "\u001b[0;32m/tmp/ipykernel_822047/1683893661.py\u001b[0m in \u001b[0;36m<module>\u001b[0;34m\u001b[0m\n\u001b[1;32m     49\u001b[0m \u001b[0;34m\u001b[0m\u001b[0m\n\u001b[1;32m     50\u001b[0m \u001b[0;31m# compute the attribution scores using integrated gradients\u001b[0m\u001b[0;34m\u001b[0m\u001b[0;34m\u001b[0m\u001b[0m\n\u001b[0;32m---> 51\u001b[0;31m \u001b[0mattribution_scores\u001b[0m \u001b[0;34m=\u001b[0m \u001b[0mig\u001b[0m\u001b[0;34m.\u001b[0m\u001b[0mattribute\u001b[0m\u001b[0;34m(\u001b[0m\u001b[0minputs\u001b[0m\u001b[0;34m)\u001b[0m\u001b[0;34m\u001b[0m\u001b[0;34m\u001b[0m\u001b[0m\n\u001b[0m",
      "\u001b[0;32m~/anaconda3/lib/python3.9/site-packages/captum/log/__init__.py\u001b[0m in \u001b[0;36mwrapper\u001b[0;34m(*args, **kwargs)\u001b[0m\n\u001b[1;32m     40\u001b[0m             \u001b[0;34m@\u001b[0m\u001b[0mwraps\u001b[0m\u001b[0;34m(\u001b[0m\u001b[0mfunc\u001b[0m\u001b[0;34m)\u001b[0m\u001b[0;34m\u001b[0m\u001b[0;34m\u001b[0m\u001b[0m\n\u001b[1;32m     41\u001b[0m             \u001b[0;32mdef\u001b[0m \u001b[0mwrapper\u001b[0m\u001b[0;34m(\u001b[0m\u001b[0;34m*\u001b[0m\u001b[0margs\u001b[0m\u001b[0;34m,\u001b[0m \u001b[0;34m**\u001b[0m\u001b[0mkwargs\u001b[0m\u001b[0;34m)\u001b[0m\u001b[0;34m:\u001b[0m\u001b[0;34m\u001b[0m\u001b[0;34m\u001b[0m\u001b[0m\n\u001b[0;32m---> 42\u001b[0;31m                 \u001b[0;32mreturn\u001b[0m \u001b[0mfunc\u001b[0m\u001b[0;34m(\u001b[0m\u001b[0;34m*\u001b[0m\u001b[0margs\u001b[0m\u001b[0;34m,\u001b[0m \u001b[0;34m**\u001b[0m\u001b[0mkwargs\u001b[0m\u001b[0;34m)\u001b[0m\u001b[0;34m\u001b[0m\u001b[0;34m\u001b[0m\u001b[0m\n\u001b[0m\u001b[1;32m     43\u001b[0m \u001b[0;34m\u001b[0m\u001b[0m\n\u001b[1;32m     44\u001b[0m             \u001b[0;32mreturn\u001b[0m \u001b[0mwrapper\u001b[0m\u001b[0;34m\u001b[0m\u001b[0;34m\u001b[0m\u001b[0m\n",
      "\u001b[0;32m~/anaconda3/lib/python3.9/site-packages/captum/attr/_core/integrated_gradients.py\u001b[0m in \u001b[0;36mattribute\u001b[0;34m(self, inputs, baselines, target, additional_forward_args, n_steps, method, internal_batch_size, return_convergence_delta)\u001b[0m\n\u001b[1;32m    284\u001b[0m             )\n\u001b[1;32m    285\u001b[0m         \u001b[0;32melse\u001b[0m\u001b[0;34m:\u001b[0m\u001b[0;34m\u001b[0m\u001b[0;34m\u001b[0m\u001b[0m\n\u001b[0;32m--> 286\u001b[0;31m             attributions = self._attribute(\n\u001b[0m\u001b[1;32m    287\u001b[0m                 \u001b[0minputs\u001b[0m\u001b[0;34m=\u001b[0m\u001b[0minputs\u001b[0m\u001b[0;34m,\u001b[0m\u001b[0;34m\u001b[0m\u001b[0;34m\u001b[0m\u001b[0m\n\u001b[1;32m    288\u001b[0m                 \u001b[0mbaselines\u001b[0m\u001b[0;34m=\u001b[0m\u001b[0mbaselines\u001b[0m\u001b[0;34m,\u001b[0m\u001b[0;34m\u001b[0m\u001b[0;34m\u001b[0m\u001b[0m\n",
      "\u001b[0;32m~/anaconda3/lib/python3.9/site-packages/captum/attr/_core/integrated_gradients.py\u001b[0m in \u001b[0;36m_attribute\u001b[0;34m(self, inputs, baselines, target, additional_forward_args, n_steps, method, step_sizes_and_alphas)\u001b[0m\n\u001b[1;32m    349\u001b[0m \u001b[0;34m\u001b[0m\u001b[0m\n\u001b[1;32m    350\u001b[0m         \u001b[0;31m# grads: dim -> (bsz * #steps x inputs[0].shape[1:], ...)\u001b[0m\u001b[0;34m\u001b[0m\u001b[0;34m\u001b[0m\u001b[0m\n\u001b[0;32m--> 351\u001b[0;31m         grads = self.gradient_func(\n\u001b[0m\u001b[1;32m    352\u001b[0m             \u001b[0mforward_fn\u001b[0m\u001b[0;34m=\u001b[0m\u001b[0mself\u001b[0m\u001b[0;34m.\u001b[0m\u001b[0mforward_func\u001b[0m\u001b[0;34m,\u001b[0m\u001b[0;34m\u001b[0m\u001b[0;34m\u001b[0m\u001b[0m\n\u001b[1;32m    353\u001b[0m             \u001b[0minputs\u001b[0m\u001b[0;34m=\u001b[0m\u001b[0mscaled_features_tpl\u001b[0m\u001b[0;34m,\u001b[0m\u001b[0;34m\u001b[0m\u001b[0;34m\u001b[0m\u001b[0m\n",
      "\u001b[0;32m~/anaconda3/lib/python3.9/site-packages/captum/_utils/gradient.py\u001b[0m in \u001b[0;36mcompute_gradients\u001b[0;34m(forward_fn, inputs, target_ind, additional_forward_args)\u001b[0m\n\u001b[1;32m    111\u001b[0m         \u001b[0;31m# runs forward pass\u001b[0m\u001b[0;34m\u001b[0m\u001b[0;34m\u001b[0m\u001b[0m\n\u001b[1;32m    112\u001b[0m         \u001b[0moutputs\u001b[0m \u001b[0;34m=\u001b[0m \u001b[0m_run_forward\u001b[0m\u001b[0;34m(\u001b[0m\u001b[0mforward_fn\u001b[0m\u001b[0;34m,\u001b[0m \u001b[0minputs\u001b[0m\u001b[0;34m,\u001b[0m \u001b[0mtarget_ind\u001b[0m\u001b[0;34m,\u001b[0m \u001b[0madditional_forward_args\u001b[0m\u001b[0;34m)\u001b[0m\u001b[0;34m\u001b[0m\u001b[0;34m\u001b[0m\u001b[0m\n\u001b[0;32m--> 113\u001b[0;31m         assert outputs[0].numel() == 1, (\n\u001b[0m\u001b[1;32m    114\u001b[0m             \u001b[0;34m\"Target not provided when necessary, cannot\"\u001b[0m\u001b[0;34m\u001b[0m\u001b[0;34m\u001b[0m\u001b[0m\n\u001b[1;32m    115\u001b[0m             \u001b[0;34m\" take gradient with respect to multiple outputs.\"\u001b[0m\u001b[0;34m\u001b[0m\u001b[0;34m\u001b[0m\u001b[0m\n",
      "\u001b[0;31mAssertionError\u001b[0m: Target not provided when necessary, cannot take gradient with respect to multiple outputs."
     ]
    }
   ],
   "source": [
    "import torch\n",
    "import torch.nn as nn\n",
    "from captum.attr import IntegratedGradients\n",
    "\n",
    "class GRU4Rec(nn.Module):\n",
    "    def __init__(self, input_size, hidden_size, output_size, num_layers=1):\n",
    "        super(GRU4Rec, self).__init__()\n",
    "        self.input_size = input_size\n",
    "        self.hidden_size = hidden_size\n",
    "        self.output_size = output_size\n",
    "        self.num_layers = num_layers\n",
    "        \n",
    "        # define the GRU layers\n",
    "        self.gru = nn.GRU(input_size, hidden_size, num_layers, batch_first=True)\n",
    "        \n",
    "        # define the output layer\n",
    "        self.fc = nn.Linear(hidden_size, output_size)\n",
    "        \n",
    "    def forward(self, x):\n",
    "        # input shape: (batch_size, seq_length, input_size)\n",
    "        batch_size = x.size(0)\n",
    "        \n",
    "        # initialize hidden state with zeros\n",
    "        h0 = torch.zeros(self.num_layers, batch_size, self.hidden_size).to(x.device)\n",
    "        \n",
    "        # pass input through GRU layer\n",
    "        out, _ = self.gru(x, h0)\n",
    "        \n",
    "        # reshape output from (batch_size, seq_length, hidden_size) to (batch_size*seq_length, hidden_size)\n",
    "        out = out.contiguous().view(-1, self.hidden_size)\n",
    "        \n",
    "        # pass output through output layer\n",
    "        out = self.fc(out)\n",
    "        \n",
    "        # reshape output back to (batch_size, seq_length, output_size)\n",
    "        out = out.view(batch_size, -1, self.output_size)\n",
    "        \n",
    "        # return output\n",
    "        return out\n",
    "\n",
    "# create an instance of the GRU4Rec model\n",
    "model = GRU4Rec(input_size=10, hidden_size=32, output_size=2)\n",
    "\n",
    "# create a sequence of inputs to explain\n",
    "inputs = torch.randn(1, 10, 10)\n",
    "\n",
    "# create an instance of the IntegratedGradients class\n",
    "ig = IntegratedGradients(model)\n",
    "\n",
    "# compute the attribution scores using integrated gradients\n",
    "attribution_scores = ig.attribute(inputs)\n"
   ]
  },
  {
   "cell_type": "code",
   "execution_count": null,
   "id": "6642cae7",
   "metadata": {},
   "outputs": [],
   "source": []
  }
 ],
 "metadata": {
  "kernelspec": {
   "display_name": "Python 3 (ipykernel)",
   "language": "python",
   "name": "python3"
  },
  "language_info": {
   "codemirror_mode": {
    "name": "ipython",
    "version": 3
   },
   "file_extension": ".py",
   "mimetype": "text/x-python",
   "name": "python",
   "nbconvert_exporter": "python",
   "pygments_lexer": "ipython3",
   "version": "3.9.13"
  }
 },
 "nbformat": 4,
 "nbformat_minor": 5
}
