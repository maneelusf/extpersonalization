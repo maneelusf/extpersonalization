{
 "cells": [
  {
   "cell_type": "markdown",
   "id": "d7b0df66",
   "metadata": {},
   "source": [
    "### Integrated Gradients\n",
    "https://captum.ai/docs/attribution_algorithms#integrated-gradients"
   ]
  },
  {
   "cell_type": "code",
   "execution_count": null,
   "id": "bc1a7454",
   "metadata": {},
   "outputs": [],
   "source": [
    "import torch\n",
    "import torch.nn.functional as F\n",
    "from torch import nn\n",
    "from captum.attr import IntegratedGradients\n",
    "\n",
    "# Define a GRU-based model\n",
    "class GRUModel(nn.Module):\n",
    "    def __init__(self, input_size, hidden_size, output_size):\n",
    "        super(GRUModel, self).__init__()\n",
    "        self.hidden_size = hidden_size\n",
    "        self.gru = nn.GRU(input_size, hidden_size)\n",
    "        self.fc = nn.Linear(hidden_size, output_size)\n",
    "\n",
    "    def forward(self, x):\n",
    "        batch_size = x.size(0)\n",
    "        h0 = torch.zeros(1, batch_size, self.hidden_size)\n",
    "        out, _ = self.gru(x, h0)\n",
    "        out = F.relu(out)\n",
    "        out = self.fc(out)\n",
    "        return out\n",
    "\n",
    "# Define a function to compute IntegratedGradients\n",
    "def compute_ig(model, x, baseline):\n",
    "    ig = IntegratedGradients(model)\n",
    "    out = model(x)\n",
    "    attributions, delta = ig.attribute(x, baseline, return_convergence_delta=True)\n",
    "    return attributions, delta\n",
    "\n",
    "# Example usage\n",
    "model = GRUModel(input_size=10, hidden_size=5, output_size=2)\n",
    "x = torch.randn(3, 5, 10)  # input sequence with batch size=3, sequence length=5, and input size=10\n",
    "baseline = torch.zeros_like(x)  # baseline tensor with the same shape as the input\n",
    "assert baseline.shape == x.shape, \"Baseline tensor must have the same shape as the input tensor\"\n",
    "target = torch.tensor([1])  # target class\n",
    "\n",
    "# Compute IntegratedGradients for the input sequence\n",
    "ig, delta = compute_ig(model, x, baseline)\n",
    "\n",
    "# Print the IntegratedGradients scores for each element in the input sequence\n",
    "print(\"IntegratedGradients scores:\", ig.sum(dim=2))\n",
    "print(\"Convergence delta:\", delta)\n"
   ]
  },
  {
   "cell_type": "markdown",
   "id": "c68ccf0d",
   "metadata": {},
   "source": [
    "### Gradient SHAP\n",
    "https://captum.ai/docs/attribution_algorithms#gradient-shap"
   ]
  },
  {
   "cell_type": "code",
   "execution_count": null,
   "id": "e218596c",
   "metadata": {},
   "outputs": [],
   "source": [
    "import torch\n",
    "import torch.nn as nn\n",
    "\n",
    "class GRU(nn.Module):\n",
    "    def __init__(self, input_size, hidden_size, num_layers, output_size):\n",
    "        super(GRU, self).__init__()\n",
    "        self.gru = nn.GRU(input_size=input_size, hidden_size=hidden_size, num_layers=num_layers, batch_first=True)\n",
    "        self.fc = nn.Linear(hidden_size, output_size)\n",
    "\n",
    "    def forward(self, x):\n",
    "        _, h_n = self.gru(x)\n",
    "        out = self.fc(h_n.squeeze(0))\n",
    "        return out\n",
    "from captum.attr import GradientShap\n",
    "import numpy as np\n",
    "\n",
    "# assume we have a trained GRU model and a test input tensor `x_test`\n",
    "model = GRU(input_size=10, hidden_size=20, num_layers=2, output_size=2)\n",
    "model.eval()\n",
    "x_test = torch.randn(1, 10)\n",
    "\n",
    "# define a baseline tensor to compare input to\n",
    "baseline = torch.zeros_like(x_test)\n",
    "\n",
    "# create a GradientShap object for the model\n",
    "grad_shap = GradientShap(model)\n",
    "\n",
    "# compute the attribution scores using Gradient SHAP\n",
    "attributions = grad_shap.attribute(x_test, baseline, n_samples=50)\n",
    "\n",
    "# print the importance scores for each input feature\n",
    "print('Importance scores:', attributions.squeeze(0).detach().numpy())\n"
   ]
  },
  {
   "cell_type": "markdown",
   "id": "3d2f2365",
   "metadata": {},
   "source": [
    "### Deep Lift SHAP\n",
    "https://captum.ai/docs/attribution_algorithms#deeplift-shap"
   ]
  },
  {
   "cell_type": "code",
   "execution_count": null,
   "id": "05e7a782",
   "metadata": {},
   "outputs": [],
   "source": [
    "from captum.attr import DeepLiftShap\n",
    "\n",
    "# assume we have a trained GRU model and a test input tensor `x_test`\n",
    "model = GRU(input_size=10, hidden_size=20, num_layers=2, output_size=2)\n",
    "model.eval()\n",
    "x_test = torch.randn(1, 10)\n",
    "\n",
    "# define a baseline tensor to compare input to\n",
    "baseline = torch.zeros_like(x_test)\n",
    "\n",
    "# create a DeepLiftShap object for the model\n",
    "deep_lift_shap = DeepLiftShap(model)\n",
    "\n",
    "# compute the attribution scores using DeepLift SHAP\n",
    "attributions = deep_lift_shap.attribute(x_test, baseline)\n",
    "\n",
    "# print the importance scores for each input feature\n",
    "print('Importance scores:', attributions.squeeze(0).detach().numpy())\n"
   ]
  },
  {
   "cell_type": "markdown",
   "id": "9c14e021",
   "metadata": {},
   "source": [
    "### Saliency\n",
    "https://captum.ai/docs/attribution_algorithms#saliency"
   ]
  },
  {
   "cell_type": "code",
   "execution_count": null,
   "id": "a5611d3d",
   "metadata": {},
   "outputs": [],
   "source": [
    "from captum.attr import Saliency\n",
    "\n",
    "# assume we have a trained GRU model and a test input tensor `x_test`\n",
    "model = GRU(input_size=10, hidden_size=20, num_layers=2, output_size=2)\n",
    "model.eval()\n",
    "x_test = torch.randn(1, 10)\n",
    "\n",
    "# create a Saliency object for the model\n",
    "saliency = Saliency(model)\n",
    "\n",
    "# compute the attribution scores using saliency\n",
    "attributions = saliency.attribute(x_test)\n",
    "\n",
    "# print the importance scores for each input feature\n",
    "print('Importance scores:', attributions.squeeze(0).detach().numpy())\n"
   ]
  },
  {
   "cell_type": "markdown",
   "id": "10614919",
   "metadata": {},
   "source": [
    "### Occlusion\n",
    "https://captum.ai/docs/attribution_algorithms#occlusion"
   ]
  },
  {
   "cell_type": "code",
   "execution_count": null,
   "id": "f9e1e341",
   "metadata": {},
   "outputs": [],
   "source": [
    "from captum.attr import Occlusion\n",
    "\n",
    "# assume we have a trained GRU model and a test input tensor `x_test`\n",
    "model = GRU(input_size=10, hidden_size=20, num_layers=2, output_size=2)\n",
    "model.eval()\n",
    "x_test = torch.randn(1, 10)\n",
    "\n",
    "# define the sequence length and step size for occlusion\n",
    "sequence_length = 3\n",
    "step_size = 1\n",
    "\n",
    "# create an Occlusion object for the model\n",
    "occlusion = Occlusion(model)\n",
    "\n",
    "# compute the attribution scores using occlusion\n",
    "attributions = occlusion.attribute(x_test, sliding_window_shapes=(sequence_length,), strides=(step_size,))\n",
    "\n",
    "# print the importance scores for each input feature\n",
    "print('Importance scores:', attributions.squeeze(0).detach().numpy())\n"
   ]
  }
 ],
 "metadata": {
  "kernelspec": {
   "display_name": "Python 3 (ipykernel)",
   "language": "python",
   "name": "python3"
  },
  "language_info": {
   "codemirror_mode": {
    "name": "ipython",
    "version": 3
   },
   "file_extension": ".py",
   "mimetype": "text/x-python",
   "name": "python",
   "nbconvert_exporter": "python",
   "pygments_lexer": "ipython3",
   "version": "3.9.13"
  }
 },
 "nbformat": 4,
 "nbformat_minor": 5
}
