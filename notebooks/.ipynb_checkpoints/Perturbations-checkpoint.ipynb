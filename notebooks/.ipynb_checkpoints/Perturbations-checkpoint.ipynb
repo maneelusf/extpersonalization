{
 "cells": [
  {
   "cell_type": "code",
   "execution_count": 1,
   "id": "281ce17a-e659-45ca-b7b7-89e1dc26a1bd",
   "metadata": {},
   "outputs": [],
   "source": [
    "%load_ext autoreload\n",
    "%autoreload 2"
   ]
  },
  {
   "cell_type": "code",
   "execution_count": 2,
   "id": "a0ba4d8f-d3f2-4768-96ab-840acbb4eaea",
   "metadata": {},
   "outputs": [],
   "source": [
    "import random\n",
    "import warnings\n",
    "\n",
    "import numpy as np\n",
    "import pandas as pd\n",
    "import torch\n",
    "from explainer import *\n",
    "from recbole.data.dataset import SequentialDataset\n",
    "from recbole.data.interaction import Interaction\n",
    "from recbole.quick_start.quick_start import load_data_and_model, run_recbole\n",
    "\n",
    "warnings.filterwarnings(\"ignore\")"
   ]
  },
  {
   "cell_type": "code",
   "execution_count": 3,
   "id": "120d890c-8ae1-4e7e-a31b-4f36da8faa9e",
   "metadata": {
    "tags": []
   },
   "outputs": [
    {
     "name": "stderr",
     "output_type": "stream",
     "text": [
      "27 Mar 09:57    INFO  \n",
      "General Hyper Parameters:\n",
      "gpu_id = 0\n",
      "use_gpu = True\n",
      "seed = 2020\n",
      "state = INFO\n",
      "reproducibility = True\n",
      "data_path = /home/ashrimal2/anaconda3/lib/python3.9/site-packages/recbole/config/../dataset_example/ml-100k\n",
      "checkpoint_dir = saved\n",
      "show_progress = True\n",
      "save_dataset = False\n",
      "dataset_save_path = None\n",
      "save_dataloaders = False\n",
      "dataloaders_save_path = None\n",
      "log_wandb = False\n",
      "\n",
      "Training Hyper Parameters:\n",
      "epochs = 300\n",
      "train_batch_size = 2048\n",
      "learner = adam\n",
      "learning_rate = 0.001\n",
      "train_neg_sample_args = {'distribution': 'none', 'sample_num': 'none', 'alpha': 'none', 'dynamic': False, 'candidate_num': 0}\n",
      "eval_step = 1\n",
      "stopping_step = 10\n",
      "clip_grad_norm = None\n",
      "weight_decay = 0.0\n",
      "loss_decimal_place = 4\n",
      "\n",
      "Evaluation Hyper Parameters:\n",
      "eval_args = {'split': {'LS': 'valid_and_test'}, 'order': 'TO', 'mode': 'full', 'group_by': 'user'}\n",
      "repeatable = True\n",
      "metrics = ['Recall', 'MRR', 'NDCG', 'Hit', 'Precision']\n",
      "topk = [10]\n",
      "valid_metric = MRR@10\n",
      "valid_metric_bigger = True\n",
      "eval_batch_size = 4096\n",
      "metric_decimal_place = 4\n",
      "\n",
      "Dataset Hyper Parameters:\n",
      "field_separator = \t\n",
      "seq_separator =  \n",
      "USER_ID_FIELD = user_id\n",
      "ITEM_ID_FIELD = item_id\n",
      "RATING_FIELD = rating\n",
      "TIME_FIELD = timestamp\n",
      "seq_len = None\n",
      "LABEL_FIELD = label\n",
      "threshold = None\n",
      "NEG_PREFIX = neg_\n",
      "load_col = {'inter': ['user_id', 'item_id', 'rating', 'timestamp']}\n",
      "unload_col = None\n",
      "unused_col = None\n",
      "additional_feat_suffix = None\n",
      "rm_dup_inter = None\n",
      "val_interval = None\n",
      "filter_inter_by_user_or_item = True\n",
      "user_inter_num_interval = None\n",
      "item_inter_num_interval = None\n",
      "alias_of_user_id = None\n",
      "alias_of_item_id = None\n",
      "alias_of_entity_id = None\n",
      "alias_of_relation_id = None\n",
      "preload_weight = None\n",
      "normalize_field = None\n",
      "normalize_all = True\n",
      "ITEM_LIST_LENGTH_FIELD = item_length\n",
      "LIST_SUFFIX = _list\n",
      "MAX_ITEM_LIST_LENGTH = 50\n",
      "POSITION_FIELD = position_id\n",
      "HEAD_ENTITY_ID_FIELD = head_id\n",
      "TAIL_ENTITY_ID_FIELD = tail_id\n",
      "RELATION_ID_FIELD = relation_id\n",
      "ENTITY_ID_FIELD = entity_id\n",
      "kg_reverse_r = False\n",
      "entity_kg_num_interval = None\n",
      "relation_kg_num_interval = None\n",
      "benchmark_filename = None\n",
      "\n",
      "Other Hyper Parameters: \n",
      "worker = 0\n",
      "wandb_project = recbole\n",
      "shuffle = True\n",
      "require_pow = False\n",
      "enable_amp = False\n",
      "enable_scaler = False\n",
      "transform = None\n",
      "embedding_size = 64\n",
      "hidden_size = 128\n",
      "num_layers = 1\n",
      "dropout_prob = 0.3\n",
      "loss_type = CE\n",
      "numerical_features = []\n",
      "discretization = None\n",
      "MODEL_TYPE = ModelType.SEQUENTIAL\n",
      "MODEL_INPUT_TYPE = InputType.POINTWISE\n",
      "eval_type = EvaluatorType.RANKING\n",
      "single_spec = True\n",
      "local_rank = 0\n",
      "device = cuda\n",
      "eval_neg_sample_args = {'distribution': 'uniform', 'sample_num': 'none'}\n",
      "\n",
      "\n",
      "27 Mar 09:57    INFO  ml-100k\n",
      "The number of users: 944\n",
      "Average actions of users: 106.04453870625663\n",
      "The number of items: 1683\n",
      "Average actions of items: 59.45303210463734\n",
      "The number of inters: 100000\n",
      "The sparsity of the dataset: 93.70575143257098%\n",
      "Remain Fields: ['user_id', 'item_id', 'rating', 'timestamp']\n",
      "27 Mar 09:57    INFO  [Training]: train_batch_size = [2048] train_neg_sample_args: [{'distribution': 'none', 'sample_num': 'none', 'alpha': 'none', 'dynamic': False, 'candidate_num': 0}]\n",
      "27 Mar 09:57    INFO  [Evaluation]: eval_batch_size = [4096] eval_args: [{'split': {'LS': 'valid_and_test'}, 'order': 'TO', 'mode': 'full', 'group_by': 'user'}]\n"
     ]
    }
   ],
   "source": [
    "(\n",
    "    config_1,\n",
    "    model_1,\n",
    "    dataset_1,\n",
    "    train_data_1,\n",
    "    valid_data_1,\n",
    "    test_data_1,\n",
    ") = load_data_and_model(\"saved/GRU4Rec-Mar-20-2023_14-29-56.pth\")"
   ]
  },
  {
   "cell_type": "code",
   "execution_count": 4,
   "id": "b72132b0-0a86-477c-88a8-7692eed9d059",
   "metadata": {},
   "outputs": [],
   "source": [
    "def convert_to_dataframe(dataset: SequentialDataset) -> pd.DataFrame:\n",
    "    # Get the number of instances in the dataset\n",
    "    n = len(dataset)\n",
    "\n",
    "    # Loop through the dataset and extract interactions as dictionaries\n",
    "    dicts = [dataset[i].interaction for i in range(n)]\n",
    "\n",
    "    # Convert the list of dictionaries to a Pandas DataFrame\n",
    "    df = pd.DataFrame(dicts)\n",
    "\n",
    "    # Convert tensors to numpy arrays\n",
    "    for col in df.columns:\n",
    "        df[col] = df[col].apply(lambda x: x.numpy())\n",
    "\n",
    "    return df"
   ]
  },
  {
   "cell_type": "code",
   "execution_count": 5,
   "id": "decfa94d-9a07-4a86-8a85-bd8b4592df8c",
   "metadata": {},
   "outputs": [],
   "source": [
    "train_df = convert_to_dataframe(train_data_1.dataset)"
   ]
  },
  {
   "cell_type": "code",
   "execution_count": 6,
   "id": "71f69adb-9562-4f18-a9bc-1a7fdc2925c7",
   "metadata": {},
   "outputs": [],
   "source": [
    "test_df = convert_to_dataframe(test_data_1.dataset)"
   ]
  },
  {
   "cell_type": "code",
   "execution_count": 7,
   "id": "b2464970-9f09-4ef8-8ef7-fb4aa1c6bc25",
   "metadata": {},
   "outputs": [],
   "source": [
    "# Select sequences to explain\n",
    "positive_sequence_id = np.random.choice(test_df.user_id.unique())\n",
    "pos_x_pd = test_df[test_df[\"user_id\"] == positive_sequence_id]"
   ]
  },
  {
   "cell_type": "code",
   "execution_count": 8,
   "id": "2f356bbf-a22d-4c22-850c-80eaf05e5e6f",
   "metadata": {},
   "outputs": [
    {
     "data": {
      "text/html": [
       "<div>\n",
       "<style scoped>\n",
       "    .dataframe tbody tr th:only-of-type {\n",
       "        vertical-align: middle;\n",
       "    }\n",
       "\n",
       "    .dataframe tbody tr th {\n",
       "        vertical-align: top;\n",
       "    }\n",
       "\n",
       "    .dataframe thead th {\n",
       "        text-align: right;\n",
       "    }\n",
       "</style>\n",
       "<table border=\"1\" class=\"dataframe\">\n",
       "  <thead>\n",
       "    <tr style=\"text-align: right;\">\n",
       "      <th></th>\n",
       "      <th>user_id</th>\n",
       "      <th>item_id</th>\n",
       "      <th>rating</th>\n",
       "      <th>timestamp</th>\n",
       "      <th>item_length</th>\n",
       "      <th>item_id_list</th>\n",
       "      <th>rating_list</th>\n",
       "      <th>timestamp_list</th>\n",
       "    </tr>\n",
       "  </thead>\n",
       "  <tbody>\n",
       "    <tr>\n",
       "      <th>864</th>\n",
       "      <td>143</td>\n",
       "      <td>5</td>\n",
       "      <td>0.5</td>\n",
       "      <td>0.897047</td>\n",
       "      <td>50</td>\n",
       "      <td>[215, 737, 951, 262, 269, 140, 116, 961, 1410,...</td>\n",
       "      <td>[0.75, 0.0, 0.25, 0.75, 0.75, 0.5, 0.75, 0.5, ...</td>\n",
       "      <td>[0.89700586, 0.89700586, 0.89700586, 0.8970058...</td>\n",
       "    </tr>\n",
       "  </tbody>\n",
       "</table>\n",
       "</div>"
      ],
      "text/plain": [
       "     user_id  item_id  rating  timestamp  item_length  \\\n",
       "864      143        5     0.5   0.897047           50   \n",
       "\n",
       "                                          item_id_list  \\\n",
       "864  [215, 737, 951, 262, 269, 140, 116, 961, 1410,...   \n",
       "\n",
       "                                           rating_list  \\\n",
       "864  [0.75, 0.0, 0.25, 0.75, 0.75, 0.5, 0.75, 0.5, ...   \n",
       "\n",
       "                                        timestamp_list  \n",
       "864  [0.89700586, 0.89700586, 0.89700586, 0.8970058...  "
      ]
     },
     "execution_count": 8,
     "metadata": {},
     "output_type": "execute_result"
    }
   ],
   "source": [
    "pos_x_pd"
   ]
  },
  {
   "cell_type": "code",
   "execution_count": 9,
   "id": "e20ab0dd-fa88-439e-90b0-91b2f9831338",
   "metadata": {},
   "outputs": [],
   "source": [
    "input_interaction = pd_to_interaction(pos_x_pd, config_1)"
   ]
  },
  {
   "cell_type": "code",
   "execution_count": 10,
   "id": "c77ebc55-fa77-45a7-854b-73ad1f6995e2",
   "metadata": {},
   "outputs": [
    {
     "data": {
      "text/plain": [
       "{'user_id': tensor([[143]], device='cuda:0'),\n",
       " 'item_id': tensor([5], device='cuda:0'),\n",
       " 'item_length': tensor([50], device='cuda:0'),\n",
       " 'item_id_list': tensor([[ 215,  737,  951,  262,  269,  140,  116,  961, 1410,  642, 1549,  252,\n",
       "           653, 1561,  840,  421, 1230,  891,   99,  185,  882,  555, 1001,  852,\n",
       "           270,  610,  631,   96,  361,  145, 1262,  816,  275, 1117, 1445,  667,\n",
       "           931,  336,  512,  701,  326,  290,   73, 1167,  131,  398, 1275,  960,\n",
       "          1403,  861]], device='cuda:0')}"
      ]
     },
     "execution_count": 10,
     "metadata": {},
     "output_type": "execute_result"
    }
   ],
   "source": [
    "input_interaction"
   ]
  },
  {
   "cell_type": "code",
   "execution_count": 11,
   "id": "59e56b3b-8f18-40a8-a7ec-1b6e9286e632",
   "metadata": {},
   "outputs": [
    {
     "data": {
      "text/plain": [
       "tensor([7.2366], device='cuda:0', grad_fn=<SumBackward1>)"
      ]
     },
     "execution_count": 11,
     "metadata": {},
     "output_type": "execute_result"
    }
   ],
   "source": [
    "model_1.predict(input_interaction)"
   ]
  },
  {
   "cell_type": "code",
   "execution_count": 12,
   "id": "4e9f3a56-491d-4e7a-b231-845506eb1ab1",
   "metadata": {},
   "outputs": [],
   "source": [
    "def most_popular_item():\n",
    "    popular_item = train_df[\"item_id\"].value_counts().idxmax()\n",
    "    return popular_item"
   ]
  },
  {
   "cell_type": "code",
   "execution_count": 13,
   "id": "2c4a8659-d7b8-43c9-b49a-be80dab96cbd",
   "metadata": {},
   "outputs": [],
   "source": [
    "def random_item():\n",
    "    unique_items = train_df[\"item_id\"].unique()\n",
    "    random_item = random.choice(unique_items)\n",
    "    return random_item"
   ]
  },
  {
   "cell_type": "code",
   "execution_count": 14,
   "id": "c008794e-1794-4dd1-b21a-d3a2af7383c9",
   "metadata": {},
   "outputs": [],
   "source": [
    "explainer = SeqExplainer(model_1)\n",
    "shap_values = explainer.explain(\n",
    "    input_interaction, replacement_func=random_item, num_samples=100\n",
    ")"
   ]
  },
  {
   "cell_type": "code",
   "execution_count": 15,
   "id": "82cded19-9b83-4fb0-bd41-4b76b3c1ae75",
   "metadata": {},
   "outputs": [
    {
     "data": {
      "text/plain": [
       "array([-0.68037271, -0.11585951, -1.12826777,  0.68360949,  0.29217529,\n",
       "       -0.27345276,  0.92179775, -1.69804811, -1.17586613, -0.12898445,\n",
       "        1.20713425, -0.11136484, -1.49181318, -0.06245184, -0.79625082,\n",
       "       -0.93729877,  1.77597952, -0.07284927,  1.18794155,  0.14886904,\n",
       "        0.41848755, -0.20160627,  0.21271801, -0.62880707,  0.38818932,\n",
       "       -0.10217047, -0.22945213, -1.08207369, -0.63306713, -0.91110563,\n",
       "       -0.59237194, -1.01236916,  0.29286623, -0.88370991,  0.01791668,\n",
       "       -0.50292206, -1.09311962, -0.06077671,  0.54199076, -0.03592396,\n",
       "       -1.1173296 , -0.96749687,  0.14804173, -0.93260431, -0.8372879 ,\n",
       "       -0.62054348, -0.56258011,  0.61767721,  1.02293682,  5.25321198])"
      ]
     },
     "execution_count": 15,
     "metadata": {},
     "output_type": "execute_result"
    }
   ],
   "source": [
    "shap_values"
   ]
  },
  {
   "cell_type": "code",
   "execution_count": 16,
   "id": "6bbd23cb-bb49-42e2-a635-d3b44ad3a0ae",
   "metadata": {},
   "outputs": [
    {
     "data": {
      "image/png": "[encoded data removed]",
      "text/plain": [
       "<Figure size 1000x1000 with 2 Axes>"
      ]
     },
     "metadata": {},
     "output_type": "display_data"
    }
   ],
   "source": [
    "sequence = input_interaction[\"item_id_list\"][0].tolist()\n",
    "plot_shap_values(shap_values, sequence)"
   ]
  },
  {
   "cell_type": "code",
   "execution_count": 17,
   "id": "816db6ca-fd97-41c7-8c2b-fdb67ca88f8f",
   "metadata": {},
   "outputs": [],
   "source": [
    "movies = pd.read_csv(\n",
    "    \"~/anaconda3/lib/python3.9/site-packages/recbole/dataset_example/ml-100k/ml-100k.item\",\n",
    "    sep=\"\\t\",\n",
    ")"
   ]
  },
  {
   "cell_type": "code",
   "execution_count": 18,
   "id": "547ea566-526f-4d9a-a359-66e3a39a415b",
   "metadata": {},
   "outputs": [
    {
     "data": {
      "text/html": [
       "<div>\n",
       "<style scoped>\n",
       "    .dataframe tbody tr th:only-of-type {\n",
       "        vertical-align: middle;\n",
       "    }\n",
       "\n",
       "    .dataframe tbody tr th {\n",
       "        vertical-align: top;\n",
       "    }\n",
       "\n",
       "    .dataframe thead th {\n",
       "        text-align: right;\n",
       "    }\n",
       "</style>\n",
       "<table border=\"1\" class=\"dataframe\">\n",
       "  <thead>\n",
       "    <tr style=\"text-align: right;\">\n",
       "      <th></th>\n",
       "      <th>item_id:token</th>\n",
       "      <th>movie_title:token_seq</th>\n",
       "      <th>release_year:token</th>\n",
       "      <th>class:token_seq</th>\n",
       "    </tr>\n",
       "  </thead>\n",
       "  <tbody>\n",
       "    <tr>\n",
       "      <th>0</th>\n",
       "      <td>1</td>\n",
       "      <td>Toy Story</td>\n",
       "      <td>1995</td>\n",
       "      <td>Animation Children's Comedy</td>\n",
       "    </tr>\n",
       "    <tr>\n",
       "      <th>1</th>\n",
       "      <td>2</td>\n",
       "      <td>GoldenEye</td>\n",
       "      <td>1995</td>\n",
       "      <td>Action Adventure Thriller</td>\n",
       "    </tr>\n",
       "    <tr>\n",
       "      <th>2</th>\n",
       "      <td>3</td>\n",
       "      <td>Four Rooms</td>\n",
       "      <td>1995</td>\n",
       "      <td>Thriller</td>\n",
       "    </tr>\n",
       "    <tr>\n",
       "      <th>3</th>\n",
       "      <td>4</td>\n",
       "      <td>Get Shorty</td>\n",
       "      <td>1995</td>\n",
       "      <td>Action Comedy Drama</td>\n",
       "    </tr>\n",
       "    <tr>\n",
       "      <th>4</th>\n",
       "      <td>5</td>\n",
       "      <td>Copycat</td>\n",
       "      <td>1995</td>\n",
       "      <td>Crime Drama Thriller</td>\n",
       "    </tr>\n",
       "    <tr>\n",
       "      <th>...</th>\n",
       "      <td>...</td>\n",
       "      <td>...</td>\n",
       "      <td>...</td>\n",
       "      <td>...</td>\n",
       "    </tr>\n",
       "    <tr>\n",
       "      <th>1677</th>\n",
       "      <td>1678</td>\n",
       "      <td>Mat' i syn</td>\n",
       "      <td>1997</td>\n",
       "      <td>Drama</td>\n",
       "    </tr>\n",
       "    <tr>\n",
       "      <th>1678</th>\n",
       "      <td>1679</td>\n",
       "      <td>B. Monkey</td>\n",
       "      <td>1998</td>\n",
       "      <td>Romance Thriller</td>\n",
       "    </tr>\n",
       "    <tr>\n",
       "      <th>1679</th>\n",
       "      <td>1680</td>\n",
       "      <td>Sliding Doors</td>\n",
       "      <td>1998</td>\n",
       "      <td>Drama Romance</td>\n",
       "    </tr>\n",
       "    <tr>\n",
       "      <th>1680</th>\n",
       "      <td>1681</td>\n",
       "      <td>You So Crazy</td>\n",
       "      <td>1994</td>\n",
       "      <td>Comedy</td>\n",
       "    </tr>\n",
       "    <tr>\n",
       "      <th>1681</th>\n",
       "      <td>1682</td>\n",
       "      <td>Scream of Stone (Schrei aus Stein)</td>\n",
       "      <td>1991</td>\n",
       "      <td>Drama</td>\n",
       "    </tr>\n",
       "  </tbody>\n",
       "</table>\n",
       "<p>1682 rows × 4 columns</p>\n",
       "</div>"
      ],
      "text/plain": [
       "      item_id:token               movie_title:token_seq release_year:token  \\\n",
       "0                 1                           Toy Story               1995   \n",
       "1                 2                           GoldenEye               1995   \n",
       "2                 3                          Four Rooms               1995   \n",
       "3                 4                          Get Shorty               1995   \n",
       "4                 5                             Copycat               1995   \n",
       "...             ...                                 ...                ...   \n",
       "1677           1678                          Mat' i syn               1997   \n",
       "1678           1679                           B. Monkey               1998   \n",
       "1679           1680                       Sliding Doors               1998   \n",
       "1680           1681                        You So Crazy               1994   \n",
       "1681           1682  Scream of Stone (Schrei aus Stein)               1991   \n",
       "\n",
       "                  class:token_seq  \n",
       "0     Animation Children's Comedy  \n",
       "1       Action Adventure Thriller  \n",
       "2                        Thriller  \n",
       "3             Action Comedy Drama  \n",
       "4            Crime Drama Thriller  \n",
       "...                           ...  \n",
       "1677                        Drama  \n",
       "1678             Romance Thriller  \n",
       "1679                Drama Romance  \n",
       "1680                       Comedy  \n",
       "1681                        Drama  \n",
       "\n",
       "[1682 rows x 4 columns]"
      ]
     },
     "execution_count": 18,
     "metadata": {},
     "output_type": "execute_result"
    }
   ],
   "source": [
    "movies"
   ]
  },
  {
   "cell_type": "code",
   "execution_count": 19,
   "id": "52a76f2a-35c8-4fe7-acc5-91237d7e997b",
   "metadata": {},
   "outputs": [
    {
     "name": "stdout",
     "output_type": "stream",
     "text": [
      "Query movie info:\n",
      "Movie Title: Copycat\n",
      "Release Year: 1995\n",
      "Class: Crime Drama Thriller\n",
      "\n",
      "Top-k movies:\n",
      "Movie Title: Nosferatu a Venezia\n",
      "Release Year: 1986\n",
      "Class: Horror\n",
      "SHAP: 5.253211975097656\n",
      "\n",
      "Movie Title: Ready to Wear (Pret-A-Porter)\n",
      "Release Year: 1994\n",
      "Class: Comedy\n",
      "SHAP: 1.7759795188903809\n",
      "\n",
      "Movie Title: Orlando\n",
      "Release Year: 1993\n",
      "Class: Drama\n",
      "SHAP: -1.6980481147766113\n",
      "\n",
      "Movie Title: Touch of Evil\n",
      "Release Year: 1958\n",
      "Class: Crime Film-Noir Thriller\n",
      "SHAP: -1.4918131828308105\n",
      "\n",
      "Movie Title: Dream Man\n",
      "Release Year: 1995\n",
      "Class: Thriller\n",
      "SHAP: 1.2071342468261719\n",
      "\n",
      "Movie Title: Snow White and the Seven Dwarfs\n",
      "Release Year: 1937\n",
      "Class: Animation Children's Musical\n",
      "SHAP: 1.187941551208496\n",
      "\n",
      "Movie Title: Harlem\n",
      "Release Year: 1993\n",
      "Class: Drama\n",
      "SHAP: -1.1758661270141602\n",
      "\n",
      "Movie Title: Indian in the Cupboard, The\n",
      "Release Year: 1995\n",
      "Class: Adventure Children's Fantasy\n",
      "SHAP: -1.128267765045166\n",
      "\n",
      "Movie Title: G.I. Jane\n",
      "Release Year: 1997\n",
      "Class: Action Drama War\n",
      "SHAP: -1.1173295974731445\n",
      "\n",
      "Movie Title: Island of Dr. Moreau, The\n",
      "Release Year: 1996\n",
      "Class: Sci-Fi Thriller\n",
      "SHAP: -1.0931196212768555\n",
      "\n"
     ]
    }
   ],
   "source": [
    "print_topk_movies(shap_values, sequence, dataset_1, input_interaction, movies, 10)"
   ]
  },
  {
   "cell_type": "code",
   "execution_count": null,
   "id": "d0e074e4-077f-4850-a1c6-03e9088fa69c",
   "metadata": {},
   "outputs": [],
   "source": []
  }
 ],
 "metadata": {
  "kernelspec": {
   "display_name": "Python 3 (ipykernel)",
   "language": "python",
   "name": "python3"
  },
  "language_info": {
   "codemirror_mode": {
    "name": "ipython",
    "version": 3
   },
   "file_extension": ".py",
   "mimetype": "text/x-python",
   "name": "python",
   "nbconvert_exporter": "python",
   "pygments_lexer": "ipython3",
   "version": "3.9.13"
  }
 },
 "nbformat": 4,
 "nbformat_minor": 5
}
