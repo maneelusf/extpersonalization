{
 "cells": [
  {
   "cell_type": "markdown",
   "id": "d5611462",
   "metadata": {},
   "source": [
    "## Algorithm to integrate TIMESHAP with Seq2Seq Models in detail"
   ]
  },
  {
   "cell_type": "markdown",
   "id": "5aa0fe28",
   "metadata": {},
   "source": [
    "### Introduction\n",
    "\n",
    "#### GRU4Rec algorithm\n",
    "\n",
    "GRU4Rec is a sequential recommender system which takes in a list of interactions that a user has watched or purchased and outputs a list of movies that are the most recommended. The algorithm for GRU4Rec that was trained is as follows:-\n",
    "1. Initialize EMBEDDINGS of item ids(64 taken)\n",
    "2. Pass sequence of item ids through a GRU(GRU params:hidden size = 64, input size = 64, layers = 2).\n",
    "3. The end output of the GRU is a 128 size vector(hidden size*layers).\n",
    "4. Linear layer from 128 to 64 resulting in a 64 bit vector. This marks the end of the training loop. \n",
    "5. The loss function is Bayesian Personized Ranking Loss which takes in an additional input of negative sampled items(items which the user has not seen before) and the positive item/target item is the next item in the sequence.\n",
    "\n",
    "<b>Note: The forward loop ends with a 64 bit embedded vector as the output.</b>\n",
    "\n",
    "#### GRU4Rec inference of recommended items algorithm\n",
    "\n",
    "1. The 64 bit vector obtained from the training loop has its similarity calculated with the EMBEDDINGS of the all the items in the corpus(3707 for ML-1m). \n",
    "2. The similarity metric taken is matrix multiplication.\n",
    "3. The resultant array is sorted in descending order with the index of the highest value being the first recommended item and so on. \n",
    "4. If there are 10 items to be selected, the top 10 indices are taken.\n",
    "\n",
    "#### TIMESHAP\n",
    "\n",
    "TimeSHAP is a model-agnostic, recurrent explainer that builds upon KernelSHAP and extends it to the sequential domain. \n",
    "As sequences can be arbitrarily long, TimeSHAP also implements a pruning algorithm based on Shapley Values, that finds a subset of consecutive, recent events that contribute the most to the decision. \n",
    "\n",
    "Note: In the above explanation,\"sequential domain\" is not being referred to seq2seq models where the output is a sequence. Based on the sample implementation of AREM, The authors of TIMESHAP have implemented it for a sequential model where the sequence limit is fixed and the output is a multi-classification problem(cycling/walking/running). Also, TIMESHAP is implemented on a dense numerical dataset where there are limited features. \n",
    "\n",
    "#### Challenges of integrating SHAP with seq2seq models\n",
    "\n",
    "1. In SHAP, the output is typically a single value that represents the model's prediction for a given input. However, for sequence-to-sequence recommender systems, the output is a list of recommended items, rather than a single value.\n",
    "2. When KERNELSHAP pertubes over items in the sequence by replacing with a baseline item(s), the output from the GRU4Rec model might result in a very different set of items which are not in common with the initially recommended sequence. \n",
    "3. In multiclass/label classification problems, SHAP is typically applied by calculating the SHAPLEY values for each label separately and then combining them to obtain an explanation for the entire list of labels. However, this approach may not work well in sequence-to-sequence recommender systems because the output sequences for perturbed inputs may differ significantly from the original output sequences. As a result, the difference in predictions between the original and perturbed inputs may not be informative for explaining the model's behavior.\n",
    "4. multiclass/label classification problems typically involve probabilistic measures, which are not directly applicable to sequence-to-sequence recommender systems that do not deal with probabilities. Unlike classification problems, sequence-to-sequence recommender systems do not have a softmax layer at the output, and the model's predictions are not interpreted as probabilities. \n",
    "\n",
    "\n",
    "#### Approach \n",
    "\n",
    "1. The first step is to generate a list of the top K recommended items, and to calculate their scores using a matrix multiplication of the output vector from the model's forward loop with each item. These scores are expected to be highly positive numbers.\n",
    "2. When perturbing the sequence with a baseline item, the output vector from the forward loop is calculated using the original top K recommended items, rather than calculating it with each individual item in the sequence.\n",
    "3. This approach is motivated by the hypothesis that the initial list of top K items should not result in a higher positive score when perturbing the sequence. The objective is to evaluate the effect of the perturbed items on the recommendation score relative to the original recommended items.\n",
    "4. For example, it is expected that the SHAPLEY values for events -1 to -5 will be the highest. Therefore, perturbing these events should result in a vector that is less similar to the recommended items. Conversely, the last items in a sequence (e.g. events -20 and onwards) should output a vector that is similar to the recommended items, as these events have less impact on the subsequent items in the sequence."
   ]
  },
  {
   "cell_type": "markdown",
   "id": "eb80de65",
   "metadata": {},
   "source": [
    "### Importing libraries"
   ]
  },
  {
   "cell_type": "code",
   "execution_count": 1,
   "id": "42a799f0",
   "metadata": {},
   "outputs": [],
   "source": [
    "import sys\n",
    "import os\n",
    "\n",
    "curr_path = os.getcwd().split('/')\n",
    "curr_path = curr_path[:len(curr_path) - 1]\n",
    "curr_path.append('src')\n",
    "curr_path = '/'.join(curr_path)\n",
    "if curr_path not in sys.path:\n",
    "    sys.path.append(curr_path)\n",
    "from models.sequential.GRU4Rec import GRU4Rec\n",
    "from torch.utils.data import DataLoader\n",
    "from helpers import BaseRunner\n",
    "import torch\n",
    "import torch.nn as nn\n",
    "import numpy as np\n",
    "import pickle\n",
    "import pandas as pd\n",
    "from time import time\n",
    "import gc\n",
    "from tqdm import tqdm\n",
    "from utils import utils\n",
    "from timeshap.wrappers import TorchModelWrapper\n",
    "from timeshap.utils import get_avg_score_with_avg_event\n",
    "import matplotlib.pyplot as plt\n",
    "from timeshap.explainer import local_report\n",
    "import timeshap.utils"
   ]
  },
  {
   "cell_type": "markdown",
   "id": "6062e22f",
   "metadata": {},
   "source": [
    "### Loading the model(GRU4Rec)- pretrained from Rechorus"
   ]
  },
  {
   "cell_type": "code",
   "execution_count": 2,
   "id": "9775347d",
   "metadata": {},
   "outputs": [
    {
     "data": {
      "text/plain": [
       "<All keys matched successfully>"
      ]
     },
     "execution_count": 2,
     "metadata": {},
     "output_type": "execute_result"
    }
   ],
   "source": [
    "## loading arguments from args.pkl(run argcorpus.py with model inputs from Command line i.e. \n",
    "# python argscorpus.py --dataset ml-1m --model_name GRU4Rec)\n",
    "with open('../data/Grocery_and_Gourmet_Food/args.pkl','rb') as f:\n",
    "    args = pickle.load(f)\n",
    "with open('../data/Grocery_and_Gourmet_Food/SeqReader.pkl','rb') as f:\n",
    "    corpus = pickle.load(f)\n",
    "    model = GRU4Rec(args,corpus)\n",
    "## loading file path\n",
    "file_path = '../model/GRU4Rec/GRU4Rec__Grocery_and_Gourmet_Food__0__lr=0.001__l2=1e-06__emb_size=64__hidden_size=64.pt'\n",
    "model.load_state_dict(torch.load(file_path))"
   ]
  },
  {
   "cell_type": "markdown",
   "id": "36864f74",
   "metadata": {},
   "source": [
    "### Revising the model for TimeSHAP compatibility\n",
    "Note: The model outputs from the previously loaded model and the below model are exactly the same."
   ]
  },
  {
   "cell_type": "code",
   "execution_count": 3,
   "id": "2c3e53dc",
   "metadata": {},
   "outputs": [
    {
     "data": {
      "text/plain": [
       "<All keys matched successfully>"
      ]
     },
     "execution_count": 3,
     "metadata": {},
     "output_type": "execute_result"
    }
   ],
   "source": [
    "class GRU4Recold(GRU4Rec):\n",
    "    def __init__(self, args, corpus):\n",
    "        super().__init__(args, corpus)\n",
    "        self.topk_init = None\n",
    "    \n",
    "    def predict_scores(self,feed_dict,hidden_states: tuple = None):\n",
    "        i_ids = torch.tensor([list(range(0,self.item_num))])\n",
    "        history = feed_dict.squeeze(2).type(torch.int64)\n",
    "        #import pdb;pdb.set_trace()\n",
    "        if len(history.size()) == 1:\n",
    "            #import pdb;pdb.set_trace()\n",
    "            history = feed_dict.squeeze().unsqueeze(0)\n",
    "            \n",
    "        lengths = torch.tensor([len(x) for x in feed_dict.numpy()])\n",
    "        batch_size = len(history)\n",
    "       # history = feed_dict['history_items']  # [batch_size, history_max]\n",
    "        #lengths = feed_dict['lengths']  # [batch_size]\n",
    "        #\n",
    "        \n",
    "        #feed_dict['item_id'] = i_ids\n",
    "\n",
    "        his_vectors = self.i_embeddings(history)\n",
    "\n",
    "        # Sort and Pack\n",
    "        sort_his_lengths, sort_idx = torch.topk(lengths, k=len(lengths))\n",
    "        sort_his_vectors = his_vectors.index_select(dim=0, index=sort_idx)\n",
    "        history_packed = torch.nn.utils.rnn.pack_padded_sequence(\n",
    "            sort_his_vectors, sort_his_lengths.cpu(), batch_first=True)\n",
    "        # RNN\n",
    "       # output, hidden = self.rnn(history_packed, None)\n",
    "        if hidden_states is None:\n",
    "            output, hidden_states = self.rnn(history_packed)\n",
    "        else:\n",
    "            output, hidden_states = self.rnn(history_packed,hidden_states)\n",
    "       # assert torch.equal(output[:,-1,:], hidden_states[-1, :, :])\n",
    "\n",
    "        # Unsort\n",
    "        unsort_idx = torch.topk(sort_idx, k=len(lengths), largest=False)[1]\n",
    "        rnn_vector = hidden_states[-1].index_select(dim=0, index=unsort_idx)\n",
    "        #import pdb;pdb.set_trace()\n",
    "        # Predicts\n",
    "        # pred_vectors = self.pred_embeddings(i_ids)\n",
    "        pred_vectors = self.i_embeddings(i_ids)\n",
    "        rnn_vector = self.out(rnn_vector)\n",
    "        \n",
    "        prediction = (rnn_vector[:, None, :] * pred_vectors).sum(-1)\n",
    "        return prediction\n",
    "    \n",
    "    def forward(self, feed_dict,hidden_states: tuple = None):\n",
    "        \n",
    "        self.check_list = []\n",
    "        #i_ids = feed_dict['item_id']  # [batch_size, -1]\n",
    "        if self.topk_init is not None:\n",
    "            i_ids = model_check.topk_init.unsqueeze(0)\n",
    "        else:\n",
    "            i_ids = torch.tensor([list(range(0,self.item_num))])\n",
    "        \n",
    "        history = feed_dict.squeeze(2).type(torch.int64)\n",
    "        #import pdb;pdb.set_trace()\n",
    "        if len(history.size()) == 1:\n",
    "            #import pdb;pdb.set_trace()\n",
    "            history = feed_dict.squeeze().unsqueeze(0)\n",
    "            \n",
    "        lengths = torch.tensor([len(x) for x in feed_dict.numpy()])\n",
    "        batch_size = len(history)\n",
    "       # history = feed_dict['history_items']  # [batch_size, history_max]\n",
    "        #lengths = feed_dict['lengths']  # [batch_size]\n",
    "        #\n",
    "        \n",
    "        #feed_dict['item_id'] = i_ids\n",
    "\n",
    "        his_vectors = self.i_embeddings(history)\n",
    "\n",
    "        # Sort and Pack\n",
    "        sort_his_lengths, sort_idx = torch.topk(lengths, k=len(lengths))\n",
    "        sort_his_vectors = his_vectors.index_select(dim=0, index=sort_idx)\n",
    "        history_packed = torch.nn.utils.rnn.pack_padded_sequence(\n",
    "            sort_his_vectors, sort_his_lengths.cpu(), batch_first=True)\n",
    "        # RNN\n",
    "       # output, hidden = self.rnn(history_packed, None)\n",
    "        if hidden_states is None:\n",
    "            output, hidden_states = self.rnn(history_packed)\n",
    "        else:\n",
    "            output, hidden_states = self.rnn(history_packed,hidden_states)\n",
    "       # assert torch.equal(output[:,-1,:], hidden_states[-1, :, :])\n",
    "\n",
    "        # Unsort\n",
    "        unsort_idx = torch.topk(sort_idx, k=len(lengths), largest=False)[1]\n",
    "        rnn_vector = hidden_states[-1].index_select(dim=0, index=unsort_idx)\n",
    "        # Predicts\n",
    "        pred_vectors = self.i_embeddings(i_ids)\n",
    "        rnn_vector = self.out(rnn_vector)\n",
    "        \n",
    "        prediction = (rnn_vector[:, None, :] * pred_vectors).sum(-1)\n",
    "        if self.topk_init is None:\n",
    "            #import pdb;pdb.set_trace()\n",
    "            pred = prediction\n",
    "            sort_idx = (-pred).argsort(axis=1)[0]\n",
    "            self.topk_init = sort_idx[:10]\n",
    "        return prediction.view(batch_size, -1).mean(axis = 1).unsqueeze(0)/10,hidden_states\n",
    "model_check = GRU4Recold(args,corpus)\n",
    "model_check.load_state_dict(torch.load(file_path))"
   ]
  },
  {
   "cell_type": "markdown",
   "id": "19d15e72",
   "metadata": {},
   "source": [
    "### Test Interaction\n",
    "\n",
    "An interaction is randomly selected from the test dataset(Leave one out CV is done when training the model). Now, its event wise calculations are calculated."
   ]
  },
  {
   "cell_type": "code",
   "execution_count": 4,
   "id": "9d5039ba",
   "metadata": {},
   "outputs": [],
   "source": [
    "## Set the interactions here(Since local, there is only 1 instance)\n",
    "history_items = [[ 6332, 6334, 5722, 6563,\n",
    "       6206, 7340, 8105, 7655, 8119, 8418, 8475, 7216, 8474, 8565, 8644,\n",
    "       8645, 8646, 7508, 8656, 8658]]\n",
    "## lengths\n",
    "lengths = [len(x) for x in history_items]\n",
    "batch_size = len(history_items)\n",
    "sample = {'history_items':torch.tensor(history_items),\\\n",
    "         'lengths':torch.tensor(lengths),'batch_size':batch_size}\n",
    "sample_input = torch.tensor(pd.DataFrame(history_items).values).unsqueeze(2)\n",
    "array = model_check.predict_scores(sample_input).detach().numpy()[0]"
   ]
  },
  {
   "cell_type": "markdown",
   "id": "e78a36c9",
   "metadata": {},
   "source": [
    "### Function to return local explaination report"
   ]
  },
  {
   "cell_type": "code",
   "execution_count": 5,
   "id": "3ded2b45",
   "metadata": {},
   "outputs": [],
   "source": [
    "def local_event_explaination(average_event):\n",
    "    average_event = pd.DataFrame([average_event]).astype(int)\n",
    "    model_wrapped = TorchModelWrapper(model_check)\n",
    "    f_hs = lambda x, y=None: model_wrapped.predict_last_hs(x, y)\n",
    "    avg_score_over_len = get_avg_score_with_avg_event(f_hs, average_event, top=20)\n",
    "    model_features = ['dim_{}'.format(x) for x in range(1)]\n",
    "    average_event.columns = model_features\n",
    "    plot_feats = {}\n",
    "    for feature in model_features:\n",
    "        plot_feats[feature] = feature\n",
    "    plot_feats['Pruned Events'] =  'Pruned Events'\n",
    "    pruning_dict = {'tol': 0.000001}\n",
    "    event_dict = {'rs': 42, 'nsamples': 32000}\n",
    "    feature_dict = {'rs': 42, 'nsamples': 32000, 'feature_names': model_features, 'plot_features': plot_feats}\n",
    "    cell_dict = {'rs': 42, 'nsamples': 32000, 'top_x_feats': 1, 'top_x_events': 1}\n",
    "    return local_report(f_hs, sample_input.numpy(), pruning_dict, event_dict, feature_dict, cell_dict, average_event, entity_uuid='hello', entity_col=None)"
   ]
  },
  {
   "cell_type": "markdown",
   "id": "8c7ba257",
   "metadata": {},
   "source": [
    "### Create average event\n",
    "Average event is first selected at random. We run 2 instances a random event which is not present in the interaction at all."
   ]
  },
  {
   "cell_type": "markdown",
   "id": "dc8d664b",
   "metadata": {},
   "source": [
    "#### Average event = 3507"
   ]
  },
  {
   "cell_type": "code",
   "execution_count": 6,
   "id": "3758e0a7",
   "metadata": {},
   "outputs": [
    {
     "name": "stdout",
     "output_type": "stream",
     "text": [
      "Assuming all features are model features\n"
     ]
    },
    {
     "name": "stderr",
     "output_type": "stream",
     "text": [
      "The default of 'normalize' will be set to False in version 1.2 and deprecated in version 1.4.\n",
      "If you wish to scale the data, use Pipeline with a StandardScaler in a preprocessing stage. To reproduce the previous behavior:\n",
      "\n",
      "from sklearn.pipeline import make_pipeline\n",
      "\n",
      "model = make_pipeline(StandardScaler(with_mean=False), LassoLarsIC())\n",
      "\n",
      "If you wish to pass a sample_weight parameter, you need to pass it as a fit parameter to each step of the pipeline as follows:\n",
      "\n",
      "kwargs = {s[0] + '__sample_weight': sample_weight for s in model.steps}\n",
      "model.fit(X, y, **kwargs)\n",
      "\n",
      "Set parameter alpha to: original_alpha * np.sqrt(n_samples). \n"
     ]
    },
    {
     "data": {
      "text/html": [
       "\n",
       "<div id=\"altair-viz-5dba7e5c49bd45309577a571f04dc667\"></div>\n",
       "<script type=\"text/javascript\">\n",
       "  var VEGA_DEBUG = (typeof VEGA_DEBUG == \"undefined\") ? {} : VEGA_DEBUG;\n",
       "  (function(spec, embedOpt){\n",
       "    let outputDiv = document.currentScript.previousElementSibling;\n",
       "    if (outputDiv.id !== \"altair-viz-5dba7e5c49bd45309577a571f04dc667\") {\n",
       "      outputDiv = document.getElementById(\"altair-viz-5dba7e5c49bd45309577a571f04dc667\");\n",
       "    }\n",
       "    const paths = {\n",
       "      \"vega\": \"https://cdn.jsdelivr.net/npm//vega@5?noext\",\n",
       "      \"vega-lib\": \"https://cdn.jsdelivr.net/npm//vega-lib?noext\",\n",
       "      \"vega-lite\": \"https://cdn.jsdelivr.net/npm//vega-lite@4.17.0?noext\",\n",
       "      \"vega-embed\": \"https://cdn.jsdelivr.net/npm//vega-embed@6?noext\",\n",
       "    };\n",
       "\n",
       "    function maybeLoadScript(lib, version) {\n",
       "      var key = `${lib.replace(\"-\", \"\")}_version`;\n",
       "      return (VEGA_DEBUG[key] == version) ?\n",
       "        Promise.resolve(paths[lib]) :\n",
       "        new Promise(function(resolve, reject) {\n",
       "          var s = document.createElement('script');\n",
       "          document.getElementsByTagName(\"head\")[0].appendChild(s);\n",
       "          s.async = true;\n",
       "          s.onload = () => {\n",
       "            VEGA_DEBUG[key] = version;\n",
       "            return resolve(paths[lib]);\n",
       "          };\n",
       "          s.onerror = () => reject(`Error loading script: ${paths[lib]}`);\n",
       "          s.src = paths[lib];\n",
       "        });\n",
       "    }\n",
       "\n",
       "    function showError(err) {\n",
       "      outputDiv.innerHTML = `<div class=\"error\" style=\"color:red;\">${err}</div>`;\n",
       "      throw err;\n",
       "    }\n",
       "\n",
       "    function displayChart(vegaEmbed) {\n",
       "      vegaEmbed(outputDiv, spec, embedOpt)\n",
       "        .catch(err => showError(`Javascript Error: ${err.message}<br>This usually means there's a typo in your chart specification. See the javascript console for the full traceback.`));\n",
       "    }\n",
       "\n",
       "    if(typeof define === \"function\" && define.amd) {\n",
       "      requirejs.config({paths});\n",
       "      require([\"vega-embed\"], displayChart, err => showError(`Error loading script: ${err.message}`));\n",
       "    } else {\n",
       "      maybeLoadScript(\"vega\", \"5\")\n",
       "        .then(() => maybeLoadScript(\"vega-lite\", \"4.17.0\"))\n",
       "        .then(() => maybeLoadScript(\"vega-embed\", \"6\"))\n",
       "        .catch(showError)\n",
       "        .then(() => displayChart(vegaEmbed));\n",
       "    }\n",
       "  })({\"config\": {\"axis\": {\"domain\": true, \"domainColor\": \"#666F89\", \"grid\": false, \"gridCap\": \"round\", \"gridColor\": \"#B3B7C4\", \"gridDash\": [2, 4], \"gridWidth\": 0.5, \"labelColor\": \"#666F89\", \"labelFont\": \"Roboto, Arial, sans-serif\", \"labelPadding\": 2, \"tickColor\": \"#666F89\", \"tickOpacity\": 0.5, \"tickSize\": 4, \"titleColor\": \"#19274E\", \"titleFont\": \"Roboto, Arial, sans-serif\", \"titleFontSize\": 12}, \"axisBand\": {\"domain\": true, \"labelPadding\": 4, \"ticks\": false}, \"axisY\": {\"domain\": false, \"titleAlign\": \"left\", \"titleAngle\": 0, \"titleX\": -20, \"titleY\": -10}, \"legend\": {\"labelColor\": \"#666F89\", \"labelFont\": \"Roboto, Arial, sans-serif\", \"labelFontSize\": 12, \"symbolSize\": 40, \"titleColor\": \"#19274E\", \"titleFont\": \"Roboto, Arial, sans-serif\", \"titleFontSize\": 12, \"titlePadding\": 4}, \"arc\": {\"stroke\": \"#FFFFFF\", \"strokeWidth\": 1}, \"bar\": {\"fill\": \"#2770EB\", \"stroke\": null}, \"line\": {\"stroke\": \"#2770EB\", \"strokeWidth\": 2}, \"path\": {\"stroke\": \"#2770EB\", \"strokeWidth\": 0.5}, \"point\": {\"fill\": \"#2770EB\", \"shape\": \"circle\", \"filled\": true}, \"rect\": {\"fill\": \"#2770EB\"}, \"rule\": {\"stroke\": \"#666F89\"}, \"shape\": {\"stroke\": \"#2770EB\"}, \"text\": {\"color\": \"#19274E\", \"font\": \"Roboto, Arial, sans-serif\", \"fontSize\": 12}, \"range\": {\"category\": [\"#2770EB\", \"#77B98A\", \"#DA5252\", \"#FFC400\", \"#A87AEA\", \"#00A39E\", \"#19274E\"], \"diverging\": [\"#006360\", \"#2BB3AE\", \"#96D9D7\", \"#FFFFFF\", \"#EDAAAA\", \"#DA5252\", \"#811D1D\"], \"heatmap\": [\"#18448F\", \"#1B4EA5\", \"#2770EB\", \"#4C88EE\", \"#82ACF3\", \"#A6C4F7\", \"#E9F1FD\"], \"ramp\": [\"#18448F\", \"#1B4EA5\", \"#2770EB\", \"#4C88EE\", \"#82ACF3\", \"#A6C4F7\", \"#E9F1FD\"]}, \"background\": \"#FFFFFF\", \"group\": {\"fill\": \"#FFFFFF\"}, \"header\": {\"labelColor\": \"#19274E\", \"labelFont\": \"Roboto, Arial, sans-serif\", \"labelFontSize\": 12, \"titleColor\": \"#19274E\", \"titleFont\": \"Roboto, Arial, sans-serif\", \"titleFontSize\": 16}, \"title\": {\"anchor\": \"start\", \"color\": \"#19274E\", \"font\": \"Roboto, Arial, sans-serif\", \"fontSize\": 20, \"fontWeight\": \"bold\", \"offset\": 20, \"subtitleColor\": \"#19274E\", \"subtitleFontSize\": 16}, \"view\": {\"continuousHeight\": 300, \"continuousWidth\": 400, \"stroke\": \"transparent\"}}, \"hconcat\": [{\"layer\": [{\"mark\": {\"type\": \"area\", \"opacity\": 0.5}, \"encoding\": {\"color\": {\"field\": \"Coalition\", \"legend\": {\"fillColor\": \"white\", \"labelFontSize\": 14, \"labelLimit\": 0, \"orient\": \"top-left\", \"symbolSize\": 50, \"symbolStrokeWidth\": 0, \"title\": null}, \"scale\": {\"domain\": [\"Sum of contribution of events \\u2264 t\"], \"range\": [\"#618FE0\"]}, \"type\": \"nominal\"}, \"x\": {\"axis\": {\"labelFontSize\": 15, \"title\": \"t (event index)\", \"titleFontSize\": 15}, \"field\": \"t (event index)\", \"type\": \"quantitative\"}, \"y\": {\"axis\": {\"grid\": true, \"labelFontSize\": 15, \"titleFontSize\": 15, \"titleX\": -28}, \"field\": \"Shapley Value\", \"scale\": {\"domain\": [-0.05, 1]}, \"type\": \"quantitative\"}}}, {\"mark\": \"line\", \"encoding\": {\"color\": {\"field\": \"Coalition\", \"legend\": {\"fillColor\": \"white\", \"labelFontSize\": 14, \"labelLimit\": 0, \"orient\": \"top-left\", \"symbolSize\": 50, \"symbolStrokeWidth\": 0, \"title\": null}, \"scale\": {\"domain\": [\"Sum of contribution of events \\u2264 t\"], \"range\": [\"#618FE0\"]}, \"type\": \"nominal\"}, \"x\": {\"axis\": {\"labelFontSize\": 15, \"title\": \"t (event index)\", \"titleFontSize\": 15}, \"field\": \"t (event index)\", \"type\": \"quantitative\"}, \"y\": {\"axis\": {\"grid\": true, \"labelFontSize\": 15, \"titleFontSize\": 15, \"titleX\": -28}, \"field\": \"Shapley Value\", \"scale\": {\"domain\": [-0.05, 1]}, \"type\": \"quantitative\"}}}, {\"data\": {\"name\": \"data-a5230d44a0ee90255047fc67d1705c8b\"}, \"mark\": {\"type\": \"rule\", \"color\": \"#E17560\"}, \"encoding\": {\"x\": {\"field\": \"x\", \"type\": \"quantitative\"}}}, {\"data\": {\"name\": \"data-ee8aec25528fa53b6011f1eacee6f6c5\"}, \"mark\": {\"type\": \"text\", \"angle\": 270, \"color\": \"#E17560\", \"fontSize\": 15, \"fontWeight\": \"bold\", \"text\": \"Pruning\"}, \"encoding\": {\"x\": {\"field\": \"x\", \"type\": \"quantitative\"}}}], \"data\": {\"name\": \"data-4bb41bbc0015ec04d4e8736454250532\"}, \"height\": 225, \"width\": 350}, {\"layer\": [{\"mark\": \"rect\", \"encoding\": {\"color\": {\"field\": \"rounded\", \"legend\": {\"gradientLength\": 225, \"gradientThickness\": 10, \"labelFontSize\": 15, \"orient\": \"right\"}, \"scale\": {\"domain\": [-0.5, 0.5], \"range\": [\"#5f8fd6\", \"#99c3fb\", \"#f5f5f5\", \"#ffaa92\", \"#d16f5b\"]}, \"title\": null, \"type\": \"quantitative\"}, \"x\": {\"axis\": {\"title\": \"Shapley Value\", \"titleFontSize\": 15}, \"field\": \"column\", \"type\": \"ordinal\"}, \"y\": {\"axis\": {\"domain\": false, \"labelFontSize\": 15, \"title\": \"Event\", \"titleFontSize\": 15, \"titleX\": -49}, \"field\": \"Feature\", \"sort\": [\"Event -1\", \"Event -2\", \"Event -3\", \"Event -4\", \"Event -5\", \"Event -6\", \"Event -7\", \"Event -8\", \"Event -9\", \"Event -10\", \"Event -11\", \"Event -12\", \"Event -13\", \"Event -14\", \"Event -15\", \"Event -16\", \"Event -17\", \"Event -18\", \"Event -19\", \"Event -20\"], \"type\": \"ordinal\"}}}, {\"mark\": {\"type\": \"text\", \"align\": \"right\", \"baseline\": \"middle\", \"color\": \"#798184\", \"dx\": 18, \"fontSize\": 15}, \"encoding\": {\"text\": {\"field\": \"rounded_str\", \"type\": \"nominal\"}, \"x\": {\"axis\": {\"domain\": false, \"labels\": false, \"title\": \"Shapley Value\", \"titleX\": 43}, \"field\": \"column\", \"type\": \"ordinal\"}, \"y\": {\"axis\": {\"domain\": false, \"labelFontSize\": 15, \"title\": \"Event\", \"titleFontSize\": 15, \"titleX\": -49}, \"field\": \"Feature\", \"sort\": [\"Event -1\", \"Event -2\", \"Event -3\", \"Event -4\", \"Event -5\", \"Event -6\", \"Event -7\", \"Event -8\", \"Event -9\", \"Event -10\", \"Event -11\", \"Event -12\", \"Event -13\", \"Event -14\", \"Event -15\", \"Event -16\", \"Event -17\", \"Event -18\", \"Event -19\", \"Event -20\"], \"type\": \"ordinal\"}}}], \"data\": {\"name\": \"data-a430e967ade17670d89ea573c40f852e\"}, \"height\": 225, \"width\": 60}, {\"layer\": [{\"data\": {\"name\": \"data-12b3cf9f4ee81afe1ced27232a12045a\"}, \"mark\": {\"type\": \"bar\", \"size\": 15, \"thickness\": 1}, \"encoding\": {\"x\": {\"axis\": {\"grid\": true, \"labelFontSize\": 15, \"title\": \"Shapley Value\", \"titleFontSize\": 15}, \"field\": \"Shapley Value\", \"scale\": {\"domain\": [-0.1, 0.4]}, \"type\": \"quantitative\"}, \"y\": {\"axis\": {\"labelFontSize\": 15, \"title\": \"Feature\", \"titleFontSize\": 15, \"titleX\": -61}, \"field\": \"Feature\", \"sort\": {\"field\": \"sort_col\", \"order\": \"descending\"}, \"type\": \"nominal\"}}}, {\"data\": {\"name\": \"data-9c00aa9dc2b1c1a0b4bf9b34ead12925\"}, \"mark\": {\"type\": \"rule\", \"color\": \"#798184\"}, \"encoding\": {\"x\": {\"field\": \"x\", \"type\": \"quantitative\"}}}], \"height\": 225, \"width\": 190}, {\"layer\": [{\"mark\": \"rect\", \"encoding\": {\"color\": {\"field\": \"rounded\", \"legend\": {\"gradientLength\": 225, \"gradientThickness\": 10, \"labelFontSize\": 15, \"orient\": \"right\"}, \"scale\": {\"domain\": [-0.5, 0.5], \"range\": [\"#5f8fd6\", \"#99c3fb\", \"#f5f5f5\", \"#ffaa92\", \"#d16f5b\"]}, \"title\": null, \"type\": \"quantitative\"}, \"x\": {\"axis\": {\"titleFontSize\": 15}, \"field\": \"Event\", \"sort\": [\"Event -1\"], \"type\": \"nominal\"}, \"y\": {\"axis\": {\"domain\": false, \"labelFontSize\": 15, \"title\": null}, \"field\": \"Feature\", \"sort\": [], \"type\": \"nominal\"}}}, {\"mark\": {\"type\": \"text\", \"align\": \"right\", \"baseline\": \"middle\", \"color\": \"#798184\", \"dx\": 18, \"fontSize\": 15}, \"encoding\": {\"text\": {\"field\": \"rounded_str\", \"type\": \"nominal\"}, \"x\": {\"axis\": {\"domain\": false, \"labelAngle\": 30, \"labelFontSize\": 15, \"orient\": \"top\", \"title\": \"Shapley Value\", \"titleX\": 172, \"titleY\": 245}, \"field\": \"Event\", \"sort\": [\"Event -1\"], \"type\": \"nominal\"}, \"y\": {\"axis\": {\"domain\": false, \"labelFontSize\": 15, \"title\": null}, \"field\": \"Feature\", \"sort\": [], \"type\": \"nominal\"}}}], \"data\": {\"name\": \"data-8f807c54759592ee2b3e0168be155606\"}, \"height\": 225, \"width\": 160}], \"resolve\": {\"scale\": {\"color\": \"independent\"}}, \"$schema\": \"https://vega.github.io/schema/vega-lite/v4.17.0.json\", \"datasets\": {\"data-4bb41bbc0015ec04d4e8736454250532\": [{\"Coalition\": \"Sum of contribution of events > t\", \"t (event index)\": 0, \"Shapley Value\": -5.960464477539063e-08}, {\"Coalition\": \"Sum of contribution of events \\u2264 t\", \"t (event index)\": 0, \"Shapley Value\": -0.2273099422454834}, {\"Coalition\": \"Sum of contribution of events > t\", \"t (event index)\": -1, \"Shapley Value\": -0.15147289633750916}, {\"Coalition\": \"Sum of contribution of events \\u2264 t\", \"t (event index)\": -1, \"Shapley Value\": -0.07583710551261902}, {\"Coalition\": \"Sum of contribution of events > t\", \"t (event index)\": -2, \"Shapley Value\": -0.15970942378044128}, {\"Coalition\": \"Sum of contribution of events \\u2264 t\", \"t (event index)\": -2, \"Shapley Value\": -0.06760057806968689}, {\"Coalition\": \"Sum of contribution of events > t\", \"t (event index)\": -3, \"Shapley Value\": -0.18787845969200134}, {\"Coalition\": \"Sum of contribution of events \\u2264 t\", \"t (event index)\": -3, \"Shapley Value\": -0.03943154215812683}, {\"Coalition\": \"Sum of contribution of events > t\", \"t (event index)\": -4, \"Shapley Value\": -0.22616034746170044}, {\"Coalition\": \"Sum of contribution of events \\u2264 t\", \"t (event index)\": -4, \"Shapley Value\": -0.0011496543884277344}, {\"Coalition\": \"Sum of contribution of events > t\", \"t (event index)\": -5, \"Shapley Value\": -0.22880002856254578}, {\"Coalition\": \"Sum of contribution of events \\u2264 t\", \"t (event index)\": -5, \"Shapley Value\": 0.0014900267124176025}, {\"Coalition\": \"Sum of contribution of events > t\", \"t (event index)\": -6, \"Shapley Value\": -0.24775239825248718}, {\"Coalition\": \"Sum of contribution of events \\u2264 t\", \"t (event index)\": -6, \"Shapley Value\": 0.02044239640235901}, {\"Coalition\": \"Sum of contribution of events > t\", \"t (event index)\": -7, \"Shapley Value\": -0.2558777332305908}, {\"Coalition\": \"Sum of contribution of events \\u2264 t\", \"t (event index)\": -7, \"Shapley Value\": 0.028567731380462646}, {\"Coalition\": \"Sum of contribution of events > t\", \"t (event index)\": -8, \"Shapley Value\": -0.2513764202594757}, {\"Coalition\": \"Sum of contribution of events \\u2264 t\", \"t (event index)\": -8, \"Shapley Value\": 0.024066418409347534}, {\"Coalition\": \"Sum of contribution of events > t\", \"t (event index)\": -9, \"Shapley Value\": -0.25198638439178467}, {\"Coalition\": \"Sum of contribution of events \\u2264 t\", \"t (event index)\": -9, \"Shapley Value\": 0.024676382541656494}, {\"Coalition\": \"Sum of contribution of events > t\", \"t (event index)\": -10, \"Shapley Value\": -0.23869672417640686}, {\"Coalition\": \"Sum of contribution of events \\u2264 t\", \"t (event index)\": -10, \"Shapley Value\": 0.011386722326278687}, {\"Coalition\": \"Sum of contribution of events > t\", \"t (event index)\": -11, \"Shapley Value\": -0.2447609007358551}, {\"Coalition\": \"Sum of contribution of events \\u2264 t\", \"t (event index)\": -11, \"Shapley Value\": 0.01745089888572693}, {\"Coalition\": \"Sum of contribution of events > t\", \"t (event index)\": -12, \"Shapley Value\": -0.2630521059036255}, {\"Coalition\": \"Sum of contribution of events \\u2264 t\", \"t (event index)\": -12, \"Shapley Value\": 0.035742104053497314}, {\"Coalition\": \"Sum of contribution of events > t\", \"t (event index)\": -13, \"Shapley Value\": -0.26818469166755676}, {\"Coalition\": \"Sum of contribution of events \\u2264 t\", \"t (event index)\": -13, \"Shapley Value\": 0.04087468981742859}, {\"Coalition\": \"Sum of contribution of events > t\", \"t (event index)\": -14, \"Shapley Value\": -0.24954640865325928}, {\"Coalition\": \"Sum of contribution of events \\u2264 t\", \"t (event index)\": -14, \"Shapley Value\": 0.022236406803131104}, {\"Coalition\": \"Sum of contribution of events > t\", \"t (event index)\": -15, \"Shapley Value\": -0.25357457995414734}, {\"Coalition\": \"Sum of contribution of events \\u2264 t\", \"t (event index)\": -15, \"Shapley Value\": 0.026264578104019165}, {\"Coalition\": \"Sum of contribution of events > t\", \"t (event index)\": -16, \"Shapley Value\": -0.2727119028568268}, {\"Coalition\": \"Sum of contribution of events \\u2264 t\", \"t (event index)\": -16, \"Shapley Value\": 0.04540190100669861}, {\"Coalition\": \"Sum of contribution of events > t\", \"t (event index)\": -17, \"Shapley Value\": -0.2831852436065674}, {\"Coalition\": \"Sum of contribution of events \\u2264 t\", \"t (event index)\": -17, \"Shapley Value\": 0.05587524175643921}, {\"Coalition\": \"Sum of contribution of events > t\", \"t (event index)\": -18, \"Shapley Value\": -0.27649182081222534}, {\"Coalition\": \"Sum of contribution of events \\u2264 t\", \"t (event index)\": -18, \"Shapley Value\": 0.04918181896209717}, {\"Coalition\": \"Sum of contribution of events > t\", \"t (event index)\": -19, \"Shapley Value\": -0.27703356742858887}, {\"Coalition\": \"Sum of contribution of events \\u2264 t\", \"t (event index)\": -19, \"Shapley Value\": 0.04972356557846069}, {\"Coalition\": \"Sum of contribution of events > t\", \"t (event index)\": -20, \"Shapley Value\": -0.2273099422454834}, {\"Coalition\": \"Sum of contribution of events \\u2264 t\", \"t (event index)\": -20, \"Shapley Value\": -5.960464477539063e-08}], \"data-a5230d44a0ee90255047fc67d1705c8b\": [{\"x\": -20}], \"data-ee8aec25528fa53b6011f1eacee6f6c5\": [{\"x\": -22}], \"data-a430e967ade17670d89ea573c40f852e\": [{\"Shapley Value\": -0.12551108849149367, \"Feature\": \"Event -1\", \"row\": 1, \"column\": 1, \"rounded\": -0.126, \"rounded_str\": \"-0.126\"}, {\"Shapley Value\": -0.02408619712863061, \"Feature\": \"Event -2\", \"row\": 2, \"column\": 1, \"rounded\": -0.024, \"rounded_str\": \"-0.024\"}, {\"Shapley Value\": -0.032873162539323625, \"Feature\": \"Event -3\", \"row\": 3, \"column\": 1, \"rounded\": -0.033, \"rounded_str\": \"-0.033\"}, {\"Shapley Value\": -0.03664321831812736, \"Feature\": \"Event -4\", \"row\": 4, \"column\": 1, \"rounded\": -0.037, \"rounded_str\": \"-0.037\"}, {\"Shapley Value\": -0.004569145688121945, \"Feature\": \"Event -5\", \"row\": 5, \"column\": 1, \"rounded\": -0.005, \"rounded_str\": \"-0.005\"}, {\"Shapley Value\": -0.00884506910424357, \"Feature\": \"Event -6\", \"row\": 6, \"column\": 1, \"rounded\": -0.009, \"rounded_str\": \"-0.009\"}, {\"Shapley Value\": 0.0, \"Feature\": \"Event -7\", \"row\": 7, \"column\": 1, \"rounded\": 0.0, \"rounded_str\": \"0.000\"}, {\"Shapley Value\": 0.0, \"Feature\": \"Event -8\", \"row\": 8, \"column\": 1, \"rounded\": 0.0, \"rounded_str\": \"0.000\"}, {\"Shapley Value\": -0.005265744409217177, \"Feature\": \"Event -9\", \"row\": 9, \"column\": 1, \"rounded\": -0.005, \"rounded_str\": \"-0.005\"}, {\"Shapley Value\": -0.004290877197145548, \"Feature\": \"Event -10\", \"row\": 10, \"column\": 1, \"rounded\": -0.004, \"rounded_str\": \"-0.004\"}, {\"Shapley Value\": -0.004607913633708563, \"Feature\": \"Event -11\", \"row\": 11, \"column\": 1, \"rounded\": -0.005, \"rounded_str\": \"-0.005\"}, {\"Shapley Value\": -0.006669873669473914, \"Feature\": \"Event -12\", \"row\": 12, \"column\": 1, \"rounded\": -0.007, \"rounded_str\": \"-0.007\"}, {\"Shapley Value\": -0.0048256667843644685, \"Feature\": \"Event -13\", \"row\": 13, \"column\": 1, \"rounded\": -0.005, \"rounded_str\": \"-0.005\"}, {\"Shapley Value\": 0.0, \"Feature\": \"Event -14\", \"row\": 14, \"column\": 1, \"rounded\": 0.0, \"rounded_str\": \"0.000\"}, {\"Shapley Value\": -0.009375668291056072, \"Feature\": \"Event -15\", \"row\": 15, \"column\": 1, \"rounded\": -0.009, \"rounded_str\": \"-0.009\"}, {\"Shapley Value\": -0.004976060836855728, \"Feature\": \"Event -16\", \"row\": 16, \"column\": 1, \"rounded\": -0.005, \"rounded_str\": \"-0.005\"}, {\"Shapley Value\": 0.0, \"Feature\": \"Event -17\", \"row\": 17, \"column\": 1, \"rounded\": 0.0, \"rounded_str\": \"0.000\"}, {\"Shapley Value\": 0.011286894170873307, \"Feature\": \"Event -18\", \"row\": 18, \"column\": 1, \"rounded\": 0.011, \"rounded_str\": \"0.011\"}, {\"Shapley Value\": 0.01081269433560364, \"Feature\": \"Event -19\", \"row\": 19, \"column\": 1, \"rounded\": 0.011, \"rounded_str\": \"0.011\"}, {\"Shapley Value\": 0.02313009573515712, \"Feature\": \"Event -20\", \"row\": 20, \"column\": 1, \"rounded\": 0.023, \"rounded_str\": \"0.023\"}], \"data-12b3cf9f4ee81afe1ced27232a12045a\": [{\"Random seed\": 42, \"NSamples\": 32000, \"Feature\": \"dim_0\", \"Shapley Value\": -0.22731000185012817, \"sort_col\": 0.22731000185012817}], \"data-9c00aa9dc2b1c1a0b4bf9b34ead12925\": [{\"x\": 0}], \"data-8f807c54759592ee2b3e0168be155606\": [{\"Event\": \"Other Events\", \"Feature\": \"dim_0\", \"Shapley Value\": -0.07583710551261902, \"rounded\": -0.076, \"rounded_str\": \"-0.076\"}, {\"Event\": \"Event -1\", \"Feature\": \"dim_0\", \"Shapley Value\": -0.15147289633750916, \"rounded\": -0.151, \"rounded_str\": \"-0.151\"}]}}, {\"mode\": \"vega-lite\"});\n",
       "</script>"
      ],
      "text/plain": [
       "alt.HConcatChart(...)"
      ]
     },
     "execution_count": 6,
     "metadata": {},
     "output_type": "execute_result"
    }
   ],
   "source": [
    "local_event_explaination(3507)"
   ]
  },
  {
   "cell_type": "markdown",
   "id": "1e06eb2f",
   "metadata": {},
   "source": [
    "#### Average event = 1"
   ]
  },
  {
   "cell_type": "code",
   "execution_count": 7,
   "id": "85f48ef1",
   "metadata": {},
   "outputs": [
    {
     "name": "stdout",
     "output_type": "stream",
     "text": [
      "Assuming all features are model features\n"
     ]
    },
    {
     "name": "stderr",
     "output_type": "stream",
     "text": [
      "The default of 'normalize' will be set to False in version 1.2 and deprecated in version 1.4.\n",
      "If you wish to scale the data, use Pipeline with a StandardScaler in a preprocessing stage. To reproduce the previous behavior:\n",
      "\n",
      "from sklearn.pipeline import make_pipeline\n",
      "\n",
      "model = make_pipeline(StandardScaler(with_mean=False), LassoLarsIC())\n",
      "\n",
      "If you wish to pass a sample_weight parameter, you need to pass it as a fit parameter to each step of the pipeline as follows:\n",
      "\n",
      "kwargs = {s[0] + '__sample_weight': sample_weight for s in model.steps}\n",
      "model.fit(X, y, **kwargs)\n",
      "\n",
      "Set parameter alpha to: original_alpha * np.sqrt(n_samples). \n"
     ]
    },
    {
     "data": {
      "text/html": [
       "\n",
       "<div id=\"altair-viz-4ec25714c6e94859881017778bc55759\"></div>\n",
       "<script type=\"text/javascript\">\n",
       "  var VEGA_DEBUG = (typeof VEGA_DEBUG == \"undefined\") ? {} : VEGA_DEBUG;\n",
       "  (function(spec, embedOpt){\n",
       "    let outputDiv = document.currentScript.previousElementSibling;\n",
       "    if (outputDiv.id !== \"altair-viz-4ec25714c6e94859881017778bc55759\") {\n",
       "      outputDiv = document.getElementById(\"altair-viz-4ec25714c6e94859881017778bc55759\");\n",
       "    }\n",
       "    const paths = {\n",
       "      \"vega\": \"https://cdn.jsdelivr.net/npm//vega@5?noext\",\n",
       "      \"vega-lib\": \"https://cdn.jsdelivr.net/npm//vega-lib?noext\",\n",
       "      \"vega-lite\": \"https://cdn.jsdelivr.net/npm//vega-lite@4.17.0?noext\",\n",
       "      \"vega-embed\": \"https://cdn.jsdelivr.net/npm//vega-embed@6?noext\",\n",
       "    };\n",
       "\n",
       "    function maybeLoadScript(lib, version) {\n",
       "      var key = `${lib.replace(\"-\", \"\")}_version`;\n",
       "      return (VEGA_DEBUG[key] == version) ?\n",
       "        Promise.resolve(paths[lib]) :\n",
       "        new Promise(function(resolve, reject) {\n",
       "          var s = document.createElement('script');\n",
       "          document.getElementsByTagName(\"head\")[0].appendChild(s);\n",
       "          s.async = true;\n",
       "          s.onload = () => {\n",
       "            VEGA_DEBUG[key] = version;\n",
       "            return resolve(paths[lib]);\n",
       "          };\n",
       "          s.onerror = () => reject(`Error loading script: ${paths[lib]}`);\n",
       "          s.src = paths[lib];\n",
       "        });\n",
       "    }\n",
       "\n",
       "    function showError(err) {\n",
       "      outputDiv.innerHTML = `<div class=\"error\" style=\"color:red;\">${err}</div>`;\n",
       "      throw err;\n",
       "    }\n",
       "\n",
       "    function displayChart(vegaEmbed) {\n",
       "      vegaEmbed(outputDiv, spec, embedOpt)\n",
       "        .catch(err => showError(`Javascript Error: ${err.message}<br>This usually means there's a typo in your chart specification. See the javascript console for the full traceback.`));\n",
       "    }\n",
       "\n",
       "    if(typeof define === \"function\" && define.amd) {\n",
       "      requirejs.config({paths});\n",
       "      require([\"vega-embed\"], displayChart, err => showError(`Error loading script: ${err.message}`));\n",
       "    } else {\n",
       "      maybeLoadScript(\"vega\", \"5\")\n",
       "        .then(() => maybeLoadScript(\"vega-lite\", \"4.17.0\"))\n",
       "        .then(() => maybeLoadScript(\"vega-embed\", \"6\"))\n",
       "        .catch(showError)\n",
       "        .then(() => displayChart(vegaEmbed));\n",
       "    }\n",
       "  })({\"config\": {\"axis\": {\"domain\": true, \"domainColor\": \"#666F89\", \"grid\": false, \"gridCap\": \"round\", \"gridColor\": \"#B3B7C4\", \"gridDash\": [2, 4], \"gridWidth\": 0.5, \"labelColor\": \"#666F89\", \"labelFont\": \"Roboto, Arial, sans-serif\", \"labelPadding\": 2, \"tickColor\": \"#666F89\", \"tickOpacity\": 0.5, \"tickSize\": 4, \"titleColor\": \"#19274E\", \"titleFont\": \"Roboto, Arial, sans-serif\", \"titleFontSize\": 12}, \"axisBand\": {\"domain\": true, \"labelPadding\": 4, \"ticks\": false}, \"axisY\": {\"domain\": false, \"titleAlign\": \"left\", \"titleAngle\": 0, \"titleX\": -20, \"titleY\": -10}, \"legend\": {\"labelColor\": \"#666F89\", \"labelFont\": \"Roboto, Arial, sans-serif\", \"labelFontSize\": 12, \"symbolSize\": 40, \"titleColor\": \"#19274E\", \"titleFont\": \"Roboto, Arial, sans-serif\", \"titleFontSize\": 12, \"titlePadding\": 4}, \"arc\": {\"stroke\": \"#FFFFFF\", \"strokeWidth\": 1}, \"bar\": {\"fill\": \"#2770EB\", \"stroke\": null}, \"line\": {\"stroke\": \"#2770EB\", \"strokeWidth\": 2}, \"path\": {\"stroke\": \"#2770EB\", \"strokeWidth\": 0.5}, \"point\": {\"fill\": \"#2770EB\", \"shape\": \"circle\", \"filled\": true}, \"rect\": {\"fill\": \"#2770EB\"}, \"rule\": {\"stroke\": \"#666F89\"}, \"shape\": {\"stroke\": \"#2770EB\"}, \"text\": {\"color\": \"#19274E\", \"font\": \"Roboto, Arial, sans-serif\", \"fontSize\": 12}, \"range\": {\"category\": [\"#2770EB\", \"#77B98A\", \"#DA5252\", \"#FFC400\", \"#A87AEA\", \"#00A39E\", \"#19274E\"], \"diverging\": [\"#006360\", \"#2BB3AE\", \"#96D9D7\", \"#FFFFFF\", \"#EDAAAA\", \"#DA5252\", \"#811D1D\"], \"heatmap\": [\"#18448F\", \"#1B4EA5\", \"#2770EB\", \"#4C88EE\", \"#82ACF3\", \"#A6C4F7\", \"#E9F1FD\"], \"ramp\": [\"#18448F\", \"#1B4EA5\", \"#2770EB\", \"#4C88EE\", \"#82ACF3\", \"#A6C4F7\", \"#E9F1FD\"]}, \"background\": \"#FFFFFF\", \"group\": {\"fill\": \"#FFFFFF\"}, \"header\": {\"labelColor\": \"#19274E\", \"labelFont\": \"Roboto, Arial, sans-serif\", \"labelFontSize\": 12, \"titleColor\": \"#19274E\", \"titleFont\": \"Roboto, Arial, sans-serif\", \"titleFontSize\": 16}, \"title\": {\"anchor\": \"start\", \"color\": \"#19274E\", \"font\": \"Roboto, Arial, sans-serif\", \"fontSize\": 20, \"fontWeight\": \"bold\", \"offset\": 20, \"subtitleColor\": \"#19274E\", \"subtitleFontSize\": 16}, \"view\": {\"continuousHeight\": 300, \"continuousWidth\": 400, \"stroke\": \"transparent\"}}, \"hconcat\": [{\"layer\": [{\"mark\": {\"type\": \"area\", \"opacity\": 0.5}, \"encoding\": {\"color\": {\"field\": \"Coalition\", \"legend\": {\"fillColor\": \"white\", \"labelFontSize\": 14, \"labelLimit\": 0, \"orient\": \"top-left\", \"symbolSize\": 50, \"symbolStrokeWidth\": 0, \"title\": null}, \"scale\": {\"domain\": [\"Sum of contribution of events \\u2264 t\"], \"range\": [\"#618FE0\"]}, \"type\": \"nominal\"}, \"x\": {\"axis\": {\"labelFontSize\": 15, \"title\": \"t (event index)\", \"titleFontSize\": 15}, \"field\": \"t (event index)\", \"type\": \"quantitative\"}, \"y\": {\"axis\": {\"grid\": true, \"labelFontSize\": 15, \"titleFontSize\": 15, \"titleX\": -28}, \"field\": \"Shapley Value\", \"scale\": {\"domain\": [-0.05, 1]}, \"type\": \"quantitative\"}}}, {\"mark\": \"line\", \"encoding\": {\"color\": {\"field\": \"Coalition\", \"legend\": {\"fillColor\": \"white\", \"labelFontSize\": 14, \"labelLimit\": 0, \"orient\": \"top-left\", \"symbolSize\": 50, \"symbolStrokeWidth\": 0, \"title\": null}, \"scale\": {\"domain\": [\"Sum of contribution of events \\u2264 t\"], \"range\": [\"#618FE0\"]}, \"type\": \"nominal\"}, \"x\": {\"axis\": {\"labelFontSize\": 15, \"title\": \"t (event index)\", \"titleFontSize\": 15}, \"field\": \"t (event index)\", \"type\": \"quantitative\"}, \"y\": {\"axis\": {\"grid\": true, \"labelFontSize\": 15, \"titleFontSize\": 15, \"titleX\": -28}, \"field\": \"Shapley Value\", \"scale\": {\"domain\": [-0.05, 1]}, \"type\": \"quantitative\"}}}, {\"data\": {\"name\": \"data-a5230d44a0ee90255047fc67d1705c8b\"}, \"mark\": {\"type\": \"rule\", \"color\": \"#E17560\"}, \"encoding\": {\"x\": {\"field\": \"x\", \"type\": \"quantitative\"}}}, {\"data\": {\"name\": \"data-ee8aec25528fa53b6011f1eacee6f6c5\"}, \"mark\": {\"type\": \"text\", \"angle\": 270, \"color\": \"#E17560\", \"fontSize\": 15, \"fontWeight\": \"bold\", \"text\": \"Pruning\"}, \"encoding\": {\"x\": {\"field\": \"x\", \"type\": \"quantitative\"}}}], \"data\": {\"name\": \"data-72df2b7397b4dac08bcfa2ff79edc06b\"}, \"height\": 225, \"width\": 350}, {\"layer\": [{\"mark\": \"rect\", \"encoding\": {\"color\": {\"field\": \"rounded\", \"legend\": {\"gradientLength\": 225, \"gradientThickness\": 10, \"labelFontSize\": 15, \"orient\": \"right\"}, \"scale\": {\"domain\": [-0.5, 0.5], \"range\": [\"#5f8fd6\", \"#99c3fb\", \"#f5f5f5\", \"#ffaa92\", \"#d16f5b\"]}, \"title\": null, \"type\": \"quantitative\"}, \"x\": {\"axis\": {\"title\": \"Shapley Value\", \"titleFontSize\": 15}, \"field\": \"column\", \"type\": \"ordinal\"}, \"y\": {\"axis\": {\"domain\": false, \"labelFontSize\": 15, \"title\": \"Event\", \"titleFontSize\": 15, \"titleX\": -49}, \"field\": \"Feature\", \"sort\": [\"Event -1\", \"Event -2\", \"Event -3\", \"Event -4\", \"Event -5\", \"Event -6\", \"Event -7\", \"Event -8\", \"Event -9\", \"Event -10\", \"Event -11\", \"Event -12\", \"Event -13\", \"Event -14\", \"Event -15\", \"Event -16\", \"Event -17\", \"Event -18\", \"Event -19\", \"Event -20\"], \"type\": \"ordinal\"}}}, {\"mark\": {\"type\": \"text\", \"align\": \"right\", \"baseline\": \"middle\", \"color\": \"#798184\", \"dx\": 18, \"fontSize\": 15}, \"encoding\": {\"text\": {\"field\": \"rounded_str\", \"type\": \"nominal\"}, \"x\": {\"axis\": {\"domain\": false, \"labels\": false, \"title\": \"Shapley Value\", \"titleX\": 43}, \"field\": \"column\", \"type\": \"ordinal\"}, \"y\": {\"axis\": {\"domain\": false, \"labelFontSize\": 15, \"title\": \"Event\", \"titleFontSize\": 15, \"titleX\": -49}, \"field\": \"Feature\", \"sort\": [\"Event -1\", \"Event -2\", \"Event -3\", \"Event -4\", \"Event -5\", \"Event -6\", \"Event -7\", \"Event -8\", \"Event -9\", \"Event -10\", \"Event -11\", \"Event -12\", \"Event -13\", \"Event -14\", \"Event -15\", \"Event -16\", \"Event -17\", \"Event -18\", \"Event -19\", \"Event -20\"], \"type\": \"ordinal\"}}}], \"data\": {\"name\": \"data-669dbaef0911a545f8a3cf0e975804cb\"}, \"height\": 225, \"width\": 60}, {\"layer\": [{\"data\": {\"name\": \"data-3752a52f9a9e3b14a5eb77c2b18d2f3d\"}, \"mark\": {\"type\": \"bar\", \"size\": 15, \"thickness\": 1}, \"encoding\": {\"x\": {\"axis\": {\"grid\": true, \"labelFontSize\": 15, \"title\": \"Shapley Value\", \"titleFontSize\": 15}, \"field\": \"Shapley Value\", \"scale\": {\"domain\": [-0.1, 0.4]}, \"type\": \"quantitative\"}, \"y\": {\"axis\": {\"labelFontSize\": 15, \"title\": \"Feature\", \"titleFontSize\": 15, \"titleX\": -61}, \"field\": \"Feature\", \"sort\": {\"field\": \"sort_col\", \"order\": \"descending\"}, \"type\": \"nominal\"}}}, {\"data\": {\"name\": \"data-9c00aa9dc2b1c1a0b4bf9b34ead12925\"}, \"mark\": {\"type\": \"rule\", \"color\": \"#798184\"}, \"encoding\": {\"x\": {\"field\": \"x\", \"type\": \"quantitative\"}}}], \"height\": 225, \"width\": 190}, {\"layer\": [{\"mark\": \"rect\", \"encoding\": {\"color\": {\"field\": \"rounded\", \"legend\": {\"gradientLength\": 225, \"gradientThickness\": 10, \"labelFontSize\": 15, \"orient\": \"right\"}, \"scale\": {\"domain\": [-0.5, 0.5], \"range\": [\"#5f8fd6\", \"#99c3fb\", \"#f5f5f5\", \"#ffaa92\", \"#d16f5b\"]}, \"title\": null, \"type\": \"quantitative\"}, \"x\": {\"axis\": {\"titleFontSize\": 15}, \"field\": \"Event\", \"sort\": [\"Event -1\"], \"type\": \"nominal\"}, \"y\": {\"axis\": {\"domain\": false, \"labelFontSize\": 15, \"title\": null}, \"field\": \"Feature\", \"sort\": [], \"type\": \"nominal\"}}}, {\"mark\": {\"type\": \"text\", \"align\": \"right\", \"baseline\": \"middle\", \"color\": \"#798184\", \"dx\": 18, \"fontSize\": 15}, \"encoding\": {\"text\": {\"field\": \"rounded_str\", \"type\": \"nominal\"}, \"x\": {\"axis\": {\"domain\": false, \"labelAngle\": 30, \"labelFontSize\": 15, \"orient\": \"top\", \"title\": \"Shapley Value\", \"titleX\": 172, \"titleY\": 245}, \"field\": \"Event\", \"sort\": [\"Event -1\"], \"type\": \"nominal\"}, \"y\": {\"axis\": {\"domain\": false, \"labelFontSize\": 15, \"title\": null}, \"field\": \"Feature\", \"sort\": [], \"type\": \"nominal\"}}}], \"data\": {\"name\": \"data-cfe1c3d85c1dfe71c9a673629575737a\"}, \"height\": 225, \"width\": 160}], \"resolve\": {\"scale\": {\"color\": \"independent\"}}, \"$schema\": \"https://vega.github.io/schema/vega-lite/v4.17.0.json\", \"datasets\": {\"data-72df2b7397b4dac08bcfa2ff79edc06b\": [{\"Coalition\": \"Sum of contribution of events > t\", \"t (event index)\": 0, \"Shapley Value\": -7.450580596923828e-08}, {\"Coalition\": \"Sum of contribution of events \\u2264 t\", \"t (event index)\": 0, \"Shapley Value\": 0.3582579046487808}, {\"Coalition\": \"Sum of contribution of events > t\", \"t (event index)\": -1, \"Shapley Value\": 0.3068298250436783}, {\"Coalition\": \"Sum of contribution of events \\u2264 t\", \"t (event index)\": -1, \"Shapley Value\": 0.05142800509929657}, {\"Coalition\": \"Sum of contribution of events > t\", \"t (event index)\": -2, \"Shapley Value\": 0.3531437963247299}, {\"Coalition\": \"Sum of contribution of events \\u2264 t\", \"t (event index)\": -2, \"Shapley Value\": 0.005114033818244934}, {\"Coalition\": \"Sum of contribution of events > t\", \"t (event index)\": -3, \"Shapley Value\": 0.3478729575872421}, {\"Coalition\": \"Sum of contribution of events \\u2264 t\", \"t (event index)\": -3, \"Shapley Value\": 0.010384872555732727}, {\"Coalition\": \"Sum of contribution of events > t\", \"t (event index)\": -4, \"Shapley Value\": 0.3452107086777687}, {\"Coalition\": \"Sum of contribution of events \\u2264 t\", \"t (event index)\": -4, \"Shapley Value\": 0.013047121465206146}, {\"Coalition\": \"Sum of contribution of events > t\", \"t (event index)\": -5, \"Shapley Value\": 0.3631715402007103}, {\"Coalition\": \"Sum of contribution of events \\u2264 t\", \"t (event index)\": -5, \"Shapley Value\": -0.004913710057735443}, {\"Coalition\": \"Sum of contribution of events > t\", \"t (event index)\": -6, \"Shapley Value\": 0.35615455359220505}, {\"Coalition\": \"Sum of contribution of events \\u2264 t\", \"t (event index)\": -6, \"Shapley Value\": 0.002103276550769806}, {\"Coalition\": \"Sum of contribution of events > t\", \"t (event index)\": -7, \"Shapley Value\": 0.3616122677922249}, {\"Coalition\": \"Sum of contribution of events \\u2264 t\", \"t (event index)\": -7, \"Shapley Value\": -0.0033544376492500305}, {\"Coalition\": \"Sum of contribution of events > t\", \"t (event index)\": -8, \"Shapley Value\": 0.3655235394835472}, {\"Coalition\": \"Sum of contribution of events \\u2264 t\", \"t (event index)\": -8, \"Shapley Value\": -0.007265709340572357}, {\"Coalition\": \"Sum of contribution of events > t\", \"t (event index)\": -9, \"Shapley Value\": 0.3786773905158043}, {\"Coalition\": \"Sum of contribution of events \\u2264 t\", \"t (event index)\": -9, \"Shapley Value\": -0.020419560372829437}, {\"Coalition\": \"Sum of contribution of events > t\", \"t (event index)\": -10, \"Shapley Value\": 0.37757067382335663}, {\"Coalition\": \"Sum of contribution of events \\u2264 t\", \"t (event index)\": -10, \"Shapley Value\": -0.019312843680381775}, {\"Coalition\": \"Sum of contribution of events > t\", \"t (event index)\": -11, \"Shapley Value\": 0.37650759518146515}, {\"Coalition\": \"Sum of contribution of events \\u2264 t\", \"t (event index)\": -11, \"Shapley Value\": -0.018249765038490295}, {\"Coalition\": \"Sum of contribution of events > t\", \"t (event index)\": -12, \"Shapley Value\": 0.38343440741300583}, {\"Coalition\": \"Sum of contribution of events \\u2264 t\", \"t (event index)\": -12, \"Shapley Value\": -0.025176577270030975}, {\"Coalition\": \"Sum of contribution of events > t\", \"t (event index)\": -13, \"Shapley Value\": 0.3827514350414276}, {\"Coalition\": \"Sum of contribution of events \\u2264 t\", \"t (event index)\": -13, \"Shapley Value\": -0.02449360489845276}, {\"Coalition\": \"Sum of contribution of events > t\", \"t (event index)\": -14, \"Shapley Value\": 0.3864302858710289}, {\"Coalition\": \"Sum of contribution of events \\u2264 t\", \"t (event index)\": -14, \"Shapley Value\": -0.028172455728054047}, {\"Coalition\": \"Sum of contribution of events > t\", \"t (event index)\": -15, \"Shapley Value\": 0.39738471806049347}, {\"Coalition\": \"Sum of contribution of events \\u2264 t\", \"t (event index)\": -15, \"Shapley Value\": -0.039126887917518616}, {\"Coalition\": \"Sum of contribution of events > t\", \"t (event index)\": -16, \"Shapley Value\": 0.39696039259433746}, {\"Coalition\": \"Sum of contribution of events \\u2264 t\", \"t (event index)\": -16, \"Shapley Value\": -0.03870256245136261}, {\"Coalition\": \"Sum of contribution of events > t\", \"t (event index)\": -17, \"Shapley Value\": 0.3904172033071518}, {\"Coalition\": \"Sum of contribution of events \\u2264 t\", \"t (event index)\": -17, \"Shapley Value\": -0.03215937316417694}, {\"Coalition\": \"Sum of contribution of events > t\", \"t (event index)\": -18, \"Shapley Value\": 0.38946087658405304}, {\"Coalition\": \"Sum of contribution of events \\u2264 t\", \"t (event index)\": -18, \"Shapley Value\": -0.031203046441078186}, {\"Coalition\": \"Sum of contribution of events > t\", \"t (event index)\": -19, \"Shapley Value\": 0.38464438170194626}, {\"Coalition\": \"Sum of contribution of events \\u2264 t\", \"t (event index)\": -19, \"Shapley Value\": -0.026386551558971405}, {\"Coalition\": \"Sum of contribution of events > t\", \"t (event index)\": -20, \"Shapley Value\": 0.3582579046487808}, {\"Coalition\": \"Sum of contribution of events \\u2264 t\", \"t (event index)\": -20, \"Shapley Value\": -7.450580596923828e-08}], \"data-a5230d44a0ee90255047fc67d1705c8b\": [{\"x\": -20}], \"data-ee8aec25528fa53b6011f1eacee6f6c5\": [{\"x\": -22}], \"data-669dbaef0911a545f8a3cf0e975804cb\": [{\"Shapley Value\": 0.32690273260282154, \"Feature\": \"Event -1\", \"row\": 1, \"column\": 1, \"rounded\": 0.327, \"rounded_str\": \"0.327\"}, {\"Shapley Value\": 0.03959681623507824, \"Feature\": \"Event -2\", \"row\": 2, \"column\": 1, \"rounded\": 0.04, \"rounded_str\": \"0.040\"}, {\"Shapley Value\": 0.0, \"Feature\": \"Event -3\", \"row\": 3, \"column\": 1, \"rounded\": 0.0, \"rounded_str\": \"0.000\"}, {\"Shapley Value\": 0.0, \"Feature\": \"Event -4\", \"row\": 4, \"column\": 1, \"rounded\": 0.0, \"rounded_str\": \"0.000\"}, {\"Shapley Value\": 0.00765768050171628, \"Feature\": \"Event -5\", \"row\": 5, \"column\": 1, \"rounded\": 0.008, \"rounded_str\": \"0.008\"}, {\"Shapley Value\": -0.007169702863045746, \"Feature\": \"Event -6\", \"row\": 6, \"column\": 1, \"rounded\": -0.007, \"rounded_str\": \"-0.007\"}, {\"Shapley Value\": 0.0, \"Feature\": \"Event -7\", \"row\": 7, \"column\": 1, \"rounded\": 0.0, \"rounded_str\": \"0.000\"}, {\"Shapley Value\": 0.0, \"Feature\": \"Event -8\", \"row\": 8, \"column\": 1, \"rounded\": 0.0, \"rounded_str\": \"0.000\"}, {\"Shapley Value\": 0.0, \"Feature\": \"Event -9\", \"row\": 9, \"column\": 1, \"rounded\": 0.0, \"rounded_str\": \"0.000\"}, {\"Shapley Value\": 0.0, \"Feature\": \"Event -10\", \"row\": 10, \"column\": 1, \"rounded\": 0.0, \"rounded_str\": \"0.000\"}, {\"Shapley Value\": -0.007741455415446963, \"Feature\": \"Event -11\", \"row\": 11, \"column\": 1, \"rounded\": -0.008, \"rounded_str\": \"-0.008\"}, {\"Shapley Value\": -0.008002570402986714, \"Feature\": \"Event -12\", \"row\": 12, \"column\": 1, \"rounded\": -0.008, \"rounded_str\": \"-0.008\"}, {\"Shapley Value\": 0.0, \"Feature\": \"Event -13\", \"row\": 13, \"column\": 1, \"rounded\": 0.0, \"rounded_str\": \"0.000\"}, {\"Shapley Value\": 0.0, \"Feature\": \"Event -14\", \"row\": 14, \"column\": 1, \"rounded\": 0.0, \"rounded_str\": \"0.000\"}, {\"Shapley Value\": 0.0, \"Feature\": \"Event -15\", \"row\": 15, \"column\": 1, \"rounded\": 0.0, \"rounded_str\": \"0.000\"}, {\"Shapley Value\": 0.0, \"Feature\": \"Event -16\", \"row\": 16, \"column\": 1, \"rounded\": 0.0, \"rounded_str\": \"0.000\"}, {\"Shapley Value\": 0.0, \"Feature\": \"Event -17\", \"row\": 17, \"column\": 1, \"rounded\": 0.0, \"rounded_str\": \"0.000\"}, {\"Shapley Value\": 0.00692198265060634, \"Feature\": \"Event -18\", \"row\": 18, \"column\": 1, \"rounded\": 0.007, \"rounded_str\": \"0.007\"}, {\"Shapley Value\": 0.009504795511843023, \"Feature\": \"Event -19\", \"row\": 19, \"column\": 1, \"rounded\": 0.01, \"rounded_str\": \"0.010\"}, {\"Shapley Value\": -0.009412448677611207, \"Feature\": \"Event -20\", \"row\": 20, \"column\": 1, \"rounded\": -0.009, \"rounded_str\": \"-0.009\"}], \"data-3752a52f9a9e3b14a5eb77c2b18d2f3d\": [{\"Random seed\": 42, \"NSamples\": 32000, \"Feature\": \"dim_0\", \"Shapley Value\": 0.35825783014297485, \"sort_col\": 0.35825783014297485}], \"data-9c00aa9dc2b1c1a0b4bf9b34ead12925\": [{\"x\": 0}], \"data-cfe1c3d85c1dfe71c9a673629575737a\": [{\"Event\": \"Event -1\", \"Feature\": \"dim_0\", \"Shapley Value\": 0.3068298250436783, \"rounded\": 0.307, \"rounded_str\": \"0.307\"}, {\"Event\": \"Other Events\", \"Feature\": \"dim_0\", \"Shapley Value\": 0.05142800509929657, \"rounded\": 0.051, \"rounded_str\": \"0.051\"}]}}, {\"mode\": \"vega-lite\"});\n",
       "</script>"
      ],
      "text/plain": [
       "alt.HConcatChart(...)"
      ]
     },
     "execution_count": 7,
     "metadata": {},
     "output_type": "execute_result"
    }
   ],
   "source": [
    "local_event_explaination(1)"
   ]
  },
  {
   "cell_type": "markdown",
   "id": "95cbde10",
   "metadata": {},
   "source": [
    "As above two interactions, it is safe to assume that the selected baseline event has a significant impact on SHAPley values.<br>\n",
    "Plausible reasons might be:-<br>\n",
    "    1. The event might be very similar to items in the event -1 to event -5 which has resulted in a higher score for the recommended items.<br>\n",
    "    2. In all ideal scenarios, by general intuition the first few events should show positive values.<br>\n",
    "    "
   ]
  },
  {
   "cell_type": "markdown",
   "id": "ab324b3a",
   "metadata": {},
   "source": [
    "### Distribution of scores of all items for sequence"
   ]
  },
  {
   "cell_type": "code",
   "execution_count": 8,
   "id": "52c75945",
   "metadata": {},
   "outputs": [
    {
     "data": {
      "image/png": "[encoded data removed]",
      "text/plain": [
       "<Figure size 640x480 with 1 Axes>"
      ]
     },
     "metadata": {},
     "output_type": "display_data"
    }
   ],
   "source": [
    "fig,axes = plt.subplots()\n",
    "axes.hist(array,bins = 100);\n",
    "axes.set_title('Distribution of scores of all items for selected interaction');\n"
   ]
  },
  {
   "cell_type": "markdown",
   "id": "8aec7846",
   "metadata": {},
   "source": [
    "### Experiments(Baseline event selection)"
   ]
  },
  {
   "cell_type": "markdown",
   "id": "7569e4c9",
   "metadata": {},
   "source": [
    "<b>1. Selecting the item which has the least score.</b><br>\n",
    "This item is the least likely to be selected amongst all the items. Hence, pertubing the sequence over it \n",
    "should result in a change in scores."
   ]
  },
  {
   "cell_type": "code",
   "execution_count": 9,
   "id": "d1667ec8",
   "metadata": {},
   "outputs": [
    {
     "name": "stdout",
     "output_type": "stream",
     "text": [
      "Assuming all features are model features\n"
     ]
    },
    {
     "name": "stderr",
     "output_type": "stream",
     "text": [
      "The default of 'normalize' will be set to False in version 1.2 and deprecated in version 1.4.\n",
      "If you wish to scale the data, use Pipeline with a StandardScaler in a preprocessing stage. To reproduce the previous behavior:\n",
      "\n",
      "from sklearn.pipeline import make_pipeline\n",
      "\n",
      "model = make_pipeline(StandardScaler(with_mean=False), LassoLarsIC())\n",
      "\n",
      "If you wish to pass a sample_weight parameter, you need to pass it as a fit parameter to each step of the pipeline as follows:\n",
      "\n",
      "kwargs = {s[0] + '__sample_weight': sample_weight for s in model.steps}\n",
      "model.fit(X, y, **kwargs)\n",
      "\n",
      "Set parameter alpha to: original_alpha * np.sqrt(n_samples). \n"
     ]
    },
    {
     "data": {
      "text/html": [
       "\n",
       "<div id=\"altair-viz-fc41b3c19f1f41238f27bed7646df1e4\"></div>\n",
       "<script type=\"text/javascript\">\n",
       "  var VEGA_DEBUG = (typeof VEGA_DEBUG == \"undefined\") ? {} : VEGA_DEBUG;\n",
       "  (function(spec, embedOpt){\n",
       "    let outputDiv = document.currentScript.previousElementSibling;\n",
       "    if (outputDiv.id !== \"altair-viz-fc41b3c19f1f41238f27bed7646df1e4\") {\n",
       "      outputDiv = document.getElementById(\"altair-viz-fc41b3c19f1f41238f27bed7646df1e4\");\n",
       "    }\n",
       "    const paths = {\n",
       "      \"vega\": \"https://cdn.jsdelivr.net/npm//vega@5?noext\",\n",
       "      \"vega-lib\": \"https://cdn.jsdelivr.net/npm//vega-lib?noext\",\n",
       "      \"vega-lite\": \"https://cdn.jsdelivr.net/npm//vega-lite@4.17.0?noext\",\n",
       "      \"vega-embed\": \"https://cdn.jsdelivr.net/npm//vega-embed@6?noext\",\n",
       "    };\n",
       "\n",
       "    function maybeLoadScript(lib, version) {\n",
       "      var key = `${lib.replace(\"-\", \"\")}_version`;\n",
       "      return (VEGA_DEBUG[key] == version) ?\n",
       "        Promise.resolve(paths[lib]) :\n",
       "        new Promise(function(resolve, reject) {\n",
       "          var s = document.createElement('script');\n",
       "          document.getElementsByTagName(\"head\")[0].appendChild(s);\n",
       "          s.async = true;\n",
       "          s.onload = () => {\n",
       "            VEGA_DEBUG[key] = version;\n",
       "            return resolve(paths[lib]);\n",
       "          };\n",
       "          s.onerror = () => reject(`Error loading script: ${paths[lib]}`);\n",
       "          s.src = paths[lib];\n",
       "        });\n",
       "    }\n",
       "\n",
       "    function showError(err) {\n",
       "      outputDiv.innerHTML = `<div class=\"error\" style=\"color:red;\">${err}</div>`;\n",
       "      throw err;\n",
       "    }\n",
       "\n",
       "    function displayChart(vegaEmbed) {\n",
       "      vegaEmbed(outputDiv, spec, embedOpt)\n",
       "        .catch(err => showError(`Javascript Error: ${err.message}<br>This usually means there's a typo in your chart specification. See the javascript console for the full traceback.`));\n",
       "    }\n",
       "\n",
       "    if(typeof define === \"function\" && define.amd) {\n",
       "      requirejs.config({paths});\n",
       "      require([\"vega-embed\"], displayChart, err => showError(`Error loading script: ${err.message}`));\n",
       "    } else {\n",
       "      maybeLoadScript(\"vega\", \"5\")\n",
       "        .then(() => maybeLoadScript(\"vega-lite\", \"4.17.0\"))\n",
       "        .then(() => maybeLoadScript(\"vega-embed\", \"6\"))\n",
       "        .catch(showError)\n",
       "        .then(() => displayChart(vegaEmbed));\n",
       "    }\n",
       "  })({\"config\": {\"axis\": {\"domain\": true, \"domainColor\": \"#666F89\", \"grid\": false, \"gridCap\": \"round\", \"gridColor\": \"#B3B7C4\", \"gridDash\": [2, 4], \"gridWidth\": 0.5, \"labelColor\": \"#666F89\", \"labelFont\": \"Roboto, Arial, sans-serif\", \"labelPadding\": 2, \"tickColor\": \"#666F89\", \"tickOpacity\": 0.5, \"tickSize\": 4, \"titleColor\": \"#19274E\", \"titleFont\": \"Roboto, Arial, sans-serif\", \"titleFontSize\": 12}, \"axisBand\": {\"domain\": true, \"labelPadding\": 4, \"ticks\": false}, \"axisY\": {\"domain\": false, \"titleAlign\": \"left\", \"titleAngle\": 0, \"titleX\": -20, \"titleY\": -10}, \"legend\": {\"labelColor\": \"#666F89\", \"labelFont\": \"Roboto, Arial, sans-serif\", \"labelFontSize\": 12, \"symbolSize\": 40, \"titleColor\": \"#19274E\", \"titleFont\": \"Roboto, Arial, sans-serif\", \"titleFontSize\": 12, \"titlePadding\": 4}, \"arc\": {\"stroke\": \"#FFFFFF\", \"strokeWidth\": 1}, \"bar\": {\"fill\": \"#2770EB\", \"stroke\": null}, \"line\": {\"stroke\": \"#2770EB\", \"strokeWidth\": 2}, \"path\": {\"stroke\": \"#2770EB\", \"strokeWidth\": 0.5}, \"point\": {\"fill\": \"#2770EB\", \"shape\": \"circle\", \"filled\": true}, \"rect\": {\"fill\": \"#2770EB\"}, \"rule\": {\"stroke\": \"#666F89\"}, \"shape\": {\"stroke\": \"#2770EB\"}, \"text\": {\"color\": \"#19274E\", \"font\": \"Roboto, Arial, sans-serif\", \"fontSize\": 12}, \"range\": {\"category\": [\"#2770EB\", \"#77B98A\", \"#DA5252\", \"#FFC400\", \"#A87AEA\", \"#00A39E\", \"#19274E\"], \"diverging\": [\"#006360\", \"#2BB3AE\", \"#96D9D7\", \"#FFFFFF\", \"#EDAAAA\", \"#DA5252\", \"#811D1D\"], \"heatmap\": [\"#18448F\", \"#1B4EA5\", \"#2770EB\", \"#4C88EE\", \"#82ACF3\", \"#A6C4F7\", \"#E9F1FD\"], \"ramp\": [\"#18448F\", \"#1B4EA5\", \"#2770EB\", \"#4C88EE\", \"#82ACF3\", \"#A6C4F7\", \"#E9F1FD\"]}, \"background\": \"#FFFFFF\", \"group\": {\"fill\": \"#FFFFFF\"}, \"header\": {\"labelColor\": \"#19274E\", \"labelFont\": \"Roboto, Arial, sans-serif\", \"labelFontSize\": 12, \"titleColor\": \"#19274E\", \"titleFont\": \"Roboto, Arial, sans-serif\", \"titleFontSize\": 16}, \"title\": {\"anchor\": \"start\", \"color\": \"#19274E\", \"font\": \"Roboto, Arial, sans-serif\", \"fontSize\": 20, \"fontWeight\": \"bold\", \"offset\": 20, \"subtitleColor\": \"#19274E\", \"subtitleFontSize\": 16}, \"view\": {\"continuousHeight\": 300, \"continuousWidth\": 400, \"stroke\": \"transparent\"}}, \"hconcat\": [{\"layer\": [{\"mark\": {\"type\": \"area\", \"opacity\": 0.5}, \"encoding\": {\"color\": {\"field\": \"Coalition\", \"legend\": {\"fillColor\": \"white\", \"labelFontSize\": 14, \"labelLimit\": 0, \"orient\": \"top-left\", \"symbolSize\": 50, \"symbolStrokeWidth\": 0, \"title\": null}, \"scale\": {\"domain\": [\"Sum of contribution of events \\u2264 t\"], \"range\": [\"#618FE0\"]}, \"type\": \"nominal\"}, \"x\": {\"axis\": {\"labelFontSize\": 15, \"title\": \"t (event index)\", \"titleFontSize\": 15}, \"field\": \"t (event index)\", \"type\": \"quantitative\"}, \"y\": {\"axis\": {\"grid\": true, \"labelFontSize\": 15, \"titleFontSize\": 15, \"titleX\": -28}, \"field\": \"Shapley Value\", \"scale\": {\"domain\": [-0.05, 1]}, \"type\": \"quantitative\"}}}, {\"mark\": \"line\", \"encoding\": {\"color\": {\"field\": \"Coalition\", \"legend\": {\"fillColor\": \"white\", \"labelFontSize\": 14, \"labelLimit\": 0, \"orient\": \"top-left\", \"symbolSize\": 50, \"symbolStrokeWidth\": 0, \"title\": null}, \"scale\": {\"domain\": [\"Sum of contribution of events \\u2264 t\"], \"range\": [\"#618FE0\"]}, \"type\": \"nominal\"}, \"x\": {\"axis\": {\"labelFontSize\": 15, \"title\": \"t (event index)\", \"titleFontSize\": 15}, \"field\": \"t (event index)\", \"type\": \"quantitative\"}, \"y\": {\"axis\": {\"grid\": true, \"labelFontSize\": 15, \"titleFontSize\": 15, \"titleX\": -28}, \"field\": \"Shapley Value\", \"scale\": {\"domain\": [-0.05, 1]}, \"type\": \"quantitative\"}}}, {\"data\": {\"name\": \"data-a5230d44a0ee90255047fc67d1705c8b\"}, \"mark\": {\"type\": \"rule\", \"color\": \"#E17560\"}, \"encoding\": {\"x\": {\"field\": \"x\", \"type\": \"quantitative\"}}}, {\"data\": {\"name\": \"data-ee8aec25528fa53b6011f1eacee6f6c5\"}, \"mark\": {\"type\": \"text\", \"angle\": 270, \"color\": \"#E17560\", \"fontSize\": 15, \"fontWeight\": \"bold\", \"text\": \"Pruning\"}, \"encoding\": {\"x\": {\"field\": \"x\", \"type\": \"quantitative\"}}}], \"data\": {\"name\": \"data-d4a503cc70404c140b79b3e7a1e38cfd\"}, \"height\": 225, \"width\": 350}, {\"layer\": [{\"mark\": \"rect\", \"encoding\": {\"color\": {\"field\": \"rounded\", \"legend\": {\"gradientLength\": 225, \"gradientThickness\": 10, \"labelFontSize\": 15, \"orient\": \"right\"}, \"scale\": {\"domain\": [-0.5, 0.5], \"range\": [\"#5f8fd6\", \"#99c3fb\", \"#f5f5f5\", \"#ffaa92\", \"#d16f5b\"]}, \"title\": null, \"type\": \"quantitative\"}, \"x\": {\"axis\": {\"title\": \"Shapley Value\", \"titleFontSize\": 15}, \"field\": \"column\", \"type\": \"ordinal\"}, \"y\": {\"axis\": {\"domain\": false, \"labelFontSize\": 15, \"title\": \"Event\", \"titleFontSize\": 15, \"titleX\": -49}, \"field\": \"Feature\", \"sort\": [\"Event -1\", \"Event -2\", \"Event -3\", \"Event -4\", \"Event -5\", \"Event -6\", \"Event -7\", \"Event -8\", \"Event -9\", \"Event -10\", \"Event -11\", \"Event -12\", \"Event -13\", \"Event -14\", \"Event -15\", \"Event -16\", \"Event -17\", \"Event -18\", \"Event -19\", \"Event -20\"], \"type\": \"ordinal\"}}}, {\"mark\": {\"type\": \"text\", \"align\": \"right\", \"baseline\": \"middle\", \"color\": \"#798184\", \"dx\": 18, \"fontSize\": 15}, \"encoding\": {\"text\": {\"field\": \"rounded_str\", \"type\": \"nominal\"}, \"x\": {\"axis\": {\"domain\": false, \"labels\": false, \"title\": \"Shapley Value\", \"titleX\": 43}, \"field\": \"column\", \"type\": \"ordinal\"}, \"y\": {\"axis\": {\"domain\": false, \"labelFontSize\": 15, \"title\": \"Event\", \"titleFontSize\": 15, \"titleX\": -49}, \"field\": \"Feature\", \"sort\": [\"Event -1\", \"Event -2\", \"Event -3\", \"Event -4\", \"Event -5\", \"Event -6\", \"Event -7\", \"Event -8\", \"Event -9\", \"Event -10\", \"Event -11\", \"Event -12\", \"Event -13\", \"Event -14\", \"Event -15\", \"Event -16\", \"Event -17\", \"Event -18\", \"Event -19\", \"Event -20\"], \"type\": \"ordinal\"}}}], \"data\": {\"name\": \"data-b9e8b33dcb8b463b9f447026cbb21eb9\"}, \"height\": 225, \"width\": 60}, {\"layer\": [{\"data\": {\"name\": \"data-a935f4c56ff4dc659527f7ea559a20b2\"}, \"mark\": {\"type\": \"bar\", \"size\": 15, \"thickness\": 1}, \"encoding\": {\"x\": {\"axis\": {\"grid\": true, \"labelFontSize\": 15, \"title\": \"Shapley Value\", \"titleFontSize\": 15}, \"field\": \"Shapley Value\", \"scale\": {\"domain\": [-0.1, 0.4]}, \"type\": \"quantitative\"}, \"y\": {\"axis\": {\"labelFontSize\": 15, \"title\": \"Feature\", \"titleFontSize\": 15, \"titleX\": -61}, \"field\": \"Feature\", \"sort\": {\"field\": \"sort_col\", \"order\": \"descending\"}, \"type\": \"nominal\"}}}, {\"data\": {\"name\": \"data-9c00aa9dc2b1c1a0b4bf9b34ead12925\"}, \"mark\": {\"type\": \"rule\", \"color\": \"#798184\"}, \"encoding\": {\"x\": {\"field\": \"x\", \"type\": \"quantitative\"}}}], \"height\": 225, \"width\": 190}, {\"layer\": [{\"mark\": \"rect\", \"encoding\": {\"color\": {\"field\": \"rounded\", \"legend\": {\"gradientLength\": 225, \"gradientThickness\": 10, \"labelFontSize\": 15, \"orient\": \"right\"}, \"scale\": {\"domain\": [-0.5, 0.5], \"range\": [\"#5f8fd6\", \"#99c3fb\", \"#f5f5f5\", \"#ffaa92\", \"#d16f5b\"]}, \"title\": null, \"type\": \"quantitative\"}, \"x\": {\"axis\": {\"titleFontSize\": 15}, \"field\": \"Event\", \"sort\": [\"Event -1\"], \"type\": \"nominal\"}, \"y\": {\"axis\": {\"domain\": false, \"labelFontSize\": 15, \"title\": null}, \"field\": \"Feature\", \"sort\": [], \"type\": \"nominal\"}}}, {\"mark\": {\"type\": \"text\", \"align\": \"right\", \"baseline\": \"middle\", \"color\": \"#798184\", \"dx\": 18, \"fontSize\": 15}, \"encoding\": {\"text\": {\"field\": \"rounded_str\", \"type\": \"nominal\"}, \"x\": {\"axis\": {\"domain\": false, \"labelAngle\": 30, \"labelFontSize\": 15, \"orient\": \"top\", \"title\": \"Shapley Value\", \"titleX\": 172, \"titleY\": 245}, \"field\": \"Event\", \"sort\": [\"Event -1\"], \"type\": \"nominal\"}, \"y\": {\"axis\": {\"domain\": false, \"labelFontSize\": 15, \"title\": null}, \"field\": \"Feature\", \"sort\": [], \"type\": \"nominal\"}}}], \"data\": {\"name\": \"data-c3d3a0eb514f09ad90459aa314f33d22\"}, \"height\": 225, \"width\": 160}], \"resolve\": {\"scale\": {\"color\": \"independent\"}}, \"$schema\": \"https://vega.github.io/schema/vega-lite/v4.17.0.json\", \"datasets\": {\"data-d4a503cc70404c140b79b3e7a1e38cfd\": [{\"Coalition\": \"Sum of contribution of events > t\", \"t (event index)\": 0, \"Shapley Value\": -7.82310962677002e-08}, {\"Coalition\": \"Sum of contribution of events \\u2264 t\", \"t (event index)\": 0, \"Shapley Value\": 0.5274921022355556}, {\"Coalition\": \"Sum of contribution of events > t\", \"t (event index)\": -1, \"Shapley Value\": 0.09901675581932068}, {\"Coalition\": \"Sum of contribution of events \\u2264 t\", \"t (event index)\": -1, \"Shapley Value\": 0.4284752681851387}, {\"Coalition\": \"Sum of contribution of events > t\", \"t (event index)\": -2, \"Shapley Value\": 0.30705131962895393}, {\"Coalition\": \"Sum of contribution of events \\u2264 t\", \"t (event index)\": -2, \"Shapley Value\": 0.22044070437550545}, {\"Coalition\": \"Sum of contribution of events > t\", \"t (event index)\": -3, \"Shapley Value\": 0.2607240416109562}, {\"Coalition\": \"Sum of contribution of events \\u2264 t\", \"t (event index)\": -3, \"Shapley Value\": 0.2667679823935032}, {\"Coalition\": \"Sum of contribution of events > t\", \"t (event index)\": -4, \"Shapley Value\": 0.3095570392906666}, {\"Coalition\": \"Sum of contribution of events \\u2264 t\", \"t (event index)\": -4, \"Shapley Value\": 0.2179349847137928}, {\"Coalition\": \"Sum of contribution of events > t\", \"t (event index)\": -5, \"Shapley Value\": 0.35034579411149025}, {\"Coalition\": \"Sum of contribution of events \\u2264 t\", \"t (event index)\": -5, \"Shapley Value\": 0.17714622989296913}, {\"Coalition\": \"Sum of contribution of events > t\", \"t (event index)\": -6, \"Shapley Value\": 0.3991009034216404}, {\"Coalition\": \"Sum of contribution of events \\u2264 t\", \"t (event index)\": -6, \"Shapley Value\": 0.12839112058281898}, {\"Coalition\": \"Sum of contribution of events > t\", \"t (event index)\": -7, \"Shapley Value\": 0.40897999331355095}, {\"Coalition\": \"Sum of contribution of events \\u2264 t\", \"t (event index)\": -7, \"Shapley Value\": 0.11851203069090843}, {\"Coalition\": \"Sum of contribution of events > t\", \"t (event index)\": -8, \"Shapley Value\": 0.46034205332398415}, {\"Coalition\": \"Sum of contribution of events \\u2264 t\", \"t (event index)\": -8, \"Shapley Value\": 0.06714997068047523}, {\"Coalition\": \"Sum of contribution of events > t\", \"t (event index)\": -9, \"Shapley Value\": 0.467956829816103}, {\"Coalition\": \"Sum of contribution of events \\u2264 t\", \"t (event index)\": -9, \"Shapley Value\": 0.0595351941883564}, {\"Coalition\": \"Sum of contribution of events > t\", \"t (event index)\": -10, \"Shapley Value\": 0.4763319529592991}, {\"Coalition\": \"Sum of contribution of events \\u2264 t\", \"t (event index)\": -10, \"Shapley Value\": 0.051160071045160294}, {\"Coalition\": \"Sum of contribution of events > t\", \"t (event index)\": -11, \"Shapley Value\": 0.4773692302405834}, {\"Coalition\": \"Sum of contribution of events \\u2264 t\", \"t (event index)\": -11, \"Shapley Value\": 0.05012279376387596}, {\"Coalition\": \"Sum of contribution of events > t\", \"t (event index)\": -12, \"Shapley Value\": 0.47307853773236275}, {\"Coalition\": \"Sum of contribution of events \\u2264 t\", \"t (event index)\": -12, \"Shapley Value\": 0.054413486272096634}, {\"Coalition\": \"Sum of contribution of events > t\", \"t (event index)\": -13, \"Shapley Value\": 0.4762035049498081}, {\"Coalition\": \"Sum of contribution of events \\u2264 t\", \"t (event index)\": -13, \"Shapley Value\": 0.05128851905465126}, {\"Coalition\": \"Sum of contribution of events > t\", \"t (event index)\": -14, \"Shapley Value\": 0.4645523764193058}, {\"Coalition\": \"Sum of contribution of events \\u2264 t\", \"t (event index)\": -14, \"Shapley Value\": 0.06293964758515358}, {\"Coalition\": \"Sum of contribution of events > t\", \"t (event index)\": -15, \"Shapley Value\": 0.46154024079442024}, {\"Coalition\": \"Sum of contribution of events \\u2264 t\", \"t (event index)\": -15, \"Shapley Value\": 0.06595178321003914}, {\"Coalition\": \"Sum of contribution of events > t\", \"t (event index)\": -16, \"Shapley Value\": 0.47397689893841743}, {\"Coalition\": \"Sum of contribution of events \\u2264 t\", \"t (event index)\": -16, \"Shapley Value\": 0.053515125066041946}, {\"Coalition\": \"Sum of contribution of events > t\", \"t (event index)\": -17, \"Shapley Value\": 0.4770404137670994}, {\"Coalition\": \"Sum of contribution of events \\u2264 t\", \"t (event index)\": -17, \"Shapley Value\": 0.05045161023736}, {\"Coalition\": \"Sum of contribution of events > t\", \"t (event index)\": -18, \"Shapley Value\": 0.4806988798081875}, {\"Coalition\": \"Sum of contribution of events \\u2264 t\", \"t (event index)\": -18, \"Shapley Value\": 0.046793144196271896}, {\"Coalition\": \"Sum of contribution of events > t\", \"t (event index)\": -19, \"Shapley Value\": 0.4892180673778057}, {\"Coalition\": \"Sum of contribution of events \\u2264 t\", \"t (event index)\": -19, \"Shapley Value\": 0.03827395662665367}, {\"Coalition\": \"Sum of contribution of events > t\", \"t (event index)\": -20, \"Shapley Value\": 0.5274921022355556}, {\"Coalition\": \"Sum of contribution of events \\u2264 t\", \"t (event index)\": -20, \"Shapley Value\": -7.82310962677002e-08}], \"data-a5230d44a0ee90255047fc67d1705c8b\": [{\"x\": -20}], \"data-ee8aec25528fa53b6011f1eacee6f6c5\": [{\"x\": -22}], \"data-b9e8b33dcb8b463b9f447026cbb21eb9\": [{\"Shapley Value\": 0.13455311361493263, \"Feature\": \"Event -1\", \"row\": 1, \"column\": 1, \"rounded\": 0.135, \"rounded_str\": \"0.135\"}, {\"Shapley Value\": 0.12047342036559089, \"Feature\": \"Event -2\", \"row\": 2, \"column\": 1, \"rounded\": 0.12, \"rounded_str\": \"0.120\"}, {\"Shapley Value\": 0.049938104411992756, \"Feature\": \"Event -3\", \"row\": 3, \"column\": 1, \"rounded\": 0.05, \"rounded_str\": \"0.050\"}, {\"Shapley Value\": 0.05142515837250161, \"Feature\": \"Event -4\", \"row\": 4, \"column\": 1, \"rounded\": 0.051, \"rounded_str\": \"0.051\"}, {\"Shapley Value\": 0.03975403980917375, \"Feature\": \"Event -5\", \"row\": 5, \"column\": 1, \"rounded\": 0.04, \"rounded_str\": \"0.040\"}, {\"Shapley Value\": 0.01674011845920223, \"Feature\": \"Event -6\", \"row\": 6, \"column\": 1, \"rounded\": 0.017, \"rounded_str\": \"0.017\"}, {\"Shapley Value\": 0.021579623522125224, \"Feature\": \"Event -7\", \"row\": 7, \"column\": 1, \"rounded\": 0.022, \"rounded_str\": \"0.022\"}, {\"Shapley Value\": 0.020549132657894598, \"Feature\": \"Event -8\", \"row\": 8, \"column\": 1, \"rounded\": 0.021, \"rounded_str\": \"0.021\"}, {\"Shapley Value\": 0.009631950891620639, \"Feature\": \"Event -9\", \"row\": 9, \"column\": 1, \"rounded\": 0.01, \"rounded_str\": \"0.010\"}, {\"Shapley Value\": 0.011367248782137407, \"Feature\": \"Event -10\", \"row\": 10, \"column\": 1, \"rounded\": 0.011, \"rounded_str\": \"0.011\"}, {\"Shapley Value\": 0.004767772236389467, \"Feature\": \"Event -11\", \"row\": 11, \"column\": 1, \"rounded\": 0.005, \"rounded_str\": \"0.005\"}, {\"Shapley Value\": 0.008048847972636053, \"Feature\": \"Event -12\", \"row\": 12, \"column\": 1, \"rounded\": 0.008, \"rounded_str\": \"0.008\"}, {\"Shapley Value\": 0.0022152058539253727, \"Feature\": \"Event -13\", \"row\": 13, \"column\": 1, \"rounded\": 0.002, \"rounded_str\": \"0.002\"}, {\"Shapley Value\": 0.003501356172667197, \"Feature\": \"Event -14\", \"row\": 14, \"column\": 1, \"rounded\": 0.004, \"rounded_str\": \"0.004\"}, {\"Shapley Value\": 0.0, \"Feature\": \"Event -15\", \"row\": 15, \"column\": 1, \"rounded\": 0.0, \"rounded_str\": \"0.000\"}, {\"Shapley Value\": 0.0027216393714944997, \"Feature\": \"Event -16\", \"row\": 16, \"column\": 1, \"rounded\": 0.003, \"rounded_str\": \"0.003\"}, {\"Shapley Value\": 0.0006261649538767955, \"Feature\": \"Event -17\", \"row\": 17, \"column\": 1, \"rounded\": 0.001, \"rounded_str\": \"0.001\"}, {\"Shapley Value\": 0.005984708283664597, \"Feature\": \"Event -18\", \"row\": 18, \"column\": 1, \"rounded\": 0.006, \"rounded_str\": \"0.006\"}, {\"Shapley Value\": 0.0068635293151894095, \"Feature\": \"Event -19\", \"row\": 19, \"column\": 1, \"rounded\": 0.007, \"rounded_str\": \"0.007\"}, {\"Shapley Value\": 0.016750888957444143, \"Feature\": \"Event -20\", \"row\": 20, \"column\": 1, \"rounded\": 0.017, \"rounded_str\": \"0.017\"}], \"data-a935f4c56ff4dc659527f7ea559a20b2\": [{\"Random seed\": 42, \"NSamples\": 32000, \"Feature\": \"dim_0\", \"Shapley Value\": 0.5274920240044594, \"sort_col\": 0.5274920240044594}], \"data-9c00aa9dc2b1c1a0b4bf9b34ead12925\": [{\"x\": 0}], \"data-c3d3a0eb514f09ad90459aa314f33d22\": [{\"Event\": \"Other Events\", \"Feature\": \"dim_0\", \"Shapley Value\": 0.4284752681851387, \"rounded\": 0.428, \"rounded_str\": \"0.428\"}, {\"Event\": \"Event -1\", \"Feature\": \"dim_0\", \"Shapley Value\": 0.09901675581932068, \"rounded\": 0.099, \"rounded_str\": \"0.099\"}]}}, {\"mode\": \"vega-lite\"});\n",
       "</script>"
      ],
      "text/plain": [
       "alt.HConcatChart(...)"
      ]
     },
     "execution_count": 9,
     "metadata": {},
     "output_type": "execute_result"
    }
   ],
   "source": [
    "min_event = array.argmin()\n",
    "local_event_explaination(min_event)"
   ]
  },
  {
   "cell_type": "markdown",
   "id": "f894ea74",
   "metadata": {},
   "source": [
    "<b>2. Selecting the item which has the highest score.</b><br>\n",
    "This item is the most likely to be selected amongst all the items."
   ]
  },
  {
   "cell_type": "code",
   "execution_count": 10,
   "id": "52d07b14",
   "metadata": {},
   "outputs": [
    {
     "name": "stdout",
     "output_type": "stream",
     "text": [
      "Assuming all features are model features\n"
     ]
    },
    {
     "name": "stderr",
     "output_type": "stream",
     "text": [
      "The default of 'normalize' will be set to False in version 1.2 and deprecated in version 1.4.\n",
      "If you wish to scale the data, use Pipeline with a StandardScaler in a preprocessing stage. To reproduce the previous behavior:\n",
      "\n",
      "from sklearn.pipeline import make_pipeline\n",
      "\n",
      "model = make_pipeline(StandardScaler(with_mean=False), LassoLarsIC())\n",
      "\n",
      "If you wish to pass a sample_weight parameter, you need to pass it as a fit parameter to each step of the pipeline as follows:\n",
      "\n",
      "kwargs = {s[0] + '__sample_weight': sample_weight for s in model.steps}\n",
      "model.fit(X, y, **kwargs)\n",
      "\n",
      "Set parameter alpha to: original_alpha * np.sqrt(n_samples). \n"
     ]
    },
    {
     "data": {
      "text/html": [
       "\n",
       "<div id=\"altair-viz-e7e3ef28e836490e8108886341d277ca\"></div>\n",
       "<script type=\"text/javascript\">\n",
       "  var VEGA_DEBUG = (typeof VEGA_DEBUG == \"undefined\") ? {} : VEGA_DEBUG;\n",
       "  (function(spec, embedOpt){\n",
       "    let outputDiv = document.currentScript.previousElementSibling;\n",
       "    if (outputDiv.id !== \"altair-viz-e7e3ef28e836490e8108886341d277ca\") {\n",
       "      outputDiv = document.getElementById(\"altair-viz-e7e3ef28e836490e8108886341d277ca\");\n",
       "    }\n",
       "    const paths = {\n",
       "      \"vega\": \"https://cdn.jsdelivr.net/npm//vega@5?noext\",\n",
       "      \"vega-lib\": \"https://cdn.jsdelivr.net/npm//vega-lib?noext\",\n",
       "      \"vega-lite\": \"https://cdn.jsdelivr.net/npm//vega-lite@4.17.0?noext\",\n",
       "      \"vega-embed\": \"https://cdn.jsdelivr.net/npm//vega-embed@6?noext\",\n",
       "    };\n",
       "\n",
       "    function maybeLoadScript(lib, version) {\n",
       "      var key = `${lib.replace(\"-\", \"\")}_version`;\n",
       "      return (VEGA_DEBUG[key] == version) ?\n",
       "        Promise.resolve(paths[lib]) :\n",
       "        new Promise(function(resolve, reject) {\n",
       "          var s = document.createElement('script');\n",
       "          document.getElementsByTagName(\"head\")[0].appendChild(s);\n",
       "          s.async = true;\n",
       "          s.onload = () => {\n",
       "            VEGA_DEBUG[key] = version;\n",
       "            return resolve(paths[lib]);\n",
       "          };\n",
       "          s.onerror = () => reject(`Error loading script: ${paths[lib]}`);\n",
       "          s.src = paths[lib];\n",
       "        });\n",
       "    }\n",
       "\n",
       "    function showError(err) {\n",
       "      outputDiv.innerHTML = `<div class=\"error\" style=\"color:red;\">${err}</div>`;\n",
       "      throw err;\n",
       "    }\n",
       "\n",
       "    function displayChart(vegaEmbed) {\n",
       "      vegaEmbed(outputDiv, spec, embedOpt)\n",
       "        .catch(err => showError(`Javascript Error: ${err.message}<br>This usually means there's a typo in your chart specification. See the javascript console for the full traceback.`));\n",
       "    }\n",
       "\n",
       "    if(typeof define === \"function\" && define.amd) {\n",
       "      requirejs.config({paths});\n",
       "      require([\"vega-embed\"], displayChart, err => showError(`Error loading script: ${err.message}`));\n",
       "    } else {\n",
       "      maybeLoadScript(\"vega\", \"5\")\n",
       "        .then(() => maybeLoadScript(\"vega-lite\", \"4.17.0\"))\n",
       "        .then(() => maybeLoadScript(\"vega-embed\", \"6\"))\n",
       "        .catch(showError)\n",
       "        .then(() => displayChart(vegaEmbed));\n",
       "    }\n",
       "  })({\"config\": {\"axis\": {\"domain\": true, \"domainColor\": \"#666F89\", \"grid\": false, \"gridCap\": \"round\", \"gridColor\": \"#B3B7C4\", \"gridDash\": [2, 4], \"gridWidth\": 0.5, \"labelColor\": \"#666F89\", \"labelFont\": \"Roboto, Arial, sans-serif\", \"labelPadding\": 2, \"tickColor\": \"#666F89\", \"tickOpacity\": 0.5, \"tickSize\": 4, \"titleColor\": \"#19274E\", \"titleFont\": \"Roboto, Arial, sans-serif\", \"titleFontSize\": 12}, \"axisBand\": {\"domain\": true, \"labelPadding\": 4, \"ticks\": false}, \"axisY\": {\"domain\": false, \"titleAlign\": \"left\", \"titleAngle\": 0, \"titleX\": -20, \"titleY\": -10}, \"legend\": {\"labelColor\": \"#666F89\", \"labelFont\": \"Roboto, Arial, sans-serif\", \"labelFontSize\": 12, \"symbolSize\": 40, \"titleColor\": \"#19274E\", \"titleFont\": \"Roboto, Arial, sans-serif\", \"titleFontSize\": 12, \"titlePadding\": 4}, \"arc\": {\"stroke\": \"#FFFFFF\", \"strokeWidth\": 1}, \"bar\": {\"fill\": \"#2770EB\", \"stroke\": null}, \"line\": {\"stroke\": \"#2770EB\", \"strokeWidth\": 2}, \"path\": {\"stroke\": \"#2770EB\", \"strokeWidth\": 0.5}, \"point\": {\"fill\": \"#2770EB\", \"shape\": \"circle\", \"filled\": true}, \"rect\": {\"fill\": \"#2770EB\"}, \"rule\": {\"stroke\": \"#666F89\"}, \"shape\": {\"stroke\": \"#2770EB\"}, \"text\": {\"color\": \"#19274E\", \"font\": \"Roboto, Arial, sans-serif\", \"fontSize\": 12}, \"range\": {\"category\": [\"#2770EB\", \"#77B98A\", \"#DA5252\", \"#FFC400\", \"#A87AEA\", \"#00A39E\", \"#19274E\"], \"diverging\": [\"#006360\", \"#2BB3AE\", \"#96D9D7\", \"#FFFFFF\", \"#EDAAAA\", \"#DA5252\", \"#811D1D\"], \"heatmap\": [\"#18448F\", \"#1B4EA5\", \"#2770EB\", \"#4C88EE\", \"#82ACF3\", \"#A6C4F7\", \"#E9F1FD\"], \"ramp\": [\"#18448F\", \"#1B4EA5\", \"#2770EB\", \"#4C88EE\", \"#82ACF3\", \"#A6C4F7\", \"#E9F1FD\"]}, \"background\": \"#FFFFFF\", \"group\": {\"fill\": \"#FFFFFF\"}, \"header\": {\"labelColor\": \"#19274E\", \"labelFont\": \"Roboto, Arial, sans-serif\", \"labelFontSize\": 12, \"titleColor\": \"#19274E\", \"titleFont\": \"Roboto, Arial, sans-serif\", \"titleFontSize\": 16}, \"title\": {\"anchor\": \"start\", \"color\": \"#19274E\", \"font\": \"Roboto, Arial, sans-serif\", \"fontSize\": 20, \"fontWeight\": \"bold\", \"offset\": 20, \"subtitleColor\": \"#19274E\", \"subtitleFontSize\": 16}, \"view\": {\"continuousHeight\": 300, \"continuousWidth\": 400, \"stroke\": \"transparent\"}}, \"hconcat\": [{\"layer\": [{\"mark\": {\"type\": \"area\", \"opacity\": 0.5}, \"encoding\": {\"color\": {\"field\": \"Coalition\", \"legend\": {\"fillColor\": \"white\", \"labelFontSize\": 14, \"labelLimit\": 0, \"orient\": \"top-left\", \"symbolSize\": 50, \"symbolStrokeWidth\": 0, \"title\": null}, \"scale\": {\"domain\": [\"Sum of contribution of events \\u2264 t\"], \"range\": [\"#618FE0\"]}, \"type\": \"nominal\"}, \"x\": {\"axis\": {\"labelFontSize\": 15, \"title\": \"t (event index)\", \"titleFontSize\": 15}, \"field\": \"t (event index)\", \"type\": \"quantitative\"}, \"y\": {\"axis\": {\"grid\": true, \"labelFontSize\": 15, \"titleFontSize\": 15, \"titleX\": -28}, \"field\": \"Shapley Value\", \"scale\": {\"domain\": [-0.05, 1]}, \"type\": \"quantitative\"}}}, {\"mark\": \"line\", \"encoding\": {\"color\": {\"field\": \"Coalition\", \"legend\": {\"fillColor\": \"white\", \"labelFontSize\": 14, \"labelLimit\": 0, \"orient\": \"top-left\", \"symbolSize\": 50, \"symbolStrokeWidth\": 0, \"title\": null}, \"scale\": {\"domain\": [\"Sum of contribution of events \\u2264 t\"], \"range\": [\"#618FE0\"]}, \"type\": \"nominal\"}, \"x\": {\"axis\": {\"labelFontSize\": 15, \"title\": \"t (event index)\", \"titleFontSize\": 15}, \"field\": \"t (event index)\", \"type\": \"quantitative\"}, \"y\": {\"axis\": {\"grid\": true, \"labelFontSize\": 15, \"titleFontSize\": 15, \"titleX\": -28}, \"field\": \"Shapley Value\", \"scale\": {\"domain\": [-0.05, 1]}, \"type\": \"quantitative\"}}}, {\"data\": {\"name\": \"data-a5230d44a0ee90255047fc67d1705c8b\"}, \"mark\": {\"type\": \"rule\", \"color\": \"#E17560\"}, \"encoding\": {\"x\": {\"field\": \"x\", \"type\": \"quantitative\"}}}, {\"data\": {\"name\": \"data-ee8aec25528fa53b6011f1eacee6f6c5\"}, \"mark\": {\"type\": \"text\", \"angle\": 270, \"color\": \"#E17560\", \"fontSize\": 15, \"fontWeight\": \"bold\", \"text\": \"Pruning\"}, \"encoding\": {\"x\": {\"field\": \"x\", \"type\": \"quantitative\"}}}], \"data\": {\"name\": \"data-5351d6575cc270016e5fceef5fe3233f\"}, \"height\": 225, \"width\": 350}, {\"layer\": [{\"mark\": \"rect\", \"encoding\": {\"color\": {\"field\": \"rounded\", \"legend\": {\"gradientLength\": 225, \"gradientThickness\": 10, \"labelFontSize\": 15, \"orient\": \"right\"}, \"scale\": {\"domain\": [-0.5, 0.5], \"range\": [\"#5f8fd6\", \"#99c3fb\", \"#f5f5f5\", \"#ffaa92\", \"#d16f5b\"]}, \"title\": null, \"type\": \"quantitative\"}, \"x\": {\"axis\": {\"title\": \"Shapley Value\", \"titleFontSize\": 15}, \"field\": \"column\", \"type\": \"ordinal\"}, \"y\": {\"axis\": {\"domain\": false, \"labelFontSize\": 15, \"title\": \"Event\", \"titleFontSize\": 15, \"titleX\": -49}, \"field\": \"Feature\", \"sort\": [\"Event -1\", \"Event -2\", \"Event -3\", \"Event -4\", \"Event -5\", \"Event -6\", \"Event -7\", \"Event -8\", \"Event -9\", \"Event -10\", \"Event -11\", \"Event -12\", \"Event -13\", \"Event -14\", \"Event -15\", \"Event -16\", \"Event -17\", \"Event -18\", \"Event -19\", \"Event -20\"], \"type\": \"ordinal\"}}}, {\"mark\": {\"type\": \"text\", \"align\": \"right\", \"baseline\": \"middle\", \"color\": \"#798184\", \"dx\": 18, \"fontSize\": 15}, \"encoding\": {\"text\": {\"field\": \"rounded_str\", \"type\": \"nominal\"}, \"x\": {\"axis\": {\"domain\": false, \"labels\": false, \"title\": \"Shapley Value\", \"titleX\": 43}, \"field\": \"column\", \"type\": \"ordinal\"}, \"y\": {\"axis\": {\"domain\": false, \"labelFontSize\": 15, \"title\": \"Event\", \"titleFontSize\": 15, \"titleX\": -49}, \"field\": \"Feature\", \"sort\": [\"Event -1\", \"Event -2\", \"Event -3\", \"Event -4\", \"Event -5\", \"Event -6\", \"Event -7\", \"Event -8\", \"Event -9\", \"Event -10\", \"Event -11\", \"Event -12\", \"Event -13\", \"Event -14\", \"Event -15\", \"Event -16\", \"Event -17\", \"Event -18\", \"Event -19\", \"Event -20\"], \"type\": \"ordinal\"}}}], \"data\": {\"name\": \"data-446b0e2d2f2986fcac57f6169234635a\"}, \"height\": 225, \"width\": 60}, {\"layer\": [{\"data\": {\"name\": \"data-3d28b8a23532d67c44b94e5d0909ed00\"}, \"mark\": {\"type\": \"bar\", \"size\": 15, \"thickness\": 1}, \"encoding\": {\"x\": {\"axis\": {\"grid\": true, \"labelFontSize\": 15, \"title\": \"Shapley Value\", \"titleFontSize\": 15}, \"field\": \"Shapley Value\", \"scale\": {\"domain\": [-0.1, 0.4]}, \"type\": \"quantitative\"}, \"y\": {\"axis\": {\"labelFontSize\": 15, \"title\": \"Feature\", \"titleFontSize\": 15, \"titleX\": -61}, \"field\": \"Feature\", \"sort\": {\"field\": \"sort_col\", \"order\": \"descending\"}, \"type\": \"nominal\"}}}, {\"data\": {\"name\": \"data-9c00aa9dc2b1c1a0b4bf9b34ead12925\"}, \"mark\": {\"type\": \"rule\", \"color\": \"#798184\"}, \"encoding\": {\"x\": {\"field\": \"x\", \"type\": \"quantitative\"}}}], \"height\": 225, \"width\": 190}, {\"layer\": [{\"mark\": \"rect\", \"encoding\": {\"color\": {\"field\": \"rounded\", \"legend\": {\"gradientLength\": 225, \"gradientThickness\": 10, \"labelFontSize\": 15, \"orient\": \"right\"}, \"scale\": {\"domain\": [-0.5, 0.5], \"range\": [\"#5f8fd6\", \"#99c3fb\", \"#f5f5f5\", \"#ffaa92\", \"#d16f5b\"]}, \"title\": null, \"type\": \"quantitative\"}, \"x\": {\"axis\": {\"titleFontSize\": 15}, \"field\": \"Event\", \"sort\": [\"Event -20\"], \"type\": \"nominal\"}, \"y\": {\"axis\": {\"domain\": false, \"labelFontSize\": 15, \"title\": null}, \"field\": \"Feature\", \"sort\": [], \"type\": \"nominal\"}}}, {\"mark\": {\"type\": \"text\", \"align\": \"right\", \"baseline\": \"middle\", \"color\": \"#798184\", \"dx\": 18, \"fontSize\": 15}, \"encoding\": {\"text\": {\"field\": \"rounded_str\", \"type\": \"nominal\"}, \"x\": {\"axis\": {\"domain\": false, \"labelAngle\": 30, \"labelFontSize\": 15, \"orient\": \"top\", \"title\": \"Shapley Value\", \"titleX\": 172, \"titleY\": 245}, \"field\": \"Event\", \"sort\": [\"Event -20\"], \"type\": \"nominal\"}, \"y\": {\"axis\": {\"domain\": false, \"labelFontSize\": 15, \"title\": null}, \"field\": \"Feature\", \"sort\": [], \"type\": \"nominal\"}}}], \"data\": {\"name\": \"data-9e5f34c431480417b8117c9cdb29ab31\"}, \"height\": 225, \"width\": 160}], \"resolve\": {\"scale\": {\"color\": \"independent\"}}, \"$schema\": \"https://vega.github.io/schema/vega-lite/v4.17.0.json\", \"datasets\": {\"data-5351d6575cc270016e5fceef5fe3233f\": [{\"Coalition\": \"Sum of contribution of events > t\", \"t (event index)\": 0, \"Shapley Value\": -7.450580596923828e-08}, {\"Coalition\": \"Sum of contribution of events \\u2264 t\", \"t (event index)\": 0, \"Shapley Value\": 0.2960372716188431}, {\"Coalition\": \"Sum of contribution of events > t\", \"t (event index)\": -1, \"Shapley Value\": 0.05934637784957886}, {\"Coalition\": \"Sum of contribution of events \\u2264 t\", \"t (event index)\": -1, \"Shapley Value\": 0.23669081926345825}, {\"Coalition\": \"Sum of contribution of events > t\", \"t (event index)\": -2, \"Shapley Value\": 0.09621942043304443}, {\"Coalition\": \"Sum of contribution of events \\u2264 t\", \"t (event index)\": -2, \"Shapley Value\": 0.19981777667999268}, {\"Coalition\": \"Sum of contribution of events > t\", \"t (event index)\": -3, \"Shapley Value\": 0.11549142003059387}, {\"Coalition\": \"Sum of contribution of events \\u2264 t\", \"t (event index)\": -3, \"Shapley Value\": 0.18054577708244324}, {\"Coalition\": \"Sum of contribution of events > t\", \"t (event index)\": -4, \"Shapley Value\": 0.11192727088928223}, {\"Coalition\": \"Sum of contribution of events \\u2264 t\", \"t (event index)\": -4, \"Shapley Value\": 0.18410992622375488}, {\"Coalition\": \"Sum of contribution of events > t\", \"t (event index)\": -5, \"Shapley Value\": 0.11303028464317322}, {\"Coalition\": \"Sum of contribution of events \\u2264 t\", \"t (event index)\": -5, \"Shapley Value\": 0.1830069124698639}, {\"Coalition\": \"Sum of contribution of events > t\", \"t (event index)\": -6, \"Shapley Value\": 0.10998082160949707}, {\"Coalition\": \"Sum of contribution of events \\u2264 t\", \"t (event index)\": -6, \"Shapley Value\": 0.18605637550354004}, {\"Coalition\": \"Sum of contribution of events > t\", \"t (event index)\": -7, \"Shapley Value\": 0.11196711659431458}, {\"Coalition\": \"Sum of contribution of events \\u2264 t\", \"t (event index)\": -7, \"Shapley Value\": 0.18407008051872253}, {\"Coalition\": \"Sum of contribution of events > t\", \"t (event index)\": -8, \"Shapley Value\": 0.12243795394897461}, {\"Coalition\": \"Sum of contribution of events \\u2264 t\", \"t (event index)\": -8, \"Shapley Value\": 0.1735992431640625}, {\"Coalition\": \"Sum of contribution of events > t\", \"t (event index)\": -9, \"Shapley Value\": 0.12570318579673767}, {\"Coalition\": \"Sum of contribution of events \\u2264 t\", \"t (event index)\": -9, \"Shapley Value\": 0.17033401131629944}, {\"Coalition\": \"Sum of contribution of events > t\", \"t (event index)\": -10, \"Shapley Value\": 0.13132545351982117}, {\"Coalition\": \"Sum of contribution of events \\u2264 t\", \"t (event index)\": -10, \"Shapley Value\": 0.16471174359321594}, {\"Coalition\": \"Sum of contribution of events > t\", \"t (event index)\": -11, \"Shapley Value\": 0.1350693702697754}, {\"Coalition\": \"Sum of contribution of events \\u2264 t\", \"t (event index)\": -11, \"Shapley Value\": 0.16096782684326172}, {\"Coalition\": \"Sum of contribution of events > t\", \"t (event index)\": -12, \"Shapley Value\": 0.1340101957321167}, {\"Coalition\": \"Sum of contribution of events \\u2264 t\", \"t (event index)\": -12, \"Shapley Value\": 0.1620270013809204}, {\"Coalition\": \"Sum of contribution of events > t\", \"t (event index)\": -13, \"Shapley Value\": 0.1341865062713623}, {\"Coalition\": \"Sum of contribution of events \\u2264 t\", \"t (event index)\": -13, \"Shapley Value\": 0.1618506908416748}, {\"Coalition\": \"Sum of contribution of events > t\", \"t (event index)\": -14, \"Shapley Value\": 0.14613085985183716}, {\"Coalition\": \"Sum of contribution of events \\u2264 t\", \"t (event index)\": -14, \"Shapley Value\": 0.14990633726119995}, {\"Coalition\": \"Sum of contribution of events > t\", \"t (event index)\": -15, \"Shapley Value\": 0.14785173535346985}, {\"Coalition\": \"Sum of contribution of events \\u2264 t\", \"t (event index)\": -15, \"Shapley Value\": 0.14818546175956726}, {\"Coalition\": \"Sum of contribution of events > t\", \"t (event index)\": -16, \"Shapley Value\": 0.143803209066391}, {\"Coalition\": \"Sum of contribution of events \\u2264 t\", \"t (event index)\": -16, \"Shapley Value\": 0.15223398804664612}, {\"Coalition\": \"Sum of contribution of events > t\", \"t (event index)\": -17, \"Shapley Value\": 0.1423356831073761}, {\"Coalition\": \"Sum of contribution of events \\u2264 t\", \"t (event index)\": -17, \"Shapley Value\": 0.153701514005661}, {\"Coalition\": \"Sum of contribution of events > t\", \"t (event index)\": -18, \"Shapley Value\": 0.15188175439834595}, {\"Coalition\": \"Sum of contribution of events \\u2264 t\", \"t (event index)\": -18, \"Shapley Value\": 0.14415544271469116}, {\"Coalition\": \"Sum of contribution of events > t\", \"t (event index)\": -19, \"Shapley Value\": 0.19678786396980286}, {\"Coalition\": \"Sum of contribution of events \\u2264 t\", \"t (event index)\": -19, \"Shapley Value\": 0.09924933314323425}, {\"Coalition\": \"Sum of contribution of events > t\", \"t (event index)\": -20, \"Shapley Value\": 0.2960372716188431}, {\"Coalition\": \"Sum of contribution of events \\u2264 t\", \"t (event index)\": -20, \"Shapley Value\": -7.450580596923828e-08}], \"data-a5230d44a0ee90255047fc67d1705c8b\": [{\"x\": -20}], \"data-ee8aec25528fa53b6011f1eacee6f6c5\": [{\"x\": -22}], \"data-446b0e2d2f2986fcac57f6169234635a\": [{\"Shapley Value\": 0.055568404758382345, \"Feature\": \"Event -1\", \"row\": 1, \"column\": 1, \"rounded\": 0.056, \"rounded_str\": \"0.056\"}, {\"Shapley Value\": 0.03284110305464749, \"Feature\": \"Event -2\", \"row\": 2, \"column\": 1, \"rounded\": 0.033, \"rounded_str\": \"0.033\"}, {\"Shapley Value\": 0.03374833778243268, \"Feature\": \"Event -3\", \"row\": 3, \"column\": 1, \"rounded\": 0.034, \"rounded_str\": \"0.034\"}, {\"Shapley Value\": 0.0, \"Feature\": \"Event -4\", \"row\": 4, \"column\": 1, \"rounded\": 0.0, \"rounded_str\": \"0.000\"}, {\"Shapley Value\": 0.0034038347535790825, \"Feature\": \"Event -5\", \"row\": 5, \"column\": 1, \"rounded\": 0.003, \"rounded_str\": \"0.003\"}, {\"Shapley Value\": 0.0, \"Feature\": \"Event -6\", \"row\": 6, \"column\": 1, \"rounded\": 0.0, \"rounded_str\": \"0.000\"}, {\"Shapley Value\": 0.0004479882456170925, \"Feature\": \"Event -7\", \"row\": 7, \"column\": 1, \"rounded\": 0.0, \"rounded_str\": \"0.000\"}, {\"Shapley Value\": 0.0020779502135437056, \"Feature\": \"Event -8\", \"row\": 8, \"column\": 1, \"rounded\": 0.002, \"rounded_str\": \"0.002\"}, {\"Shapley Value\": 0.0, \"Feature\": \"Event -9\", \"row\": 9, \"column\": 1, \"rounded\": 0.0, \"rounded_str\": \"0.000\"}, {\"Shapley Value\": 0.0010056629700346265, \"Feature\": \"Event -10\", \"row\": 10, \"column\": 1, \"rounded\": 0.001, \"rounded_str\": \"0.001\"}, {\"Shapley Value\": 0.0006484381598508976, \"Feature\": \"Event -11\", \"row\": 11, \"column\": 1, \"rounded\": 0.001, \"rounded_str\": \"0.001\"}, {\"Shapley Value\": 0.0, \"Feature\": \"Event -12\", \"row\": 12, \"column\": 1, \"rounded\": 0.0, \"rounded_str\": \"0.000\"}, {\"Shapley Value\": 0.0008954010566556425, \"Feature\": \"Event -13\", \"row\": 13, \"column\": 1, \"rounded\": 0.001, \"rounded_str\": \"0.001\"}, {\"Shapley Value\": 0.006370747253591977, \"Feature\": \"Event -14\", \"row\": 14, \"column\": 1, \"rounded\": 0.006, \"rounded_str\": \"0.006\"}, {\"Shapley Value\": 0.0010782766785462222, \"Feature\": \"Event -15\", \"row\": 15, \"column\": 1, \"rounded\": 0.001, \"rounded_str\": \"0.001\"}, {\"Shapley Value\": 0.0023866255153338345, \"Feature\": \"Event -16\", \"row\": 16, \"column\": 1, \"rounded\": 0.002, \"rounded_str\": \"0.002\"}, {\"Shapley Value\": 0.005812722063964715, \"Feature\": \"Event -17\", \"row\": 17, \"column\": 1, \"rounded\": 0.006, \"rounded_str\": \"0.006\"}, {\"Shapley Value\": 0.017820931933271722, \"Feature\": \"Event -18\", \"row\": 18, \"column\": 1, \"rounded\": 0.018, \"rounded_str\": \"0.018\"}, {\"Shapley Value\": 0.0317537700446123, \"Feature\": \"Event -19\", \"row\": 19, \"column\": 1, \"rounded\": 0.032, \"rounded_str\": \"0.032\"}, {\"Shapley Value\": 0.10017700262897278, \"Feature\": \"Event -20\", \"row\": 20, \"column\": 1, \"rounded\": 0.1, \"rounded_str\": \"0.1\"}], \"data-3d28b8a23532d67c44b94e5d0909ed00\": [{\"Random seed\": 42, \"NSamples\": 32000, \"Feature\": \"dim_0\", \"Shapley Value\": 0.2960371971130371, \"sort_col\": 0.2960371971130371}], \"data-9c00aa9dc2b1c1a0b4bf9b34ead12925\": [{\"x\": 0}], \"data-9e5f34c431480417b8117c9cdb29ab31\": [{\"Event\": \"Other Events\", \"Feature\": \"dim_0\", \"Shapley Value\": 0.19678786396980286, \"rounded\": 0.197, \"rounded_str\": \"0.197\"}, {\"Event\": \"Event -20\", \"Feature\": \"dim_0\", \"Shapley Value\": 0.09924933314323425, \"rounded\": 0.099, \"rounded_str\": \"0.099\"}]}}, {\"mode\": \"vega-lite\"});\n",
       "</script>"
      ],
      "text/plain": [
       "alt.HConcatChart(...)"
      ]
     },
     "execution_count": 10,
     "metadata": {},
     "output_type": "execute_result"
    }
   ],
   "source": [
    "max_event = array.argmax()\n",
    "local_event_explaination(max_event)"
   ]
  },
  {
   "cell_type": "markdown",
   "id": "e7d0b8ba",
   "metadata": {},
   "source": [
    "The above experiment shows that event 1 is the most important event.As when we pertube keeping this as a baseline, the scores for the recommended top 10 items should increase.\n"
   ]
  },
  {
   "cell_type": "markdown",
   "id": "bf8ad676",
   "metadata": {},
   "source": [
    "<b>2. Selecting the median item.</b><br>\n",
    "This item is as likely to be recommended as it is not to be recommended."
   ]
  },
  {
   "cell_type": "code",
   "execution_count": 11,
   "id": "dd93da7b",
   "metadata": {},
   "outputs": [
    {
     "name": "stdout",
     "output_type": "stream",
     "text": [
      "Assuming all features are model features\n"
     ]
    },
    {
     "name": "stderr",
     "output_type": "stream",
     "text": [
      "The default of 'normalize' will be set to False in version 1.2 and deprecated in version 1.4.\n",
      "If you wish to scale the data, use Pipeline with a StandardScaler in a preprocessing stage. To reproduce the previous behavior:\n",
      "\n",
      "from sklearn.pipeline import make_pipeline\n",
      "\n",
      "model = make_pipeline(StandardScaler(with_mean=False), LassoLarsIC())\n",
      "\n",
      "If you wish to pass a sample_weight parameter, you need to pass it as a fit parameter to each step of the pipeline as follows:\n",
      "\n",
      "kwargs = {s[0] + '__sample_weight': sample_weight for s in model.steps}\n",
      "model.fit(X, y, **kwargs)\n",
      "\n",
      "Set parameter alpha to: original_alpha * np.sqrt(n_samples). \n"
     ]
    },
    {
     "data": {
      "text/html": [
       "\n",
       "<div id=\"altair-viz-4210922da5ea44c891e90dd108db5923\"></div>\n",
       "<script type=\"text/javascript\">\n",
       "  var VEGA_DEBUG = (typeof VEGA_DEBUG == \"undefined\") ? {} : VEGA_DEBUG;\n",
       "  (function(spec, embedOpt){\n",
       "    let outputDiv = document.currentScript.previousElementSibling;\n",
       "    if (outputDiv.id !== \"altair-viz-4210922da5ea44c891e90dd108db5923\") {\n",
       "      outputDiv = document.getElementById(\"altair-viz-4210922da5ea44c891e90dd108db5923\");\n",
       "    }\n",
       "    const paths = {\n",
       "      \"vega\": \"https://cdn.jsdelivr.net/npm//vega@5?noext\",\n",
       "      \"vega-lib\": \"https://cdn.jsdelivr.net/npm//vega-lib?noext\",\n",
       "      \"vega-lite\": \"https://cdn.jsdelivr.net/npm//vega-lite@4.17.0?noext\",\n",
       "      \"vega-embed\": \"https://cdn.jsdelivr.net/npm//vega-embed@6?noext\",\n",
       "    };\n",
       "\n",
       "    function maybeLoadScript(lib, version) {\n",
       "      var key = `${lib.replace(\"-\", \"\")}_version`;\n",
       "      return (VEGA_DEBUG[key] == version) ?\n",
       "        Promise.resolve(paths[lib]) :\n",
       "        new Promise(function(resolve, reject) {\n",
       "          var s = document.createElement('script');\n",
       "          document.getElementsByTagName(\"head\")[0].appendChild(s);\n",
       "          s.async = true;\n",
       "          s.onload = () => {\n",
       "            VEGA_DEBUG[key] = version;\n",
       "            return resolve(paths[lib]);\n",
       "          };\n",
       "          s.onerror = () => reject(`Error loading script: ${paths[lib]}`);\n",
       "          s.src = paths[lib];\n",
       "        });\n",
       "    }\n",
       "\n",
       "    function showError(err) {\n",
       "      outputDiv.innerHTML = `<div class=\"error\" style=\"color:red;\">${err}</div>`;\n",
       "      throw err;\n",
       "    }\n",
       "\n",
       "    function displayChart(vegaEmbed) {\n",
       "      vegaEmbed(outputDiv, spec, embedOpt)\n",
       "        .catch(err => showError(`Javascript Error: ${err.message}<br>This usually means there's a typo in your chart specification. See the javascript console for the full traceback.`));\n",
       "    }\n",
       "\n",
       "    if(typeof define === \"function\" && define.amd) {\n",
       "      requirejs.config({paths});\n",
       "      require([\"vega-embed\"], displayChart, err => showError(`Error loading script: ${err.message}`));\n",
       "    } else {\n",
       "      maybeLoadScript(\"vega\", \"5\")\n",
       "        .then(() => maybeLoadScript(\"vega-lite\", \"4.17.0\"))\n",
       "        .then(() => maybeLoadScript(\"vega-embed\", \"6\"))\n",
       "        .catch(showError)\n",
       "        .then(() => displayChart(vegaEmbed));\n",
       "    }\n",
       "  })({\"config\": {\"axis\": {\"domain\": true, \"domainColor\": \"#666F89\", \"grid\": false, \"gridCap\": \"round\", \"gridColor\": \"#B3B7C4\", \"gridDash\": [2, 4], \"gridWidth\": 0.5, \"labelColor\": \"#666F89\", \"labelFont\": \"Roboto, Arial, sans-serif\", \"labelPadding\": 2, \"tickColor\": \"#666F89\", \"tickOpacity\": 0.5, \"tickSize\": 4, \"titleColor\": \"#19274E\", \"titleFont\": \"Roboto, Arial, sans-serif\", \"titleFontSize\": 12}, \"axisBand\": {\"domain\": true, \"labelPadding\": 4, \"ticks\": false}, \"axisY\": {\"domain\": false, \"titleAlign\": \"left\", \"titleAngle\": 0, \"titleX\": -20, \"titleY\": -10}, \"legend\": {\"labelColor\": \"#666F89\", \"labelFont\": \"Roboto, Arial, sans-serif\", \"labelFontSize\": 12, \"symbolSize\": 40, \"titleColor\": \"#19274E\", \"titleFont\": \"Roboto, Arial, sans-serif\", \"titleFontSize\": 12, \"titlePadding\": 4}, \"arc\": {\"stroke\": \"#FFFFFF\", \"strokeWidth\": 1}, \"bar\": {\"fill\": \"#2770EB\", \"stroke\": null}, \"line\": {\"stroke\": \"#2770EB\", \"strokeWidth\": 2}, \"path\": {\"stroke\": \"#2770EB\", \"strokeWidth\": 0.5}, \"point\": {\"fill\": \"#2770EB\", \"shape\": \"circle\", \"filled\": true}, \"rect\": {\"fill\": \"#2770EB\"}, \"rule\": {\"stroke\": \"#666F89\"}, \"shape\": {\"stroke\": \"#2770EB\"}, \"text\": {\"color\": \"#19274E\", \"font\": \"Roboto, Arial, sans-serif\", \"fontSize\": 12}, \"range\": {\"category\": [\"#2770EB\", \"#77B98A\", \"#DA5252\", \"#FFC400\", \"#A87AEA\", \"#00A39E\", \"#19274E\"], \"diverging\": [\"#006360\", \"#2BB3AE\", \"#96D9D7\", \"#FFFFFF\", \"#EDAAAA\", \"#DA5252\", \"#811D1D\"], \"heatmap\": [\"#18448F\", \"#1B4EA5\", \"#2770EB\", \"#4C88EE\", \"#82ACF3\", \"#A6C4F7\", \"#E9F1FD\"], \"ramp\": [\"#18448F\", \"#1B4EA5\", \"#2770EB\", \"#4C88EE\", \"#82ACF3\", \"#A6C4F7\", \"#E9F1FD\"]}, \"background\": \"#FFFFFF\", \"group\": {\"fill\": \"#FFFFFF\"}, \"header\": {\"labelColor\": \"#19274E\", \"labelFont\": \"Roboto, Arial, sans-serif\", \"labelFontSize\": 12, \"titleColor\": \"#19274E\", \"titleFont\": \"Roboto, Arial, sans-serif\", \"titleFontSize\": 16}, \"title\": {\"anchor\": \"start\", \"color\": \"#19274E\", \"font\": \"Roboto, Arial, sans-serif\", \"fontSize\": 20, \"fontWeight\": \"bold\", \"offset\": 20, \"subtitleColor\": \"#19274E\", \"subtitleFontSize\": 16}, \"view\": {\"continuousHeight\": 300, \"continuousWidth\": 400, \"stroke\": \"transparent\"}}, \"hconcat\": [{\"layer\": [{\"mark\": {\"type\": \"area\", \"opacity\": 0.5}, \"encoding\": {\"color\": {\"field\": \"Coalition\", \"legend\": {\"fillColor\": \"white\", \"labelFontSize\": 14, \"labelLimit\": 0, \"orient\": \"top-left\", \"symbolSize\": 50, \"symbolStrokeWidth\": 0, \"title\": null}, \"scale\": {\"domain\": [\"Sum of contribution of events \\u2264 t\"], \"range\": [\"#618FE0\"]}, \"type\": \"nominal\"}, \"x\": {\"axis\": {\"labelFontSize\": 15, \"title\": \"t (event index)\", \"titleFontSize\": 15}, \"field\": \"t (event index)\", \"type\": \"quantitative\"}, \"y\": {\"axis\": {\"grid\": true, \"labelFontSize\": 15, \"titleFontSize\": 15, \"titleX\": -28}, \"field\": \"Shapley Value\", \"scale\": {\"domain\": [-0.05, 1]}, \"type\": \"quantitative\"}}}, {\"mark\": \"line\", \"encoding\": {\"color\": {\"field\": \"Coalition\", \"legend\": {\"fillColor\": \"white\", \"labelFontSize\": 14, \"labelLimit\": 0, \"orient\": \"top-left\", \"symbolSize\": 50, \"symbolStrokeWidth\": 0, \"title\": null}, \"scale\": {\"domain\": [\"Sum of contribution of events \\u2264 t\"], \"range\": [\"#618FE0\"]}, \"type\": \"nominal\"}, \"x\": {\"axis\": {\"labelFontSize\": 15, \"title\": \"t (event index)\", \"titleFontSize\": 15}, \"field\": \"t (event index)\", \"type\": \"quantitative\"}, \"y\": {\"axis\": {\"grid\": true, \"labelFontSize\": 15, \"titleFontSize\": 15, \"titleX\": -28}, \"field\": \"Shapley Value\", \"scale\": {\"domain\": [-0.05, 1]}, \"type\": \"quantitative\"}}}, {\"data\": {\"name\": \"data-a5230d44a0ee90255047fc67d1705c8b\"}, \"mark\": {\"type\": \"rule\", \"color\": \"#E17560\"}, \"encoding\": {\"x\": {\"field\": \"x\", \"type\": \"quantitative\"}}}, {\"data\": {\"name\": \"data-ee8aec25528fa53b6011f1eacee6f6c5\"}, \"mark\": {\"type\": \"text\", \"angle\": 270, \"color\": \"#E17560\", \"fontSize\": 15, \"fontWeight\": \"bold\", \"text\": \"Pruning\"}, \"encoding\": {\"x\": {\"field\": \"x\", \"type\": \"quantitative\"}}}], \"data\": {\"name\": \"data-6fec4268483ad077941dd2ec0c7b78eb\"}, \"height\": 225, \"width\": 350}, {\"layer\": [{\"mark\": \"rect\", \"encoding\": {\"color\": {\"field\": \"rounded\", \"legend\": {\"gradientLength\": 225, \"gradientThickness\": 10, \"labelFontSize\": 15, \"orient\": \"right\"}, \"scale\": {\"domain\": [-0.5, 0.5], \"range\": [\"#5f8fd6\", \"#99c3fb\", \"#f5f5f5\", \"#ffaa92\", \"#d16f5b\"]}, \"title\": null, \"type\": \"quantitative\"}, \"x\": {\"axis\": {\"title\": \"Shapley Value\", \"titleFontSize\": 15}, \"field\": \"column\", \"type\": \"ordinal\"}, \"y\": {\"axis\": {\"domain\": false, \"labelFontSize\": 15, \"title\": \"Event\", \"titleFontSize\": 15, \"titleX\": -49}, \"field\": \"Feature\", \"sort\": [\"Event -1\", \"Event -2\", \"Event -3\", \"Event -4\", \"Event -5\", \"Event -6\", \"Event -7\", \"Event -8\", \"Event -9\", \"Event -10\", \"Event -11\", \"Event -12\", \"Event -13\", \"Event -14\", \"Event -15\", \"Event -16\", \"Event -17\", \"Event -18\", \"Event -19\", \"Event -20\"], \"type\": \"ordinal\"}}}, {\"mark\": {\"type\": \"text\", \"align\": \"right\", \"baseline\": \"middle\", \"color\": \"#798184\", \"dx\": 18, \"fontSize\": 15}, \"encoding\": {\"text\": {\"field\": \"rounded_str\", \"type\": \"nominal\"}, \"x\": {\"axis\": {\"domain\": false, \"labels\": false, \"title\": \"Shapley Value\", \"titleX\": 43}, \"field\": \"column\", \"type\": \"ordinal\"}, \"y\": {\"axis\": {\"domain\": false, \"labelFontSize\": 15, \"title\": \"Event\", \"titleFontSize\": 15, \"titleX\": -49}, \"field\": \"Feature\", \"sort\": [\"Event -1\", \"Event -2\", \"Event -3\", \"Event -4\", \"Event -5\", \"Event -6\", \"Event -7\", \"Event -8\", \"Event -9\", \"Event -10\", \"Event -11\", \"Event -12\", \"Event -13\", \"Event -14\", \"Event -15\", \"Event -16\", \"Event -17\", \"Event -18\", \"Event -19\", \"Event -20\"], \"type\": \"ordinal\"}}}], \"data\": {\"name\": \"data-57af623955dba1abc1ed0a22c036fe70\"}, \"height\": 225, \"width\": 60}, {\"layer\": [{\"data\": {\"name\": \"data-cfbc8bd69eb0ca03f7bbc82a656cf9a0\"}, \"mark\": {\"type\": \"bar\", \"size\": 15, \"thickness\": 1}, \"encoding\": {\"x\": {\"axis\": {\"grid\": true, \"labelFontSize\": 15, \"title\": \"Shapley Value\", \"titleFontSize\": 15}, \"field\": \"Shapley Value\", \"scale\": {\"domain\": [-0.1, 0.4]}, \"type\": \"quantitative\"}, \"y\": {\"axis\": {\"labelFontSize\": 15, \"title\": \"Feature\", \"titleFontSize\": 15, \"titleX\": -61}, \"field\": \"Feature\", \"sort\": {\"field\": \"sort_col\", \"order\": \"descending\"}, \"type\": \"nominal\"}}}, {\"data\": {\"name\": \"data-9c00aa9dc2b1c1a0b4bf9b34ead12925\"}, \"mark\": {\"type\": \"rule\", \"color\": \"#798184\"}, \"encoding\": {\"x\": {\"field\": \"x\", \"type\": \"quantitative\"}}}], \"height\": 225, \"width\": 190}, {\"layer\": [{\"mark\": \"rect\", \"encoding\": {\"color\": {\"field\": \"rounded\", \"legend\": {\"gradientLength\": 225, \"gradientThickness\": 10, \"labelFontSize\": 15, \"orient\": \"right\"}, \"scale\": {\"domain\": [-0.5, 0.5], \"range\": [\"#5f8fd6\", \"#99c3fb\", \"#f5f5f5\", \"#ffaa92\", \"#d16f5b\"]}, \"title\": null, \"type\": \"quantitative\"}, \"x\": {\"axis\": {\"titleFontSize\": 15}, \"field\": \"Event\", \"sort\": [\"Event -1\"], \"type\": \"nominal\"}, \"y\": {\"axis\": {\"domain\": false, \"labelFontSize\": 15, \"title\": null}, \"field\": \"Feature\", \"sort\": [], \"type\": \"nominal\"}}}, {\"mark\": {\"type\": \"text\", \"align\": \"right\", \"baseline\": \"middle\", \"color\": \"#798184\", \"dx\": 18, \"fontSize\": 15}, \"encoding\": {\"text\": {\"field\": \"rounded_str\", \"type\": \"nominal\"}, \"x\": {\"axis\": {\"domain\": false, \"labelAngle\": 30, \"labelFontSize\": 15, \"orient\": \"top\", \"title\": \"Shapley Value\", \"titleX\": 172, \"titleY\": 245}, \"field\": \"Event\", \"sort\": [\"Event -1\"], \"type\": \"nominal\"}, \"y\": {\"axis\": {\"domain\": false, \"labelFontSize\": 15, \"title\": null}, \"field\": \"Feature\", \"sort\": [], \"type\": \"nominal\"}}}], \"data\": {\"name\": \"data-49d9888c7fa2252b1c3009fddbfe7fe8\"}, \"height\": 225, \"width\": 160}], \"resolve\": {\"scale\": {\"color\": \"independent\"}}, \"$schema\": \"https://vega.github.io/schema/vega-lite/v4.17.0.json\", \"datasets\": {\"data-6fec4268483ad077941dd2ec0c7b78eb\": [{\"Coalition\": \"Sum of contribution of events > t\", \"t (event index)\": 0, \"Shapley Value\": -5.960464477539063e-08}, {\"Coalition\": \"Sum of contribution of events \\u2264 t\", \"t (event index)\": 0, \"Shapley Value\": 0.1850440502166748}, {\"Coalition\": \"Sum of contribution of events > t\", \"t (event index)\": -1, \"Shapley Value\": 0.05068184435367584}, {\"Coalition\": \"Sum of contribution of events \\u2264 t\", \"t (event index)\": -1, \"Shapley Value\": 0.1343621462583542}, {\"Coalition\": \"Sum of contribution of events > t\", \"t (event index)\": -2, \"Shapley Value\": 0.0388529896736145}, {\"Coalition\": \"Sum of contribution of events \\u2264 t\", \"t (event index)\": -2, \"Shapley Value\": 0.14619100093841553}, {\"Coalition\": \"Sum of contribution of events > t\", \"t (event index)\": -3, \"Shapley Value\": 0.020181551575660706}, {\"Coalition\": \"Sum of contribution of events \\u2264 t\", \"t (event index)\": -3, \"Shapley Value\": 0.16486243903636932}, {\"Coalition\": \"Sum of contribution of events > t\", \"t (event index)\": -4, \"Shapley Value\": -0.0001979619264602661}, {\"Coalition\": \"Sum of contribution of events \\u2264 t\", \"t (event index)\": -4, \"Shapley Value\": 0.1852419525384903}, {\"Coalition\": \"Sum of contribution of events > t\", \"t (event index)\": -5, \"Shapley Value\": 0.002183079719543457}, {\"Coalition\": \"Sum of contribution of events \\u2264 t\", \"t (event index)\": -5, \"Shapley Value\": 0.18286091089248657}, {\"Coalition\": \"Sum of contribution of events > t\", \"t (event index)\": -6, \"Shapley Value\": 0.012709200382232666}, {\"Coalition\": \"Sum of contribution of events \\u2264 t\", \"t (event index)\": -6, \"Shapley Value\": 0.17233479022979736}, {\"Coalition\": \"Sum of contribution of events > t\", \"t (event index)\": -7, \"Shapley Value\": 0.01775220036506653}, {\"Coalition\": \"Sum of contribution of events \\u2264 t\", \"t (event index)\": -7, \"Shapley Value\": 0.1672917902469635}, {\"Coalition\": \"Sum of contribution of events > t\", \"t (event index)\": -8, \"Shapley Value\": 0.02880781888961792}, {\"Coalition\": \"Sum of contribution of events \\u2264 t\", \"t (event index)\": -8, \"Shapley Value\": 0.1562361717224121}, {\"Coalition\": \"Sum of contribution of events > t\", \"t (event index)\": -9, \"Shapley Value\": 0.05190354585647583}, {\"Coalition\": \"Sum of contribution of events \\u2264 t\", \"t (event index)\": -9, \"Shapley Value\": 0.1331404447555542}, {\"Coalition\": \"Sum of contribution of events > t\", \"t (event index)\": -10, \"Shapley Value\": 0.07368716597557068}, {\"Coalition\": \"Sum of contribution of events \\u2264 t\", \"t (event index)\": -10, \"Shapley Value\": 0.11135682463645935}, {\"Coalition\": \"Sum of contribution of events > t\", \"t (event index)\": -11, \"Shapley Value\": 0.08546018600463867}, {\"Coalition\": \"Sum of contribution of events \\u2264 t\", \"t (event index)\": -11, \"Shapley Value\": 0.09958380460739136}, {\"Coalition\": \"Sum of contribution of events > t\", \"t (event index)\": -12, \"Shapley Value\": 0.0799780786037445}, {\"Coalition\": \"Sum of contribution of events \\u2264 t\", \"t (event index)\": -12, \"Shapley Value\": 0.10506591200828552}, {\"Coalition\": \"Sum of contribution of events > t\", \"t (event index)\": -13, \"Shapley Value\": 0.07151170074939728}, {\"Coalition\": \"Sum of contribution of events \\u2264 t\", \"t (event index)\": -13, \"Shapley Value\": 0.11353228986263275}, {\"Coalition\": \"Sum of contribution of events > t\", \"t (event index)\": -14, \"Shapley Value\": 0.10425019264221191}, {\"Coalition\": \"Sum of contribution of events \\u2264 t\", \"t (event index)\": -14, \"Shapley Value\": 0.08079379796981812}, {\"Coalition\": \"Sum of contribution of events > t\", \"t (event index)\": -15, \"Shapley Value\": 0.09911799430847168}, {\"Coalition\": \"Sum of contribution of events \\u2264 t\", \"t (event index)\": -15, \"Shapley Value\": 0.08592599630355835}, {\"Coalition\": \"Sum of contribution of events > t\", \"t (event index)\": -16, \"Shapley Value\": 0.09996658563613892}, {\"Coalition\": \"Sum of contribution of events \\u2264 t\", \"t (event index)\": -16, \"Shapley Value\": 0.08507740497589111}, {\"Coalition\": \"Sum of contribution of events > t\", \"t (event index)\": -17, \"Shapley Value\": 0.09603986144065857}, {\"Coalition\": \"Sum of contribution of events \\u2264 t\", \"t (event index)\": -17, \"Shapley Value\": 0.08900412917137146}, {\"Coalition\": \"Sum of contribution of events > t\", \"t (event index)\": -18, \"Shapley Value\": 0.10049799084663391}, {\"Coalition\": \"Sum of contribution of events \\u2264 t\", \"t (event index)\": -18, \"Shapley Value\": 0.08454599976539612}, {\"Coalition\": \"Sum of contribution of events > t\", \"t (event index)\": -19, \"Shapley Value\": 0.1197599470615387}, {\"Coalition\": \"Sum of contribution of events \\u2264 t\", \"t (event index)\": -19, \"Shapley Value\": 0.06528404355049133}, {\"Coalition\": \"Sum of contribution of events > t\", \"t (event index)\": -20, \"Shapley Value\": 0.1850440502166748}, {\"Coalition\": \"Sum of contribution of events \\u2264 t\", \"t (event index)\": -20, \"Shapley Value\": -5.960464477539063e-08}], \"data-a5230d44a0ee90255047fc67d1705c8b\": [{\"x\": -20}], \"data-ee8aec25528fa53b6011f1eacee6f6c5\": [{\"x\": -22}], \"data-57af623955dba1abc1ed0a22c036fe70\": [{\"Shapley Value\": 0.08026652166324305, \"Feature\": \"Event -1\", \"row\": 1, \"column\": 1, \"rounded\": 0.08, \"rounded_str\": \"0.080\"}, {\"Shapley Value\": -0.03436694730865746, \"Feature\": \"Event -2\", \"row\": 2, \"column\": 1, \"rounded\": -0.034, \"rounded_str\": \"-0.034\"}, {\"Shapley Value\": 0.0, \"Feature\": \"Event -3\", \"row\": 3, \"column\": 1, \"rounded\": 0.0, \"rounded_str\": \"0.000\"}, {\"Shapley Value\": -0.02674779030500759, \"Feature\": \"Event -4\", \"row\": 4, \"column\": 1, \"rounded\": -0.027, \"rounded_str\": \"-0.027\"}, {\"Shapley Value\": 0.0, \"Feature\": \"Event -5\", \"row\": 5, \"column\": 1, \"rounded\": 0.0, \"rounded_str\": \"0.000\"}, {\"Shapley Value\": 0.0, \"Feature\": \"Event -6\", \"row\": 6, \"column\": 1, \"rounded\": 0.0, \"rounded_str\": \"0.000\"}, {\"Shapley Value\": 0.0017732892919479631, \"Feature\": \"Event -7\", \"row\": 7, \"column\": 1, \"rounded\": 0.002, \"rounded_str\": \"0.002\"}, {\"Shapley Value\": 0.013140713569061047, \"Feature\": \"Event -8\", \"row\": 8, \"column\": 1, \"rounded\": 0.013, \"rounded_str\": \"0.013\"}, {\"Shapley Value\": 0.005817420181441886, \"Feature\": \"Event -9\", \"row\": 9, \"column\": 1, \"rounded\": 0.006, \"rounded_str\": \"0.006\"}, {\"Shapley Value\": 0.0017449328735245767, \"Feature\": \"Event -10\", \"row\": 10, \"column\": 1, \"rounded\": 0.002, \"rounded_str\": \"0.002\"}, {\"Shapley Value\": 0.0030791171025774805, \"Feature\": \"Event -11\", \"row\": 11, \"column\": 1, \"rounded\": 0.003, \"rounded_str\": \"0.003\"}, {\"Shapley Value\": 0.002008443244544099, \"Feature\": \"Event -12\", \"row\": 12, \"column\": 1, \"rounded\": 0.002, \"rounded_str\": \"0.002\"}, {\"Shapley Value\": 0.00566599286355441, \"Feature\": \"Event -13\", \"row\": 13, \"column\": 1, \"rounded\": 0.006, \"rounded_str\": \"0.006\"}, {\"Shapley Value\": 0.011557029445817268, \"Feature\": \"Event -14\", \"row\": 14, \"column\": 1, \"rounded\": 0.012, \"rounded_str\": \"0.012\"}, {\"Shapley Value\": 0.0028874153814798242, \"Feature\": \"Event -15\", \"row\": 15, \"column\": 1, \"rounded\": 0.003, \"rounded_str\": \"0.003\"}, {\"Shapley Value\": 0.00746549876397945, \"Feature\": \"Event -16\", \"row\": 16, \"column\": 1, \"rounded\": 0.007, \"rounded_str\": \"0.007\"}, {\"Shapley Value\": 0.007933892452787236, \"Feature\": \"Event -17\", \"row\": 17, \"column\": 1, \"rounded\": 0.008, \"rounded_str\": \"0.008\"}, {\"Shapley Value\": 0.018099172909766634, \"Feature\": \"Event -18\", \"row\": 18, \"column\": 1, \"rounded\": 0.018, \"rounded_str\": \"0.018\"}, {\"Shapley Value\": 0.01680692005761307, \"Feature\": \"Event -19\", \"row\": 19, \"column\": 1, \"rounded\": 0.017, \"rounded_str\": \"0.017\"}, {\"Shapley Value\": 0.06791236842435709, \"Feature\": \"Event -20\", \"row\": 20, \"column\": 1, \"rounded\": 0.068, \"rounded_str\": \"0.068\"}], \"data-cfbc8bd69eb0ca03f7bbc82a656cf9a0\": [{\"Random seed\": 42, \"NSamples\": 32000, \"Feature\": \"dim_0\", \"Shapley Value\": 0.18504399061203003, \"sort_col\": 0.18504399061203003}], \"data-9c00aa9dc2b1c1a0b4bf9b34ead12925\": [{\"x\": 0}], \"data-49d9888c7fa2252b1c3009fddbfe7fe8\": [{\"Event\": \"Other Events\", \"Feature\": \"dim_0\", \"Shapley Value\": 0.1343621462583542, \"rounded\": 0.134, \"rounded_str\": \"0.134\"}, {\"Event\": \"Event -1\", \"Feature\": \"dim_0\", \"Shapley Value\": 0.05068184435367584, \"rounded\": 0.051, \"rounded_str\": \"0.051\"}]}}, {\"mode\": \"vega-lite\"});\n",
       "</script>"
      ],
      "text/plain": [
       "alt.HConcatChart(...)"
      ]
     },
     "execution_count": 11,
     "metadata": {},
     "output_type": "execute_result"
    }
   ],
   "source": [
    "median_event = np.argsort(array)[len(array)//2]\n",
    "local_event_explaination(median_event)"
   ]
  },
  {
   "cell_type": "markdown",
   "id": "dcebf626",
   "metadata": {},
   "source": [
    "Based on this experiment,there is not a large difference between selecting median or the minimum scored item."
   ]
  },
  {
   "cell_type": "markdown",
   "id": "47e9d7d9",
   "metadata": {},
   "source": [
    "### Test Interaction 2\n",
    "\n",
    "An interaction is randomly selected from the test dataset(Leave one out CV is done when training the model). Now, its event wise calculations are calculated."
   ]
  },
  {
   "cell_type": "code",
   "execution_count": null,
   "id": "c8b7acb8",
   "metadata": {},
   "outputs": [],
   "source": [
    "model_check = GRU4Recold(args,corpus)\n",
    "model_check.load_state_dict(torch.load(file_path))\n",
    "## Set the interactions here(Since local, there is only 1 instance)\n",
    "history_items = [[2558, 1247, 3318,  364, 1246,  690,    1, 1898, 1900, 2776, 1905, 1248,\n",
    "        1818, 2506, 2653, 1217, 2100,  496, 1203, 1107]]\n",
    "## lengths\n",
    "lengths = [len(x) for x in history_items]\n",
    "batch_size = len(history_items)\n",
    "sample = {'history_items':torch.tensor(history_items),\\\n",
    "         'lengths':torch.tensor(lengths),'batch_size':batch_size}\n",
    "sample_input = torch.tensor(pd.DataFrame(history_items).values).unsqueeze(2)\n",
    "array = model_check.predict_scores(sample_input).detach().numpy()[0]"
   ]
  },
  {
   "cell_type": "code",
   "execution_count": null,
   "id": "0ba6d458",
   "metadata": {},
   "outputs": [],
   "source": [
    "fig,axes = plt.subplots()\n",
    "axes.hist(array,bins = 100);\n",
    "axes.set_title('Distribution of scores of all items for selected interaction');"
   ]
  },
  {
   "cell_type": "markdown",
   "id": "bfb4cef6",
   "metadata": {},
   "source": [
    "Note: \n",
    "Since, the distribution of scores has changed for each interaction or for each perturbed interaction, there is a need to \n",
    "normalize the scores in order to compare SHAPLEY values across interactions or when calculating global explanations."
   ]
  },
  {
   "cell_type": "code",
   "execution_count": null,
   "id": "9d91edc1",
   "metadata": {},
   "outputs": [],
   "source": [
    "median_event = np.argsort(array)[len(array)//2]\n",
    "local_event_explaination(median_event)"
   ]
  },
  {
   "cell_type": "code",
   "execution_count": null,
   "id": "fc8eb700",
   "metadata": {},
   "outputs": [],
   "source": [
    "max_event = array.argmax()\n",
    "local_event_explaination(max_event)"
   ]
  },
  {
   "cell_type": "code",
   "execution_count": null,
   "id": "063e641c",
   "metadata": {},
   "outputs": [],
   "source": [
    "min_event = array.argmin()\n",
    "local_event_explaination(min_event)"
   ]
  },
  {
   "cell_type": "code",
   "execution_count": null,
   "id": "80685fc4",
   "metadata": {},
   "outputs": [],
   "source": [
    "local_event_explaination(0)"
   ]
  },
  {
   "cell_type": "markdown",
   "id": "9aa4ed55",
   "metadata": {},
   "source": [
    "### TODO\n",
    "1. Generate global explanations by normalizing scores.\n",
    "2. Metric based SHAPLEY calculation:Revise and check values for NDCGs.(In this method, the choice of baseline does not matter. Normalizing is not necessary)"
   ]
  }
 ],
 "metadata": {
  "kernelspec": {
   "display_name": "Python 3 (ipykernel)",
   "language": "python",
   "name": "python3"
  },
  "language_info": {
   "codemirror_mode": {
    "name": "ipython",
    "version": 3
   },
   "file_extension": ".py",
   "mimetype": "text/x-python",
   "name": "python",
   "nbconvert_exporter": "python",
   "pygments_lexer": "ipython3",
   "version": "3.9.13"
  }
 },
 "nbformat": 4,
 "nbformat_minor": 5
}
